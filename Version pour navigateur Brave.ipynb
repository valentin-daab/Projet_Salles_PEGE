{
 "cells": [
  {
   "cell_type": "code",
   "execution_count": null,
   "id": "a12cde83",
   "metadata": {},
   "outputs": [],
   "source": [
    "import datetime\n",
    "import os\n",
    "import re\n",
    "from bs4 import BeautifulSoup\n",
    "import requests\n",
    "import numpy as np\n",
    "import pandas as pd\n",
    "from requests_html import HTMLSession\n",
    "#import portion as p\n",
    "\n",
    "# Selenium / Webdriver\n",
    "from selenium import webdriver\n",
    "from webdriver_manager.chrome import ChromeDriverManager\n",
    "from selenium.webdriver.chrome.service import Service\n",
    "from selenium.webdriver.common.by import By\n",
    "from selenium.common.exceptions import NoSuchElementException\n",
    "from selenium.common.exceptions import ElementNotInteractableException\n",
    "\n",
    "import time\n",
    "from datetime import datetime\n",
    "import getpass # demander le mot de passe sans l'afficher\n",
    "\n",
    "# Ouvrir l'explorateur de fichier\n",
    "from tkinter import *\n",
    "from tkinter.filedialog import askopenfilename\n",
    "\n",
    "# Pb dictionnaire\n",
    "from collections import defaultdict\n",
    "\n",
    "# Couleurs\n",
    "from colorama import Fore"
   ]
  },
  {
   "cell_type": "code",
   "execution_count": null,
   "id": "83bc668b",
   "metadata": {},
   "outputs": [],
   "source": [
    "#Message d'avertissement\n",
    "print (\"L'utilisation de ce programme nécessite la modification de votre emploi du temps\")"
   ]
  },
  {
   "cell_type": "code",
   "execution_count": null,
   "id": "d369bf63",
   "metadata": {},
   "outputs": [],
   "source": [
    "#permet d'avoir des blocs plus larges\n",
    "from IPython.core.display import display, HTML\n",
    "display(HTML(\"<style>.container { width:85% !important; }</style>\"))"
   ]
  },
  {
   "cell_type": "code",
   "execution_count": null,
   "id": "c13e989b",
   "metadata": {},
   "outputs": [],
   "source": [
    "url_edt = 'https://monemploidutemps.unistra.fr/consult/calendar'"
   ]
  },
  {
   "cell_type": "code",
   "execution_count": null,
   "id": "9d4debb0",
   "metadata": {},
   "outputs": [],
   "source": [
    "etage = input(\"A quel étage cherchez vous une salle ? \\n RDC : 0 \\n 2 ème : 2 \\n 3 ème : 3 \\n\")"
   ]
  },
  {
   "cell_type": "code",
   "execution_count": null,
   "id": "dc5d9bf7",
   "metadata": {},
   "outputs": [],
   "source": [
    "def get_paths():\n",
    "    global driver_path\n",
    "    global browser_path\n",
    "    root = Tk()\n",
    "    root.update()\n",
    "    print('Sélectionnez le fichier chromedriver.exe')\n",
    "    driver_path = askopenfilename(title = 'Sélectionnez le fichier chromedriver.exe')\n",
    "    print('Sélectionnez le .exe du navigateur')\n",
    "    root.withdraw()\n",
    "    browser_path = askopenfilename(title = 'Sélectionnez le .exe du navigateur')\n",
    "    root.destroy()"
   ]
  },
  {
   "cell_type": "code",
   "execution_count": null,
   "id": "3e25db0b",
   "metadata": {
    "scrolled": true
   },
   "outputs": [],
   "source": [
    "get_paths()"
   ]
  },
  {
   "cell_type": "code",
   "execution_count": null,
   "id": "b68a87d5",
   "metadata": {},
   "outputs": [],
   "source": [
    "option = webdriver.ChromeOptions()\n",
    "option.binary_location = browser_path\n",
    "s = Service(driver_path)\n",
    "driver = webdriver.Chrome(service = s, options = option)\n",
    "driver.get(url_edt)"
   ]
  },
  {
   "cell_type": "code",
   "execution_count": null,
   "id": "fcc38714",
   "metadata": {},
   "outputs": [],
   "source": [
    "#### FONCTION COMPLETE POUR SE CONNECTER ####\n",
    "\n",
    "#### User input pour demander le mot de passe\n",
    "def get_user_info():\n",
    "    global username \n",
    "    global password\n",
    "    username = input('Identifiant UNISTRA?')\n",
    "    password = getpass.getpass('Mot de passe UNISTRA?')\n",
    "\n",
    "#### Connexion au compte UNISTRA\n",
    "def connect():\n",
    "    driver.find_element(By.ID, 'username').send_keys(username)\n",
    "    driver.find_element(By.ID, 'password').send_keys(password)\n",
    "    driver.find_element(By.ID, 'login-btn').click()\n",
    "\n",
    "#### Check si on est encore sur la page de login\n",
    "def check_login():\n",
    "    try:\n",
    "        driver.find_element(By.CLASS_NAME, 'login')\n",
    "    except NoSuchElementException:\n",
    "        return False\n",
    "    return True\n",
    "\n",
    "#### FONCTION COMPLETE ####\n",
    "def connect_user():\n",
    "    get_user_info()\n",
    "    connect()\n",
    "    while check_login():\n",
    "        driver.find_element(By.ID, 'username').clear() #permet d'effacer l'input qui reste dans le login\n",
    "        print('Mot de passe ou Identifiant incorrect, veuillez réessayer.')\n",
    "        connect_user()\n",
    "    return print('Connexion Réussie.')"
   ]
  },
  {
   "cell_type": "code",
   "execution_count": null,
   "id": "a39a5020",
   "metadata": {
    "scrolled": true
   },
   "outputs": [],
   "source": [
    "connect_user()"
   ]
  },
  {
   "cell_type": "code",
   "execution_count": null,
   "id": "08a7d22a",
   "metadata": {},
   "outputs": [],
   "source": [
    "#### A GARDER POUR L'INSTANT J'AI TOUJOURS LE PROBLEME ####\n",
    "\n",
    "#### Si ça a bloqué le code\n",
    "#####def check_error():\n",
    "#####    try:\n",
    "#####        driver.find_element(By.XPATH, (\"(//i[@role='button'])[3]\"))\n",
    "#####    except ElementNotInteractableException:\n",
    "#####        return False\n",
    "#####    return True\n",
    "#####\n",
    "######### Fonction pour retirer le blocage\n",
    "#####def remove_block():\n",
    "#####    driver.execute_script(\"\"\"\n",
    "#####   var l = document.getElementsByClassName(\"v-overlay v-overlay--active theme--dark\")[0];\n",
    "#####   l.parentNode.removeChild(l);\n",
    "#####\"\"\")\n",
    "#####    \n",
    "######### Fonction complète enlever blocage\n",
    "#####def full_remove_block():\n",
    "#####    while check_error():\n",
    "#####        remove_block()\n",
    "#####        driver.find_element(By.XPATH, (\"(//i[@role='button'])[3]\")).click()"
   ]
  },
  {
   "cell_type": "code",
   "execution_count": null,
   "id": "7575bcc4",
   "metadata": {},
   "outputs": [],
   "source": [
    "#### CLIQUEUR AVANT DE COCHER LES CASES ####\n",
    "def clicker_pour_modifier():\n",
    "    # Cliquer sur le menu\n",
    "    driver.find_element(By.CSS_SELECTOR, '#app-toolbar > div > button.v-app-bar__nav-icon.hidden-md-and-up.v-btn.v-btn--flat.v-btn--icon.v-btn--round.theme--dark.v-size--default > span > i').click()\n",
    "    time.sleep(5.0)\n",
    "    # Cliquer sur personnaliser\n",
    "    driver.find_element(By.CSS_SELECTOR, '#unistra-schedule > div.v-application--wrap > div > nav > div.v-navigation-drawer__content > div > a:nth-child(1)').click() # ici en fonction  de la position de l'élément\n",
    "    time.sleep(5.0)\n",
    "    # Cliquer sur 'Modifier la sélection'\n",
    "    driver.find_element(By.XPATH, '//strong[normalize-space()=\"Modifier la sélection\"]').click() #ici grâce au texte sur le bouton\n",
    "    time.sleep(5.0)\n",
    "    # Cliquer sur 'Salles'\n",
    "    driver.find_element(By.XPATH, (\"(//i[@role='button'])[3]\")).click() #ici en fonction de la position du bouton dans la liste des boutons\n",
    "    time.sleep(4.0)\n",
    "    # Cliquer sur 'Foret Noire'\n",
    "    driver.find_element(By.XPATH, (\"(//i[@role='button'])[4]\")).click()\n",
    "    time.sleep(4.0)\n",
    "    # Cliquer sur 'PEGE'\n",
    "    driver.find_element(By.XPATH, (\"(//i[@role='button'])[7]\")).click()\n",
    "    time.sleep(4.0)\n",
    "    # Cliquer sur 'FSEG'\n",
    "    driver.find_element(By.XPATH, (\"(//i[@role='button'])[10]\")).click()\n",
    "    time.sleep(4.0)\n",
    "    # Cliquer sur 'FSEG-Salles de cours'\n",
    "    driver.find_element(By.XPATH, (\"(//i[@role='button'])[12]\")).click()\n",
    "    time.sleep(4.0)\n",
    "\n",
    "clicker_pour_modifier()\n",
    "    \n",
    "    "
   ]
  },
  {
   "cell_type": "code",
   "execution_count": null,
   "id": "33ae06af",
   "metadata": {},
   "outputs": [],
   "source": [
    "#Retrait de son edt\n",
    "\n",
    "#ATTENTION CHEZ MOI(Louis) NE FONCTIONNE QU'EN HAUT DE LA PAGE\n",
    "# Déselection des salles \n",
    "def deselectionneur():\n",
    "    compteur = 1\n",
    "    driver.find_element(By.CLASS_NAME, 'v-list-item__action.my-0.mr-3').click()\n",
    "    time.sleep(1.0)\n",
    "\n",
    "deselectionneur()\n"
   ]
  },
  {
   "cell_type": "code",
   "execution_count": null,
   "id": "464cf33e",
   "metadata": {},
   "outputs": [],
   "source": [
    "#### COCHEUR DE CASES ####\n",
    "\n",
    "# Vu que c'est long ajouter barre de chargement?\n",
    "\n",
    "## Salles RDC ##\n",
    "def RDC() :\n",
    "    driver.find_element(By.XPATH, (\"(//div[@class='v-input--selection-controls__input'])[3]\")).click()\n",
    "    time.sleep(1.5)\n",
    "    driver.find_element(By.XPATH, (\"(//div[@class='v-input--selection-controls__input'])[4]\")).click()\n",
    "    time.sleep(1.5)\n",
    "    driver.find_element(By.XPATH, (\"(//div[@class='v-input--selection-controls__input'])[5]\")).click()\n",
    "    time.sleep(1.5)\n",
    "    driver.find_element(By.XPATH, (\"(//div[@class='v-input--selection-controls__input'])[6]\")).click()\n",
    "    time.sleep(1.5)\n",
    "    driver.find_element(By.XPATH, (\"(//div[@class='v-input--selection-controls__input'])[7]\")).click()\n",
    "    time.sleep(1.5)\n",
    "    driver.find_element(By.XPATH, (\"(//div[@class='v-input--selection-controls__input'])[8]\")).click()\n",
    "    time.sleep(1.5)\n",
    "    driver.find_element(By.XPATH, (\"(//div[@class='v-input--selection-controls__input'])[9]\")).click()\n",
    "    time.sleep(1.5)\n",
    "    driver.find_element(By.XPATH, (\"(//div[@class='v-input--selection-controls__input'])[10]\")).click()\n",
    "    time.sleep(1.5)\n",
    "    driver.find_element(By.XPATH, (\"(//div[@class='v-input--selection-controls__input'])[11]\")).click()\n",
    "    time.sleep(1.5)\n",
    "    driver.find_element(By.XPATH, (\"(//div[@class='v-input--selection-controls__input'])[12]\")).click()\n",
    "    time.sleep(1.5)\n",
    "    driver.find_element(By.XPATH, (\"(//div[@class='v-input--selection-controls__input'])[13]\")).click()\n",
    "    time.sleep(1.5)\n",
    "    driver.find_element(By.XPATH, (\"(//div[@class='v-input--selection-controls__input'])[14]\")).click()\n",
    "    time.sleep(1.5)\n",
    "    driver.find_element(By.XPATH, (\"(//div[@class='v-input--selection-controls__input'])[15]\")).click()"
   ]
  },
  {
   "cell_type": "code",
   "execution_count": null,
   "id": "e86354e1",
   "metadata": {},
   "outputs": [],
   "source": [
    "## Salles 2e ##\n",
    "def deuxieme() :\n",
    "    driver.find_element(By.XPATH, (\"(//div[@class='v-input--selection-controls__input'])[16]\")).click()\n",
    "    time.sleep(1.5)\n",
    "    driver.find_element(By.XPATH, (\"(//div[@class='v-input--selection-controls__input'])[17]\")).click()\n",
    "    time.sleep(1.5)\n",
    "    driver.find_element(By.XPATH, (\"(//div[@class='v-input--selection-controls__input'])[18]\")).click()"
   ]
  },
  {
   "cell_type": "code",
   "execution_count": null,
   "id": "d224dc85",
   "metadata": {},
   "outputs": [],
   "source": [
    "## Salles 3e ##\n",
    "def troisieme() :\n",
    "    driver.find_element(By.XPATH, (\"(//div[@class='v-input--selection-controls__input'])[19]\")).click()\n",
    "    time.sleep(1.5)\n",
    "    driver.find_element(By.XPATH, (\"(//div[@class='v-input--selection-controls__input'])[20]\")).click()\n",
    "    time.sleep(1.5)\n",
    "    driver.find_element(By.XPATH, (\"(//div[@class='v-input--selection-controls__input'])[21]\")).click()\n",
    "    time.sleep(1.5)\n",
    "    driver.find_element(By.XPATH, (\"(//div[@class='v-input--selection-controls__input'])[22]\")).click()\n",
    "    time.sleep(1.5)\n",
    "    driver.find_element(By.XPATH, (\"(//div[@class='v-input--selection-controls__input'])[23]\")).click()\n",
    "    time.sleep(1.5)\n",
    "    driver.find_element(By.XPATH, (\"(//div[@class='v-input--selection-controls__input'])[24]\")).click()\n",
    "    time.sleep(1.5)\n",
    "    driver.find_element(By.XPATH, (\"(//div[@class='v-input--selection-controls__input'])[25]\")).click()\n",
    "    time.sleep(1.5)\n",
    "    driver.find_element(By.XPATH, (\"(//div[@class='v-input--selection-controls__input'])[26]\")).click()\n",
    "    time.sleep(1.5)\n",
    "    driver.find_element(By.XPATH, (\"(//div[@class='v-input--selection-controls__input'])[27]\")).click()\n",
    "    time.sleep(1.5)\n",
    "    driver.find_element(By.XPATH, (\"(//div[@class='v-input--selection-controls__input'])[28]\")).click()\n",
    "    time.sleep(1.5)\n",
    "    driver.find_element(By.XPATH, (\"(//div[@class='v-input--selection-controls__input'])[29]\")).click()\n",
    "    time.sleep(1.5)\n",
    "    driver.find_element(By.XPATH, (\"(//div[@class='v-input--selection-controls__input'])[30]\")).click()\n",
    "    time.sleep(1.5)\n",
    "    driver.find_element(By.XPATH, (\"(//div[@class='v-input--selection-controls__input'])[31]\")).click()\n",
    "    time.sleep(1.5)"
   ]
  },
  {
   "cell_type": "code",
   "execution_count": null,
   "id": "5d2b17fe",
   "metadata": {},
   "outputs": [],
   "source": [
    "#Choix de l'étage se confirme \n",
    "def choix_etage() :\n",
    "    if etage =='0' :\n",
    "        RDC()\n",
    "    if etage =='2' :\n",
    "        deuxieme()\n",
    "    if etage =='3' :\n",
    "        troisieme()\n",
    "choix_etage()"
   ]
  },
  {
   "cell_type": "code",
   "execution_count": null,
   "id": "781089e1",
   "metadata": {},
   "outputs": [],
   "source": [
    "driver.back()"
   ]
  },
  {
   "cell_type": "code",
   "execution_count": null,
   "id": "7821cc31",
   "metadata": {},
   "outputs": [],
   "source": [
    "driver.refresh()"
   ]
  },
  {
   "cell_type": "code",
   "execution_count": null,
   "id": "333d42e0",
   "metadata": {},
   "outputs": [],
   "source": [
    "# ça sera l'élément qu'on devra scraper\n",
    "today_events = driver.find_element(By.CLASS_NAME, 'v-calendar-daily__day.v-present').get_attribute('outerHTML')\n",
    "today_events"
   ]
  },
  {
   "cell_type": "code",
   "execution_count": null,
   "id": "c201e845",
   "metadata": {},
   "outputs": [],
   "source": [
    "#séparer les évènements et les mettre dans une liste\n",
    "sep_events = []\n",
    "sep_events = re.findall('div class=\"v-event-timed onsecondary--text\"(.*?)</div></div>', today_events)\n",
    "sep_events= str(sep_events)\n",
    "sep_events"
   ]
  },
  {
   "cell_type": "code",
   "execution_count": null,
   "id": "6cc96fcf",
   "metadata": {},
   "outputs": [],
   "source": [
    "#récupérer toutes les salles\n",
    "rooms = re.findall('<br>(?=A )(.*?)\\'', sep_events)\n",
    "rooms"
   ]
  },
  {
   "cell_type": "code",
   "execution_count": null,
   "id": "ddcee52e",
   "metadata": {},
   "outputs": [],
   "source": [
    "#récupérer les valeurs pixels début pour chaque salle + convertir en valeur numérique lorsque pas de plusieurs salles pour même cours\n",
    "top_pixels = re.findall('top: (.*?)px;', sep_events)\n",
    "top_pixels = [int(p) for p in top_pixels]\n",
    "top_pixels"
   ]
  },
  {
   "cell_type": "code",
   "execution_count": null,
   "id": "c2cf835a",
   "metadata": {},
   "outputs": [],
   "source": [
    "#récupérer les valeurs pixels de durée pour chaque salle + convertri en valeur numérique\n",
    "height_pixels = re.findall('height: (.*?)px;', sep_events)\n",
    "height_pixels = [int(p) for p in height_pixels]\n",
    "height_pixels"
   ]
  },
  {
   "cell_type": "code",
   "execution_count": null,
   "id": "3e65f49e",
   "metadata": {},
   "outputs": [],
   "source": [
    "#### DÉBUT en format H:M ####\n",
    "occupation_start_numbers = [(7 + ((p / 20) * 0.5)) * 60 for p in top_pixels]\n",
    "df1 = pd.DataFrame({'start': occupation_start_numbers})\n",
    "df1 = pd.to_datetime(df1.start, unit='m').dt.strftime('%H:%M')\n",
    "occupation_start_in_hours = df1.values.tolist()\n",
    "occupation_start_in_hours"
   ]
  },
  {
   "cell_type": "code",
   "execution_count": null,
   "id": "64c43d6c",
   "metadata": {},
   "outputs": [],
   "source": [
    "#convertir les pixels en minutes (DURÉES)\n",
    "occupation_duration = [(((p / 20) * 0.5) * 60) for p in height_pixels]\n",
    "occupation_duration"
   ]
  },
  {
   "cell_type": "code",
   "execution_count": null,
   "id": "083302e7",
   "metadata": {},
   "outputs": [],
   "source": [
    "#### DURÉES en format H:M ####\n",
    "df = pd.DataFrame({'duration': occupation_duration})\n",
    "df = pd.to_datetime(df.duration, unit='m').dt.strftime('%H:%M')\n",
    "occupation_duration_in_hours = df.values.tolist()\n",
    "occupation_duration_in_hours"
   ]
  },
  {
   "cell_type": "code",
   "execution_count": null,
   "id": "4acfe2d2",
   "metadata": {
    "scrolled": true
   },
   "outputs": [],
   "source": [
    "#### HEURE DE FIN en format H:M ####\n",
    "occupation_end_in_minutes = [x + y for x, y in zip(occupation_start_numbers, occupation_duration)]\n",
    "occupation_end_in_minutes\n",
    "\n",
    "df2 = pd.DataFrame({'end': occupation_end_in_minutes})\n",
    "df2 = pd.to_datetime(df2.end, unit='m').dt.strftime('%H:%M')\n",
    "occupation_end_in_hours = df2.values.tolist()\n",
    "occupation_end_in_hours"
   ]
  },
  {
   "cell_type": "code",
   "execution_count": null,
   "id": "4f7dad8d",
   "metadata": {},
   "outputs": [],
   "source": [
    "# Quand veux-tu utiliser la salle?\n",
    "\n",
    "def get_now_time():\n",
    "    global now_time\n",
    "    now = datetime.now()\n",
    "    now_time = now.strftime(\"%H:%M\")  \n",
    "\n",
    "def choose_time():\n",
    "    global now_time\n",
    "    now_time = input('Quelle heure ? Répondre sous la forme HH:MM \\n')\n",
    "\n",
    "def get_time():\n",
    "    choice = int(input('Quand veux-tu utiliser la salle? \\n Maintenant (0) \\n Plus tard (1) \\n'))\n",
    "    if choice == 0:\n",
    "        get_now_time()\n",
    "        print('Heure actuelle :', now_time)\n",
    "    if choice == 1:\n",
    "        choose_time()\n",
    "        print('Heure choisie :', now_time)\n",
    "        \n",
    "get_time()"
   ]
  },
  {
   "cell_type": "code",
   "execution_count": null,
   "id": "e1a70d40",
   "metadata": {
    "scrolled": false
   },
   "outputs": [],
   "source": [
    "dict_content = defaultdict(list)\n",
    "start_end = [list(t) for t in zip(occupation_start_in_hours, occupation_end_in_hours)]\n",
    "k=0\n",
    "\n",
    "for x,y in zip(rooms, start_end):\n",
    "        dict_content[x].append(y)\n",
    "\n",
    "dict_content = {key : sorted(dict_content[key]) for key in sorted(dict_content)}        \n",
    "    \n",
    "dict_content"
   ]
  },
  {
   "cell_type": "code",
   "execution_count": null,
   "id": "fbc0d5a6",
   "metadata": {},
   "outputs": [],
   "source": [
    "liste_salles_0 = ['A 015','A 016','A 017','A 018','A 019','A 020','A 021','A 022','A 023','A 024','A 025','A 026','A 027']\n",
    "liste_salles_2 = ['A 210','A 231', 'A 233']\n",
    "liste_salles_3 = ['A 310','A 311','A 312','A 313','A 314','A 326','A 327','A 328','A 329','A 330','A 331','A 333','A 336']\n",
    "liste_totale = [liste_salles_0, liste_salles_2, liste_salles_3]"
   ]
  },
  {
   "cell_type": "code",
   "execution_count": null,
   "id": "bc75aca3",
   "metadata": {},
   "outputs": [],
   "source": [
    "### ETAGE\n",
    "if etage == '3' :\n",
    "    etage = int(etage)-1\n",
    "if etage == '2' :\n",
    "    etage = int(etage)-1\n",
    "if etage == 'RDC' :\n",
    "    etage = 0\n",
    "\n",
    "### Si pas d'évènement du tout \n",
    "salle_libre = []   \n",
    "gen = (x for x in liste_totale[2] if x not in dict_content.keys())    \n",
    "for x in gen:\n",
    "    salle_libre += [x]\n",
    "    if len(salle_libre) == 1:\n",
    "        print(Fore.GREEN + 'La salle', salle_libre[0], 'est libre toute la journée')\n",
    "    else:\n",
    "        print(Fore.GREEN + 'Les salles', salle_libre, 'sont libres toute la journée')"
   ]
  },
  {
   "cell_type": "code",
   "execution_count": null,
   "id": "52e6a329",
   "metadata": {},
   "outputs": [],
   "source": [
    "### Si now_time est dans un intervalle\n",
    "elem = []\n",
    "elem_double = []\n",
    "elem_triple = []\n",
    "elem_quad = []\n",
    "single_event = []\n",
    "double_event = []\n",
    "triple_event = []\n",
    "quad_event = []\n",
    "                # Séparer salles utilisées 1 fois de celles utilisées 2 fois\n",
    "for keys in dict_content:\n",
    "    if len(dict_content[keys]) == 1:\n",
    "        single_event.append(keys)\n",
    "    if len(dict_content[keys]) == 2:\n",
    "        double_event.append(keys)\n",
    "    if len(dict_content[keys]) == 3:\n",
    "        triple_event.append(keys)\n",
    "    if len(dict_content[keys]) == 4:\n",
    "        quad_event.append(keys)"
   ]
  },
  {
   "cell_type": "code",
   "execution_count": null,
   "id": "4e48cfab",
   "metadata": {},
   "outputs": [],
   "source": [
    "                # Si now_time dans salle utilisée 1 fois\n",
    "z = 0\n",
    "for i in single_event:\n",
    "    elem = dict_content[str(i)]\n",
    "    if (elem[0][0] < now_time < elem[0][1]):\n",
    "        print(Fore.RED + \"La salle\", single_event[z],\"est occupée jusqu'à :\",elem[0][1])\n",
    "        z += 1\n",
    "    if (now_time < elem[0][0]):\n",
    "        print(Fore.GREEN + \"La salle\", single_event[z],\"est libre jusqu'à :\", elem[0][0])\n",
    "        z += 1\n",
    "    if (now_time > elem[0][1]):\n",
    "        print(Fore.GREEN + \"La salle\", single_event[z],\"est libre pour le reste de la journée\")"
   ]
  },
  {
   "cell_type": "code",
   "execution_count": null,
   "id": "0ce0b060",
   "metadata": {},
   "outputs": [],
   "source": [
    "               # Si now_time dans salle utilisée 2 fois\n",
    "j = 0\n",
    "for element in double_event :\n",
    "    elem_double = dict_content[str(element)]\n",
    "    if now_time < elem_double[0][0]:\n",
    "        print(Fore.GREEN + \"La salle\", double_event[j], \"est libre jusqu'à\", elem_double[0][0])\n",
    "    if (elem_double[0][0] < now_time < elem_double[0][1]): \n",
    "        print(Fore.RED + \"La salle\",double_event[j], \"est occupée jusqu'à :\", elem_double[0][1]) \n",
    "        j += 1\n",
    "    if (elem_double[0][1] < now_time < elem_double[1][0]):\n",
    "        print(Fore.GREEN + \"La salle\", double_event[j], \"est libre jusqu'à\", elem_double[1][0])\n",
    "        j += 1\n",
    "    if (elem_double[1][0] < now_time < elem_double[1][1]): \n",
    "        print(Fore.RED + \"La salle\", double_event[j], \"est occupée jusqu'à :\", elem_double[1][1])\n",
    "        j += 1\n",
    "    if elem_double[1][1] < now_time:\n",
    "        print(Fore.GREEN + \"La salle\", double_event[j], \"est libre pour le reste de la journée\")\n",
    "        j += 1"
   ]
  },
  {
   "cell_type": "code",
   "execution_count": null,
   "id": "9043258b",
   "metadata": {},
   "outputs": [],
   "source": [
    "                #Si now_time dans salle utilisée 3 fois\n",
    "a = 0\n",
    "for element in triple_event:\n",
    "    elem_triple = dict_content[str(element)]\n",
    "    if now_time < elem_triple[0][0]:\n",
    "        print(Fore.GREEN + \"La salle\", double_event[a], \"est libre jusqu'à :\", elem_triple[0][0])\n",
    "    if elem_triple[0][0] < now_time < elem_triple[0][1]: \n",
    "        print(Fore.RED + \"La salle\", triple_event[a], \"est occupée jusqu'à :\", elem_triple[0][1]) \n",
    "        a += 1\n",
    "    if elem_triple[0][1] < now_time < elem_triple[1][0]: \n",
    "        print(Fore.GREEN + \"La salle\", triple_event[a], \"est libre jusqu'à :\", elem_triple[1][0])\n",
    "        a += 1   \n",
    "    if elem_triple[1][0] < now_time < elem_triple[1][1]: \n",
    "        print(Fore.RED + \"La salle\", triple_event[a], \"est occupée jusqu'à :\", elem_triple[1][1])\n",
    "        a += 1\n",
    "    if elem_triple[1][1] < now_time < elem_triple[2][0]: \n",
    "        print(Fore.GREEN + \"La salle\", triple_event[a], \"est occupée jusqu'à :\", elem_triple[2][0])\n",
    "        a += 1    \n",
    "    if elem_triple[2][0] < now_time < elem_triple[2][1]:\n",
    "        print(Fore.RED + \"La salle\", triple_event[a], \"est occupée jusqu'à :\", elem_triple[2][1])\n",
    "        a += 1\n",
    "    if elem_triple[2][1] < now_time:\n",
    "        print(Fore.GREEN + \"La salle\", triple_event[a], \"est libre pour le reste de la journée\")"
   ]
  },
  {
   "cell_type": "code",
   "execution_count": null,
   "id": "3a72564e",
   "metadata": {},
   "outputs": [],
   "source": [
    "q = 0\n",
    "\n",
    "for element in quad_event:\n",
    "    elem_quad = dict_content[str(element)]\n",
    "    if now_time < elem_quad[0][0]:\n",
    "        print(Fore.GREEN + \"La salle\", quad_event[q], \"est libre jusqu'à :\", elem_quad[0][0])\n",
    "        a += 1\n",
    "    if elem_quad[0][0] < now_time < elem_quad[0][1]:\n",
    "        print(Fore.RED + \"La salle\", quad_event[q], \"est occupée jusqu'à :\", elem_quad[0][1])\n",
    "        a += 1\n",
    "    if elem_quad[0][1] < now_time < elem_quad[1][0]:\n",
    "        print(Fore.GREEN + \"La salle\", quad_event[q], \"est libre jusqu'à :\", elem_quad[1][0])\n",
    "        a += 1\n",
    "    if elem_quad[1][0] < now_time < elem_quad[1][1]:\n",
    "        print(Fore.RED + \"La salle\", quad_event[q], \"est occupée jusqu'à :\", elem_quad[1][1])\n",
    "        a += 1\n",
    "    if elem_quad[1][1] < now_time < elem_quad[2][0]:\n",
    "        print(Fore.GREEN + \"La salle\", quad_event[q], \"est libre jusqu'à :\", elem_quad[2][0])\n",
    "        a += 1    \n",
    "    if elem_quad[2][0] < now_time < elem_quad[2][1]:\n",
    "        print(Fore.RED + \"La salle\", quad_event[q], \"est occupée jusqu'à :\", elem_quad[2][1])\n",
    "        a += 1\n",
    "    if elem_quad[2][1] < now_time < elem_quad[3][0]:\n",
    "        print(Fore.GREEN + \"La salle\", quad_event[q], \"est libre jusqu'à :\", elem_quad[3][0])\n",
    "        a += 1    \n",
    "    if elem_quad[3][0] < now_time < elem_quad[3][1]:\n",
    "        print(Fore.RED + \"La salle\", quad_event[q], \"est occupée jusqu'à :\", elem_quad[3][1])\n",
    "        a += 1\n",
    "    if elem_quad[3][1] < now_time:\n",
    "        print(Fore.GREEN + \"La salle\", quad_event[a], \"est libre pour le reste de la journée\")"
   ]
  },
  {
   "cell_type": "code",
   "execution_count": null,
   "id": "6c2c8fe5",
   "metadata": {},
   "outputs": [],
   "source": [
    "# Retourner dans l'onglet personnaliser\n",
    "def clicker_onglet_personnaliser():\n",
    "    driver.find_element(By.CSS_SELECTOR, '#app-toolbar > div > button.v-app-bar__nav-icon.hidden-md-and-up.v-btn.v-btn--flat.v-btn--icon.v-btn--round.theme--dark.v-size--default > span > i').click()\n",
    "    time.sleep(5.0)\n",
    "    driver.find_element(By.CSS_SELECTOR, '#unistra-schedule > div.v-application--wrap > div > nav > div.v-navigation-drawer__content > div > a:nth-child(1)').click() # ici en fonction  de la position de l'élément\n",
    "    time.sleep(5.0)\n",
    "\n",
    "clicker_onglet_personnaliser()"
   ]
  },
  {
   "cell_type": "code",
   "execution_count": null,
   "id": "8f106a38",
   "metadata": {},
   "outputs": [],
   "source": [
    "# Déselection des salles \n",
    "def deselectionneur():\n",
    "    compteur = 1\n",
    "    while compteur < 14:\n",
    "        driver.find_element(By.CLASS_NAME, 'v-list-item__action.my-0.mr-3').click()\n",
    "        compteur += 1\n",
    "        time.sleep(1.0)\n",
    "\n",
    "deselectionneur()"
   ]
  },
  {
   "cell_type": "code",
   "execution_count": null,
   "id": "8bf95e44",
   "metadata": {},
   "outputs": [],
   "source": [
    "#remise de l'edt\n",
    "print (\"Merci d'avoir utilisé notre programme, afin de retrouver votre emploi du temps initial, veuillez le personnalier depuis la page qui va s'ouvrir dans quelques instants...\")\n",
    "\n",
    "\n",
    "for i in range(0,10):\n",
    "    print(10-i)\n",
    "    time.sleep(1)\n",
    "    \n",
    "\n",
    "import webbrowser\n",
    "webbrowser.open(\"https://monemploidutemps.unistra.fr/config\")"
   ]
  },
  {
   "cell_type": "code",
   "execution_count": null,
   "id": "d94d66c7",
   "metadata": {},
   "outputs": [],
   "source": [
    "driver.close()"
   ]
  }
 ],
 "metadata": {
  "kernelspec": {
   "display_name": "Python 3 (ipykernel)",
   "language": "python",
   "name": "python3"
  },
  "language_info": {
   "codemirror_mode": {
    "name": "ipython",
    "version": 3
   },
   "file_extension": ".py",
   "mimetype": "text/x-python",
   "name": "python",
   "nbconvert_exporter": "python",
   "pygments_lexer": "ipython3",
   "version": "3.9.7"
  }
 },
 "nbformat": 4,
 "nbformat_minor": 5
}

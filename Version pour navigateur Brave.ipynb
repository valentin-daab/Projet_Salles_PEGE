{
 "cells": [
  {
   "cell_type": "code",
   "execution_count": 47,
   "id": "a12cde83",
   "metadata": {},
   "outputs": [],
   "source": [
    "import datetime\n",
    "import os\n",
    "import re\n",
    "from bs4 import BeautifulSoup\n",
    "import requests\n",
    "import numpy as np\n",
    "import pandas as pd\n",
    "from requests_html import HTMLSession\n",
    "\n",
    "# Selenium / Webdriver\n",
    "from selenium import webdriver\n",
    "from webdriver_manager.chrome import ChromeDriverManager\n",
    "from selenium.webdriver.chrome.service import Service\n",
    "from selenium.webdriver.common.by import By\n",
    "from selenium.common.exceptions import NoSuchElementException\n",
    "from selenium.common.exceptions import ElementNotInteractableException\n",
    "\n",
    "import time\n",
    "from datetime import datetime\n",
    "import getpass # demander le mot de passe sans l'afficher\n",
    "\n",
    "# Ouvrir l'explorateur de fichier\n",
    "from tkinter import *\n",
    "from tkinter.filedialog import askopenfilename\n",
    "\n",
    "# Pb dictionnaire\n",
    "from collections import defaultdict"
   ]
  },
  {
   "cell_type": "code",
   "execution_count": 5,
   "id": "d369bf63",
   "metadata": {},
   "outputs": [
    {
     "data": {
      "text/html": [
       "<style>.container { width:85% !important; }</style>"
      ],
      "text/plain": [
       "<IPython.core.display.HTML object>"
      ]
     },
     "metadata": {},
     "output_type": "display_data"
    }
   ],
   "source": [
    "#permet d'avoir des blocs plus larges\n",
    "from IPython.core.display import display, HTML\n",
    "display(HTML(\"<style>.container { width:85% !important; }</style>\"))"
   ]
  },
  {
   "cell_type": "code",
   "execution_count": 6,
   "id": "c13e989b",
   "metadata": {},
   "outputs": [],
   "source": [
    "url_edt = 'https://monemploidutemps.unistra.fr/consult/calendar'"
   ]
  },
  {
   "cell_type": "code",
   "execution_count": 7,
   "id": "9d4debb0",
   "metadata": {},
   "outputs": [
    {
     "name": "stdout",
     "output_type": "stream",
     "text": [
      "A quel étage cherchez vous une salle ? \n",
      " RDC : 0 \n",
      " 2 ème : 2 \n",
      " 3 ème : 3 \n",
      "3\n"
     ]
    }
   ],
   "source": [
    "etage = input(\"A quel étage cherchez vous une salle ? \\n RDC : 0 \\n 2 ème : 2 \\n 3 ème : 3 \\n\")"
   ]
  },
  {
   "cell_type": "code",
   "execution_count": 8,
   "id": "dc5d9bf7",
   "metadata": {},
   "outputs": [],
   "source": [
    "def get_paths():\n",
    "    global driver_path\n",
    "    global browser_path\n",
    "    root = Tk()\n",
    "    root.update()\n",
    "    print('Sélectionnez le fichier chromedriver.exe')\n",
    "    driver_path = askopenfilename(title = 'Sélectionnez le fichier chromedriver.exe')\n",
    "    print('Sélectionnez le .exe du navigateur')\n",
    "    root.withdraw()\n",
    "    browser_path = askopenfilename(title = 'Sélectionnez le .exe du navigateur')\n",
    "    root.destroy()"
   ]
  },
  {
   "cell_type": "code",
   "execution_count": 9,
   "id": "3e25db0b",
   "metadata": {
    "scrolled": true
   },
   "outputs": [
    {
     "name": "stdout",
     "output_type": "stream",
     "text": [
      "Sélectionnez le fichier chromedriver.exe\n",
      "Sélectionnez le .exe du navigateur\n"
     ]
    }
   ],
   "source": [
    "get_paths()"
   ]
  },
  {
   "cell_type": "code",
   "execution_count": 10,
   "id": "b68a87d5",
   "metadata": {},
   "outputs": [],
   "source": [
    "option = webdriver.ChromeOptions()\n",
    "option.binary_location = browser_path\n",
    "s = Service(driver_path)\n",
    "driver = webdriver.Chrome(service = s, options = option)\n",
    "driver.get(url_edt)"
   ]
  },
  {
   "cell_type": "code",
   "execution_count": 11,
   "id": "fcc38714",
   "metadata": {},
   "outputs": [],
   "source": [
    "#### FONCTION COMPLETE POUR SE CONNECTER ####\n",
    "\n",
    "#### User input pour demander le mot de passe\n",
    "def get_user_info():\n",
    "    global username \n",
    "    global password\n",
    "    username = input('Identifiant UNISTRA?')\n",
    "    password = getpass.getpass('Mot de passe UNISTRA?')\n",
    "\n",
    "#### Connexion au compte UNISTRA\n",
    "def connect():\n",
    "    driver.find_element(By.ID, 'username').send_keys(username)\n",
    "    driver.find_element(By.ID, 'password').send_keys(password)\n",
    "    driver.find_element(By.ID, 'login-btn').click()\n",
    "\n",
    "#### Check si on est encore sur la page de login\n",
    "def check_login():\n",
    "    try:\n",
    "        driver.find_element(By.CLASS_NAME, 'login')\n",
    "    except NoSuchElementException:\n",
    "        return False\n",
    "    return True\n",
    "\n",
    "#### FONCTION COMPLETE ####\n",
    "def connect_user():\n",
    "    get_user_info()\n",
    "    connect()\n",
    "    while check_login():\n",
    "        driver.find_element(By.ID, 'username').clear() #permet d'effacer l'input qui reste dans le login\n",
    "        print('Mot de passe ou Identifiant incorrect, veuillez réessayer.')\n",
    "        connect_user()\n",
    "    return print('Connexion Réussie.')"
   ]
  },
  {
   "cell_type": "code",
   "execution_count": 12,
   "id": "a39a5020",
   "metadata": {
    "scrolled": true
   },
   "outputs": [
    {
     "name": "stdout",
     "output_type": "stream",
     "text": [
      "Identifiant UNISTRA?vdaab\n",
      "Mot de passe UNISTRA?········\n",
      "Connexion Réussie.\n"
     ]
    }
   ],
   "source": [
    "connect_user()"
   ]
  },
  {
   "cell_type": "code",
   "execution_count": 52,
   "id": "08a7d22a",
   "metadata": {},
   "outputs": [],
   "source": [
    "#### Si ça a bloqué le code\n",
    "#####def check_error():\n",
    "#####    try:\n",
    "#####        driver.find_element(By.XPATH, (\"(//i[@role='button'])[3]\"))\n",
    "#####    except ElementNotInteractableException:\n",
    "#####        return False\n",
    "#####    return True\n",
    "#####\n",
    "######### Fonction pour retirer le blocage\n",
    "#####def remove_block():\n",
    "#####    driver.execute_script(\"\"\"\n",
    "#####   var l = document.getElementsByClassName(\"v-overlay v-overlay--active theme--dark\")[0];\n",
    "#####   l.parentNode.removeChild(l);\n",
    "#####\"\"\")\n",
    "#####    \n",
    "######### Fonction complète enlever blocage\n",
    "#####def full_remove_block():\n",
    "#####    while check_error():\n",
    "#####        remove_block()\n",
    "#####        driver.find_element(By.XPATH, (\"(//i[@role='button'])[3]\")).click()"
   ]
  },
  {
   "cell_type": "code",
   "execution_count": 13,
   "id": "7575bcc4",
   "metadata": {},
   "outputs": [
    {
     "ename": "ElementNotInteractableException",
     "evalue": "Message: element not interactable\n  (Session info: chrome=98.0.4758.102)\nStacktrace:\nBacktrace:\n\tOrdinal0 [0x002DA0A3+2597027]\n\tOrdinal0 [0x0026BA61+2144865]\n\tOrdinal0 [0x00163B20+1063712]\n\tOrdinal0 [0x0019111E+1249566]\n\tOrdinal0 [0x00186EA3+1207971]\n\tOrdinal0 [0x001A87AC+1345452]\n\tOrdinal0 [0x00186874+1206388]\n\tOrdinal0 [0x001A8904+1345796]\n\tOrdinal0 [0x001B8B1A+1411866]\n\tOrdinal0 [0x001A85C6+1344966]\n\tOrdinal0 [0x001854C6+1201350]\n\tOrdinal0 [0x001863B6+1205174]\n\tGetHandleVerifier [0x004810A2+1681842]\n\tGetHandleVerifier [0x00533B0C+2413596]\n\tGetHandleVerifier [0x00371221+568113]\n\tGetHandleVerifier [0x0036FFA3+563379]\n\tOrdinal0 [0x0027174E+2168654]\n\tOrdinal0 [0x00276538+2188600]\n\tOrdinal0 [0x00276680+2188928]\n\tOrdinal0 [0x0028030C+2229004]\n\tBaseThreadInitThunk [0x762AFA29+25]\n\tRtlGetAppContainerNamedObjectPath [0x774C7A9E+286]\n\tRtlGetAppContainerNamedObjectPath [0x774C7A6E+238]\n\t(No symbol) [0x00000000]\n",
     "output_type": "error",
     "traceback": [
      "\u001b[1;31m---------------------------------------------------------------------------\u001b[0m",
      "\u001b[1;31mElementNotInteractableException\u001b[0m           Traceback (most recent call last)",
      "\u001b[1;32m~\\AppData\\Local\\Temp/ipykernel_6116/3737706642.py\u001b[0m in \u001b[0;36m<module>\u001b[1;34m\u001b[0m\n\u001b[0;32m     26\u001b[0m     \u001b[0mtime\u001b[0m\u001b[1;33m.\u001b[0m\u001b[0msleep\u001b[0m\u001b[1;33m(\u001b[0m\u001b[1;36m4.0\u001b[0m\u001b[1;33m)\u001b[0m\u001b[1;33m\u001b[0m\u001b[1;33m\u001b[0m\u001b[0m\n\u001b[0;32m     27\u001b[0m \u001b[1;33m\u001b[0m\u001b[0m\n\u001b[1;32m---> 28\u001b[1;33m \u001b[0mclicker_pour_modifier\u001b[0m\u001b[1;33m(\u001b[0m\u001b[1;33m)\u001b[0m\u001b[1;33m\u001b[0m\u001b[1;33m\u001b[0m\u001b[0m\n\u001b[0m\u001b[0;32m     29\u001b[0m \u001b[1;33m\u001b[0m\u001b[0m\n\u001b[0;32m     30\u001b[0m \u001b[1;33m\u001b[0m\u001b[0m\n",
      "\u001b[1;32m~\\AppData\\Local\\Temp/ipykernel_6116/3737706642.py\u001b[0m in \u001b[0;36mclicker_pour_modifier\u001b[1;34m()\u001b[0m\n\u001b[0;32m     11\u001b[0m     \u001b[0mtime\u001b[0m\u001b[1;33m.\u001b[0m\u001b[0msleep\u001b[0m\u001b[1;33m(\u001b[0m\u001b[1;36m5.0\u001b[0m\u001b[1;33m)\u001b[0m\u001b[1;33m\u001b[0m\u001b[1;33m\u001b[0m\u001b[0m\n\u001b[0;32m     12\u001b[0m     \u001b[1;31m# Cliquer sur 'Salles'\u001b[0m\u001b[1;33m\u001b[0m\u001b[1;33m\u001b[0m\u001b[0m\n\u001b[1;32m---> 13\u001b[1;33m     \u001b[0mdriver\u001b[0m\u001b[1;33m.\u001b[0m\u001b[0mfind_element\u001b[0m\u001b[1;33m(\u001b[0m\u001b[0mBy\u001b[0m\u001b[1;33m.\u001b[0m\u001b[0mXPATH\u001b[0m\u001b[1;33m,\u001b[0m \u001b[1;33m(\u001b[0m\u001b[1;34m\"(//i[@role='button'])[3]\"\u001b[0m\u001b[1;33m)\u001b[0m\u001b[1;33m)\u001b[0m\u001b[1;33m.\u001b[0m\u001b[0mclick\u001b[0m\u001b[1;33m(\u001b[0m\u001b[1;33m)\u001b[0m \u001b[1;31m#ici en fonction de la position du bouton dans la liste des boutons\u001b[0m\u001b[1;33m\u001b[0m\u001b[1;33m\u001b[0m\u001b[0m\n\u001b[0m\u001b[0;32m     14\u001b[0m     \u001b[0mtime\u001b[0m\u001b[1;33m.\u001b[0m\u001b[0msleep\u001b[0m\u001b[1;33m(\u001b[0m\u001b[1;36m4.0\u001b[0m\u001b[1;33m)\u001b[0m\u001b[1;33m\u001b[0m\u001b[1;33m\u001b[0m\u001b[0m\n\u001b[0;32m     15\u001b[0m     \u001b[1;31m# Cliquer sur 'Foret Noire'\u001b[0m\u001b[1;33m\u001b[0m\u001b[1;33m\u001b[0m\u001b[0m\n",
      "\u001b[1;32m~\\anaconda3\\lib\\site-packages\\selenium\\webdriver\\remote\\webelement.py\u001b[0m in \u001b[0;36mclick\u001b[1;34m(self)\u001b[0m\n\u001b[0;32m     79\u001b[0m     \u001b[1;32mdef\u001b[0m \u001b[0mclick\u001b[0m\u001b[1;33m(\u001b[0m\u001b[0mself\u001b[0m\u001b[1;33m)\u001b[0m \u001b[1;33m->\u001b[0m \u001b[1;32mNone\u001b[0m\u001b[1;33m:\u001b[0m\u001b[1;33m\u001b[0m\u001b[1;33m\u001b[0m\u001b[0m\n\u001b[0;32m     80\u001b[0m         \u001b[1;34m\"\"\"Clicks the element.\"\"\"\u001b[0m\u001b[1;33m\u001b[0m\u001b[1;33m\u001b[0m\u001b[0m\n\u001b[1;32m---> 81\u001b[1;33m         \u001b[0mself\u001b[0m\u001b[1;33m.\u001b[0m\u001b[0m_execute\u001b[0m\u001b[1;33m(\u001b[0m\u001b[0mCommand\u001b[0m\u001b[1;33m.\u001b[0m\u001b[0mCLICK_ELEMENT\u001b[0m\u001b[1;33m)\u001b[0m\u001b[1;33m\u001b[0m\u001b[1;33m\u001b[0m\u001b[0m\n\u001b[0m\u001b[0;32m     82\u001b[0m \u001b[1;33m\u001b[0m\u001b[0m\n\u001b[0;32m     83\u001b[0m     \u001b[1;32mdef\u001b[0m \u001b[0msubmit\u001b[0m\u001b[1;33m(\u001b[0m\u001b[0mself\u001b[0m\u001b[1;33m)\u001b[0m\u001b[1;33m:\u001b[0m\u001b[1;33m\u001b[0m\u001b[1;33m\u001b[0m\u001b[0m\n",
      "\u001b[1;32m~\\anaconda3\\lib\\site-packages\\selenium\\webdriver\\remote\\webelement.py\u001b[0m in \u001b[0;36m_execute\u001b[1;34m(self, command, params)\u001b[0m\n\u001b[0;32m    708\u001b[0m             \u001b[0mparams\u001b[0m \u001b[1;33m=\u001b[0m \u001b[1;33m{\u001b[0m\u001b[1;33m}\u001b[0m\u001b[1;33m\u001b[0m\u001b[1;33m\u001b[0m\u001b[0m\n\u001b[0;32m    709\u001b[0m         \u001b[0mparams\u001b[0m\u001b[1;33m[\u001b[0m\u001b[1;34m'id'\u001b[0m\u001b[1;33m]\u001b[0m \u001b[1;33m=\u001b[0m \u001b[0mself\u001b[0m\u001b[1;33m.\u001b[0m\u001b[0m_id\u001b[0m\u001b[1;33m\u001b[0m\u001b[1;33m\u001b[0m\u001b[0m\n\u001b[1;32m--> 710\u001b[1;33m         \u001b[1;32mreturn\u001b[0m \u001b[0mself\u001b[0m\u001b[1;33m.\u001b[0m\u001b[0m_parent\u001b[0m\u001b[1;33m.\u001b[0m\u001b[0mexecute\u001b[0m\u001b[1;33m(\u001b[0m\u001b[0mcommand\u001b[0m\u001b[1;33m,\u001b[0m \u001b[0mparams\u001b[0m\u001b[1;33m)\u001b[0m\u001b[1;33m\u001b[0m\u001b[1;33m\u001b[0m\u001b[0m\n\u001b[0m\u001b[0;32m    711\u001b[0m \u001b[1;33m\u001b[0m\u001b[0m\n\u001b[0;32m    712\u001b[0m     \u001b[1;32mdef\u001b[0m \u001b[0mfind_element\u001b[0m\u001b[1;33m(\u001b[0m\u001b[0mself\u001b[0m\u001b[1;33m,\u001b[0m \u001b[0mby\u001b[0m\u001b[1;33m=\u001b[0m\u001b[0mBy\u001b[0m\u001b[1;33m.\u001b[0m\u001b[0mID\u001b[0m\u001b[1;33m,\u001b[0m \u001b[0mvalue\u001b[0m\u001b[1;33m=\u001b[0m\u001b[1;32mNone\u001b[0m\u001b[1;33m)\u001b[0m\u001b[1;33m:\u001b[0m\u001b[1;33m\u001b[0m\u001b[1;33m\u001b[0m\u001b[0m\n",
      "\u001b[1;32m~\\anaconda3\\lib\\site-packages\\selenium\\webdriver\\remote\\webdriver.py\u001b[0m in \u001b[0;36mexecute\u001b[1;34m(self, driver_command, params)\u001b[0m\n\u001b[0;32m    422\u001b[0m         \u001b[0mresponse\u001b[0m \u001b[1;33m=\u001b[0m \u001b[0mself\u001b[0m\u001b[1;33m.\u001b[0m\u001b[0mcommand_executor\u001b[0m\u001b[1;33m.\u001b[0m\u001b[0mexecute\u001b[0m\u001b[1;33m(\u001b[0m\u001b[0mdriver_command\u001b[0m\u001b[1;33m,\u001b[0m \u001b[0mparams\u001b[0m\u001b[1;33m)\u001b[0m\u001b[1;33m\u001b[0m\u001b[1;33m\u001b[0m\u001b[0m\n\u001b[0;32m    423\u001b[0m         \u001b[1;32mif\u001b[0m \u001b[0mresponse\u001b[0m\u001b[1;33m:\u001b[0m\u001b[1;33m\u001b[0m\u001b[1;33m\u001b[0m\u001b[0m\n\u001b[1;32m--> 424\u001b[1;33m             \u001b[0mself\u001b[0m\u001b[1;33m.\u001b[0m\u001b[0merror_handler\u001b[0m\u001b[1;33m.\u001b[0m\u001b[0mcheck_response\u001b[0m\u001b[1;33m(\u001b[0m\u001b[0mresponse\u001b[0m\u001b[1;33m)\u001b[0m\u001b[1;33m\u001b[0m\u001b[1;33m\u001b[0m\u001b[0m\n\u001b[0m\u001b[0;32m    425\u001b[0m             response['value'] = self._unwrap_value(\n\u001b[0;32m    426\u001b[0m                 response.get('value', None))\n",
      "\u001b[1;32m~\\anaconda3\\lib\\site-packages\\selenium\\webdriver\\remote\\errorhandler.py\u001b[0m in \u001b[0;36mcheck_response\u001b[1;34m(self, response)\u001b[0m\n\u001b[0;32m    245\u001b[0m                 \u001b[0malert_text\u001b[0m \u001b[1;33m=\u001b[0m \u001b[0mvalue\u001b[0m\u001b[1;33m[\u001b[0m\u001b[1;34m'alert'\u001b[0m\u001b[1;33m]\u001b[0m\u001b[1;33m.\u001b[0m\u001b[0mget\u001b[0m\u001b[1;33m(\u001b[0m\u001b[1;34m'text'\u001b[0m\u001b[1;33m)\u001b[0m\u001b[1;33m\u001b[0m\u001b[1;33m\u001b[0m\u001b[0m\n\u001b[0;32m    246\u001b[0m             \u001b[1;32mraise\u001b[0m \u001b[0mexception_class\u001b[0m\u001b[1;33m(\u001b[0m\u001b[0mmessage\u001b[0m\u001b[1;33m,\u001b[0m \u001b[0mscreen\u001b[0m\u001b[1;33m,\u001b[0m \u001b[0mstacktrace\u001b[0m\u001b[1;33m,\u001b[0m \u001b[0malert_text\u001b[0m\u001b[1;33m)\u001b[0m  \u001b[1;31m# type: ignore[call-arg]  # mypy is not smart enough here\u001b[0m\u001b[1;33m\u001b[0m\u001b[1;33m\u001b[0m\u001b[0m\n\u001b[1;32m--> 247\u001b[1;33m         \u001b[1;32mraise\u001b[0m \u001b[0mexception_class\u001b[0m\u001b[1;33m(\u001b[0m\u001b[0mmessage\u001b[0m\u001b[1;33m,\u001b[0m \u001b[0mscreen\u001b[0m\u001b[1;33m,\u001b[0m \u001b[0mstacktrace\u001b[0m\u001b[1;33m)\u001b[0m\u001b[1;33m\u001b[0m\u001b[1;33m\u001b[0m\u001b[0m\n\u001b[0m\u001b[0;32m    248\u001b[0m \u001b[1;33m\u001b[0m\u001b[0m\n\u001b[0;32m    249\u001b[0m     \u001b[1;32mdef\u001b[0m \u001b[0m_value_or_default\u001b[0m\u001b[1;33m(\u001b[0m\u001b[0mself\u001b[0m\u001b[1;33m,\u001b[0m \u001b[0mobj\u001b[0m\u001b[1;33m:\u001b[0m \u001b[0mMapping\u001b[0m\u001b[1;33m[\u001b[0m\u001b[0m_KT\u001b[0m\u001b[1;33m,\u001b[0m \u001b[0m_VT\u001b[0m\u001b[1;33m]\u001b[0m\u001b[1;33m,\u001b[0m \u001b[0mkey\u001b[0m\u001b[1;33m:\u001b[0m \u001b[0m_KT\u001b[0m\u001b[1;33m,\u001b[0m \u001b[0mdefault\u001b[0m\u001b[1;33m:\u001b[0m \u001b[0m_VT\u001b[0m\u001b[1;33m)\u001b[0m \u001b[1;33m->\u001b[0m \u001b[0m_VT\u001b[0m\u001b[1;33m:\u001b[0m\u001b[1;33m\u001b[0m\u001b[1;33m\u001b[0m\u001b[0m\n",
      "\u001b[1;31mElementNotInteractableException\u001b[0m: Message: element not interactable\n  (Session info: chrome=98.0.4758.102)\nStacktrace:\nBacktrace:\n\tOrdinal0 [0x002DA0A3+2597027]\n\tOrdinal0 [0x0026BA61+2144865]\n\tOrdinal0 [0x00163B20+1063712]\n\tOrdinal0 [0x0019111E+1249566]\n\tOrdinal0 [0x00186EA3+1207971]\n\tOrdinal0 [0x001A87AC+1345452]\n\tOrdinal0 [0x00186874+1206388]\n\tOrdinal0 [0x001A8904+1345796]\n\tOrdinal0 [0x001B8B1A+1411866]\n\tOrdinal0 [0x001A85C6+1344966]\n\tOrdinal0 [0x001854C6+1201350]\n\tOrdinal0 [0x001863B6+1205174]\n\tGetHandleVerifier [0x004810A2+1681842]\n\tGetHandleVerifier [0x00533B0C+2413596]\n\tGetHandleVerifier [0x00371221+568113]\n\tGetHandleVerifier [0x0036FFA3+563379]\n\tOrdinal0 [0x0027174E+2168654]\n\tOrdinal0 [0x00276538+2188600]\n\tOrdinal0 [0x00276680+2188928]\n\tOrdinal0 [0x0028030C+2229004]\n\tBaseThreadInitThunk [0x762AFA29+25]\n\tRtlGetAppContainerNamedObjectPath [0x774C7A9E+286]\n\tRtlGetAppContainerNamedObjectPath [0x774C7A6E+238]\n\t(No symbol) [0x00000000]\n"
     ]
    }
   ],
   "source": [
    "#### CLIQUEUR AVANT DE COCHER LES CASES ####\n",
    "def clicker_pour_modifier():\n",
    "    # Cliquer sur le menu\n",
    "    driver.find_element(By.CSS_SELECTOR, '#app-toolbar > div > button.v-app-bar__nav-icon.hidden-md-and-up.v-btn.v-btn--flat.v-btn--icon.v-btn--round.theme--dark.v-size--default > span > i').click()\n",
    "    time.sleep(5.0)\n",
    "    # Cliquer sur personnaliser\n",
    "    driver.find_element(By.CSS_SELECTOR, '#unistra-schedule > div.v-application--wrap > div > nav > div.v-navigation-drawer__content > div > a:nth-child(1)').click() # ici en fonction  de la position de l'élément\n",
    "    time.sleep(5.0)\n",
    "    # Cliquer sur 'Modifier la sélection'\n",
    "    driver.find_element(By.XPATH, '//strong[normalize-space()=\"Modifier la sélection\"]').click() #ici grâce au texte sur le bouton\n",
    "    time.sleep(5.0)\n",
    "    # Cliquer sur 'Salles'\n",
    "    driver.find_element(By.XPATH, (\"(//i[@role='button'])[3]\")).click() #ici en fonction de la position du bouton dans la liste des boutons\n",
    "    time.sleep(4.0)\n",
    "    # Cliquer sur 'Foret Noire'\n",
    "    driver.find_element(By.XPATH, (\"(//i[@role='button'])[4]\")).click()\n",
    "    time.sleep(4.0)\n",
    "    # Cliquer sur 'PEGE'\n",
    "    driver.find_element(By.XPATH, (\"(//i[@role='button'])[7]\")).click()\n",
    "    time.sleep(4.0)\n",
    "    # Cliquer sur 'FSEG'\n",
    "    driver.find_element(By.XPATH, (\"(//i[@role='button'])[10]\")).click()\n",
    "    time.sleep(4.0)\n",
    "    # Cliquer sur 'FSEG-Salles de cours'\n",
    "    driver.find_element(By.XPATH, (\"(//i[@role='button'])[12]\")).click()\n",
    "    time.sleep(4.0)\n",
    "\n",
    "clicker_pour_modifier()\n",
    "    \n",
    "    "
   ]
  },
  {
   "cell_type": "code",
   "execution_count": 14,
   "id": "464cf33e",
   "metadata": {},
   "outputs": [],
   "source": [
    "#### COCHEUR DE CASES ####\n",
    "\n",
    "# Vu que c'est long ajouter barre de chargement?\n",
    "\n",
    "## Salles RDC ##\n",
    "def RDC() :\n",
    "    driver.find_element(By.XPATH, (\"(//div[@class='v-input--selection-controls__input'])[3]\")).click()\n",
    "    time.sleep(1.5)\n",
    "    driver.find_element(By.XPATH, (\"(//div[@class='v-input--selection-controls__input'])[4]\")).click()\n",
    "    time.sleep(1.5)\n",
    "    driver.find_element(By.XPATH, (\"(//div[@class='v-input--selection-controls__input'])[5]\")).click()\n",
    "    time.sleep(1.5)\n",
    "    driver.find_element(By.XPATH, (\"(//div[@class='v-input--selection-controls__input'])[6]\")).click()\n",
    "    time.sleep(1.5)\n",
    "    driver.find_element(By.XPATH, (\"(//div[@class='v-input--selection-controls__input'])[7]\")).click()\n",
    "    time.sleep(1.5)\n",
    "    driver.find_element(By.XPATH, (\"(//div[@class='v-input--selection-controls__input'])[8]\")).click()\n",
    "    time.sleep(1.5)\n",
    "    driver.find_element(By.XPATH, (\"(//div[@class='v-input--selection-controls__input'])[9]\")).click()\n",
    "    time.sleep(1.5)\n",
    "    driver.find_element(By.XPATH, (\"(//div[@class='v-input--selection-controls__input'])[10]\")).click()\n",
    "    time.sleep(1.5)\n",
    "    driver.find_element(By.XPATH, (\"(//div[@class='v-input--selection-controls__input'])[11]\")).click()\n",
    "    time.sleep(1.5)\n",
    "    driver.find_element(By.XPATH, (\"(//div[@class='v-input--selection-controls__input'])[12]\")).click()\n",
    "    time.sleep(1.5)\n",
    "    driver.find_element(By.XPATH, (\"(//div[@class='v-input--selection-controls__input'])[13]\")).click()\n",
    "    time.sleep(1.5)\n",
    "    driver.find_element(By.XPATH, (\"(//div[@class='v-input--selection-controls__input'])[14]\")).click()\n",
    "    time.sleep(1.5)\n",
    "    driver.find_element(By.XPATH, (\"(//div[@class='v-input--selection-controls__input'])[15]\")).click()"
   ]
  },
  {
   "cell_type": "code",
   "execution_count": 15,
   "id": "e86354e1",
   "metadata": {},
   "outputs": [],
   "source": [
    "## Salles 2e ##\n",
    "def deuxieme() :\n",
    "    driver.find_element(By.XPATH, (\"(//div[@class='v-input--selection-controls__input'])[16]\")).click()\n",
    "    time.sleep(1.5)\n",
    "    driver.find_element(By.XPATH, (\"(//div[@class='v-input--selection-controls__input'])[17]\")).click()\n",
    "    time.sleep(1.5)\n",
    "    driver.find_element(By.XPATH, (\"(//div[@class='v-input--selection-controls__input'])[18]\")).click()"
   ]
  },
  {
   "cell_type": "code",
   "execution_count": 16,
   "id": "d224dc85",
   "metadata": {},
   "outputs": [],
   "source": [
    "## Salles 3e ##\n",
    "def troisieme() :\n",
    "    driver.find_element(By.XPATH, (\"(//div[@class='v-input--selection-controls__input'])[19]\")).click()\n",
    "    time.sleep(1.5)\n",
    "    driver.find_element(By.XPATH, (\"(//div[@class='v-input--selection-controls__input'])[20]\")).click()\n",
    "    time.sleep(1.5)\n",
    "    driver.find_element(By.XPATH, (\"(//div[@class='v-input--selection-controls__input'])[21]\")).click()\n",
    "    time.sleep(1.5)\n",
    "    driver.find_element(By.XPATH, (\"(//div[@class='v-input--selection-controls__input'])[22]\")).click()\n",
    "    time.sleep(1.5)\n",
    "    driver.find_element(By.XPATH, (\"(//div[@class='v-input--selection-controls__input'])[23]\")).click()\n",
    "    time.sleep(1.5)\n",
    "    driver.find_element(By.XPATH, (\"(//div[@class='v-input--selection-controls__input'])[24]\")).click()\n",
    "    time.sleep(1.5)\n",
    "    driver.find_element(By.XPATH, (\"(//div[@class='v-input--selection-controls__input'])[25]\")).click()\n",
    "    time.sleep(1.5)\n",
    "    driver.find_element(By.XPATH, (\"(//div[@class='v-input--selection-controls__input'])[26]\")).click()\n",
    "    time.sleep(1.5)\n",
    "    driver.find_element(By.XPATH, (\"(//div[@class='v-input--selection-controls__input'])[27]\")).click()\n",
    "    time.sleep(1.5)\n",
    "    driver.find_element(By.XPATH, (\"(//div[@class='v-input--selection-controls__input'])[28]\")).click()\n",
    "    time.sleep(1.5)\n",
    "    driver.find_element(By.XPATH, (\"(//div[@class='v-input--selection-controls__input'])[29]\")).click()\n",
    "    time.sleep(1.5)\n",
    "    driver.find_element(By.XPATH, (\"(//div[@class='v-input--selection-controls__input'])[30]\")).click()\n",
    "    time.sleep(1.5)\n",
    "    driver.find_element(By.XPATH, (\"(//div[@class='v-input--selection-controls__input'])[31]\")).click()\n",
    "    time.sleep(1.5)"
   ]
  },
  {
   "cell_type": "code",
   "execution_count": 17,
   "id": "5d2b17fe",
   "metadata": {},
   "outputs": [],
   "source": [
    "#Choix de l'étage se confirme \n",
    "def choix_etage() :\n",
    "    if etage =='0' :\n",
    "        RDC()\n",
    "    if etage =='2' :\n",
    "        deuxieme()\n",
    "    if etage =='3' :\n",
    "        troisieme()\n",
    "choix_etage()"
   ]
  },
  {
   "cell_type": "code",
   "execution_count": 18,
   "id": "781089e1",
   "metadata": {},
   "outputs": [],
   "source": [
    "driver.back()"
   ]
  },
  {
   "cell_type": "code",
   "execution_count": 21,
   "id": "7821cc31",
   "metadata": {},
   "outputs": [],
   "source": [
    "driver.refresh()"
   ]
  },
  {
   "cell_type": "code",
   "execution_count": 23,
   "id": "333d42e0",
   "metadata": {},
   "outputs": [
    {
     "data": {
      "text/plain": [
       "'<div class=\"v-calendar-daily__day v-present\"><div class=\"v-calendar-daily__day-interval\" style=\"height: 20px;\"></div><div class=\"v-calendar-daily__day-interval\" style=\"height: 20px;\"></div><div class=\"v-calendar-daily__day-interval\" style=\"height: 20px;\"></div><div class=\"v-calendar-daily__day-interval\" style=\"height: 20px;\"></div><div class=\"v-calendar-daily__day-interval\" style=\"height: 20px;\"></div><div class=\"v-calendar-daily__day-interval\" style=\"height: 20px;\"></div><div class=\"v-calendar-daily__day-interval\" style=\"height: 20px;\"></div><div class=\"v-calendar-daily__day-interval\" style=\"height: 20px;\"></div><div class=\"v-calendar-daily__day-interval\" style=\"height: 20px;\"></div><div class=\"v-calendar-daily__day-interval\" style=\"height: 20px;\"></div><div class=\"v-calendar-daily__day-interval\" style=\"height: 20px;\"></div><div class=\"v-calendar-daily__day-interval\" style=\"height: 20px;\"></div><div class=\"v-calendar-daily__day-interval\" style=\"height: 20px;\"></div><div class=\"v-calendar-daily__day-interval\" style=\"height: 20px;\"></div><div class=\"v-calendar-daily__day-interval\" style=\"height: 20px;\"></div><div class=\"v-calendar-daily__day-interval\" style=\"height: 20px;\"></div><div class=\"v-calendar-daily__day-interval\" style=\"height: 20px;\"></div><div class=\"v-calendar-daily__day-interval\" style=\"height: 20px;\"></div><div class=\"v-calendar-daily__day-interval\" style=\"height: 20px;\"></div><div class=\"v-calendar-daily__day-interval\" style=\"height: 20px;\"></div><div class=\"v-calendar-daily__day-interval\" style=\"height: 20px;\"></div><div class=\"v-calendar-daily__day-interval\" style=\"height: 20px;\"></div><div class=\"v-calendar-daily__day-interval\" style=\"height: 20px;\"></div><div class=\"v-calendar-daily__day-interval\" style=\"height: 20px;\"></div><div class=\"v-calendar-daily__day-interval\" style=\"height: 20px;\"></div><div class=\"v-calendar-daily__day-interval\" style=\"height: 20px;\"></div><div class=\"v-event-timed-container\"><div class=\"v-event-timed onsecondary--text\" style=\"top: 40px; height: 480px; left: 0%; width: 14.1667%; background-color: rgb(255, 179, 153); border-color: rgb(255, 179, 153);\"><div class=\"pl-1\"><strong>IPI</strong><br>A 336</div></div><div class=\"v-event-timed onsecondary--text\" style=\"top: 40px; height: 400px; left: 9.09091%; width: 15.4545%; background-color: rgb(255, 255, 255); border-color: rgb(255, 255, 255);\"><div class=\"pl-1\"><strong>MASTER M2I</strong><br>Neukam Marion<br>A 330</div></div><div class=\"v-event-timed onsecondary--text\" style=\"top: 40px; height: 400px; left: 18.1818%; width: 15.4545%; background-color: rgb(153, 204, 255); border-color: rgb(153, 204, 255);\"><div class=\"pl-1\"><strong>Projets collectifs</strong><br>A 311</div></div><div class=\"v-event-timed onsecondary--text\" style=\"top: 40px; height: 400px; left: 27.2727%; width: 15.4545%; background-color: rgb(153, 204, 255); border-color: rgb(153, 204, 255);\"><div class=\"pl-1\"><strong>Projets collectifs</strong><br>A 331</div></div><div class=\"v-event-timed onsecondary--text\" style=\"top: 280px; height: 240px; left: 32.2727%; width: 17.6623%; background-color: rgb(255, 255, 255); border-color: rgb(255, 255, 255);\"><div class=\"pl-1\"><strong>RESA DIRECTION</strong><br>A 333</div></div><div class=\"v-event-timed onsecondary--text\" style=\"top: 40px; height: 240px; left: 36.3636%; width: 15.4545%; background-color: rgb(255, 255, 255); border-color: rgb(255, 255, 255);\"><div class=\"pl-1\"><strong>RESA DIRECTION</strong><br>A 333</div></div><div class=\"v-event-timed onsecondary--text\" style=\"top: 60px; height: 380px; left: 45.4545%; width: 15.4545%; background-color: rgb(102, 102, 255); border-color: rgb(102, 102, 255);\"><div class=\"pl-1\"><strong>#Formation - Compétences Coach</strong><br>A 329</div></div><div class=\"v-event-timed onsecondary--text\" style=\"top: 240px; height: 200px; left: 50.4545%; width: 18.5455%; background-color: rgb(153, 255, 153); border-color: rgb(153, 255, 153);\"><div class=\"pl-1\"><strong>Reverse Marketing and innovation purchasing (AI)</strong><br>Viale Laurence<br>A 313</div></div><div class=\"v-event-timed onsecondary--text\" style=\"top: 360px; height: 80px; left: 55.4545%; width: 44.5455%; background-color: rgb(255, 255, 255); border-color: rgb(255, 255, 255);\"><div class=\"pl-1\"><strong>P-AL105 / Allemand : Actualité économique et sociale / Juliane RÖSCH</strong><br>Rösch Juliane<br>A 326</div></div><div class=\"v-event-timed onsecondary--text\" style=\"top: 80px; height: 160px; left: 56.3636%; width: 18.5455%; background-color: rgb(255, 255, 255); border-color: rgb(255, 255, 255);\"><div class=\"pl-1\"><strong>LANGUES PGE 4H</strong><br>A 313</div></div><div class=\"v-event-timed onsecondary--text\" style=\"top: 240px; height: 120px; left: 60.3636%; width: 39.6364%; background-color: rgb(204, 204, 255); border-color: rgb(204, 204, 255);\"><div class=\"pl-1\"><strong>UE 10. Aspects institutionnels de l\\'UE</strong><br>Ullestad Antoine<br>A 312</div></div><div class=\"v-event-timed onsecondary--text\" style=\"top: 280px; height: 80px; left: 65.3636%; width: 22.4606%; background-color: rgb(122, 204, 203); border-color: rgb(122, 204, 203);\"><div class=\"pl-1\"><strong>Introduction à la finance</strong><br>Prinz Enrico<br>A 310</div></div><div class=\"v-event-timed onsecondary--text\" style=\"top: 80px; height: 120px; left: 67.2727%; width: 18.5455%; background-color: rgb(204, 204, 255); border-color: rgb(204, 204, 255);\"><div class=\"pl-1\"><strong>UE 10. Aspects institutionnels de l\\'UE</strong><br>Ullestad Antoine<br>A 312</div></div><div class=\"v-event-timed onsecondary--text\" style=\"top: 280px; height: 80px; left: 76.9091%; width: 19.6273%; background-color: rgb(204, 204, 255); border-color: rgb(204, 204, 255);\"><div class=\"pl-1\"><strong>UE 11. Strategy and innovation management</strong><br>Burger-Helmchen Thierry<br>A 314</div></div><div class=\"v-event-timed onsecondary--text\" style=\"top: 80px; height: 120px; left: 78.1818%; width: 21.8182%; background-color: rgb(153, 153, 255); border-color: rgb(153, 153, 255);\"><div class=\"pl-1\"><strong>Economie de la protection sociale</strong><br>Broussolle Damien<br>A 328</div></div><div class=\"v-event-timed onsecondary--text\" style=\"top: 120px; height: 80px; left: 83.1818%; width: 16.8182%; background-color: rgb(255, 255, 255); border-color: rgb(255, 255, 255);\"><div class=\"pl-1\"><strong>Statistiques S6 CM</strong><br>Dortet-Bernadet Jean-Luc<br>A 310</div></div><div class=\"v-event-timed onsecondary--text\" style=\"top: 280px; height: 80px; left: 88.4545%; width: 11.5455%; background-color: rgb(255, 255, 255); border-color: rgb(255, 255, 255);\"><div class=\"pl-1\"><strong>P-AL102 / Allemand : Actualité économique et sociale / Juliane RÖSCH</strong><br>Rösch Juliane<br>A 326</div></div></div></div>'"
      ]
     },
     "execution_count": 23,
     "metadata": {},
     "output_type": "execute_result"
    }
   ],
   "source": [
    "# ça sera l'élément qu'on devra scraper\n",
    "\n",
    "today_events = driver.find_element(By.CLASS_NAME, 'v-calendar-daily__day.v-present').get_attribute('outerHTML')\n",
    "today_events"
   ]
  },
  {
   "cell_type": "code",
   "execution_count": 24,
   "id": "c201e845",
   "metadata": {},
   "outputs": [
    {
     "data": {
      "text/plain": [
       "'[\\' style=\"top: 40px; height: 480px; left: 0%; width: 14.1667%; background-color: rgb(255, 179, 153); border-color: rgb(255, 179, 153);\"><div class=\"pl-1\"><strong>IPI</strong><br>A 336\\', \\' style=\"top: 40px; height: 400px; left: 9.09091%; width: 15.4545%; background-color: rgb(255, 255, 255); border-color: rgb(255, 255, 255);\"><div class=\"pl-1\"><strong>MASTER M2I</strong><br>Neukam Marion<br>A 330\\', \\' style=\"top: 40px; height: 400px; left: 18.1818%; width: 15.4545%; background-color: rgb(153, 204, 255); border-color: rgb(153, 204, 255);\"><div class=\"pl-1\"><strong>Projets collectifs</strong><br>A 311\\', \\' style=\"top: 40px; height: 400px; left: 27.2727%; width: 15.4545%; background-color: rgb(153, 204, 255); border-color: rgb(153, 204, 255);\"><div class=\"pl-1\"><strong>Projets collectifs</strong><br>A 331\\', \\' style=\"top: 280px; height: 240px; left: 32.2727%; width: 17.6623%; background-color: rgb(255, 255, 255); border-color: rgb(255, 255, 255);\"><div class=\"pl-1\"><strong>RESA DIRECTION</strong><br>A 333\\', \\' style=\"top: 40px; height: 240px; left: 36.3636%; width: 15.4545%; background-color: rgb(255, 255, 255); border-color: rgb(255, 255, 255);\"><div class=\"pl-1\"><strong>RESA DIRECTION</strong><br>A 333\\', \\' style=\"top: 60px; height: 380px; left: 45.4545%; width: 15.4545%; background-color: rgb(102, 102, 255); border-color: rgb(102, 102, 255);\"><div class=\"pl-1\"><strong>#Formation - Compétences Coach</strong><br>A 329\\', \\' style=\"top: 240px; height: 200px; left: 50.4545%; width: 18.5455%; background-color: rgb(153, 255, 153); border-color: rgb(153, 255, 153);\"><div class=\"pl-1\"><strong>Reverse Marketing and innovation purchasing (AI)</strong><br>Viale Laurence<br>A 313\\', \\' style=\"top: 360px; height: 80px; left: 55.4545%; width: 44.5455%; background-color: rgb(255, 255, 255); border-color: rgb(255, 255, 255);\"><div class=\"pl-1\"><strong>P-AL105 / Allemand : Actualité économique et sociale / Juliane RÖSCH</strong><br>Rösch Juliane<br>A 326\\', \\' style=\"top: 80px; height: 160px; left: 56.3636%; width: 18.5455%; background-color: rgb(255, 255, 255); border-color: rgb(255, 255, 255);\"><div class=\"pl-1\"><strong>LANGUES PGE 4H</strong><br>A 313\\', \\' style=\"top: 240px; height: 120px; left: 60.3636%; width: 39.6364%; background-color: rgb(204, 204, 255); border-color: rgb(204, 204, 255);\"><div class=\"pl-1\"><strong>UE 10. Aspects institutionnels de l\\\\\\'UE</strong><br>Ullestad Antoine<br>A 312\\', \\' style=\"top: 280px; height: 80px; left: 65.3636%; width: 22.4606%; background-color: rgb(122, 204, 203); border-color: rgb(122, 204, 203);\"><div class=\"pl-1\"><strong>Introduction à la finance</strong><br>Prinz Enrico<br>A 310\\', \\' style=\"top: 80px; height: 120px; left: 67.2727%; width: 18.5455%; background-color: rgb(204, 204, 255); border-color: rgb(204, 204, 255);\"><div class=\"pl-1\"><strong>UE 10. Aspects institutionnels de l\\\\\\'UE</strong><br>Ullestad Antoine<br>A 312\\', \\' style=\"top: 280px; height: 80px; left: 76.9091%; width: 19.6273%; background-color: rgb(204, 204, 255); border-color: rgb(204, 204, 255);\"><div class=\"pl-1\"><strong>UE 11. Strategy and innovation management</strong><br>Burger-Helmchen Thierry<br>A 314\\', \\' style=\"top: 80px; height: 120px; left: 78.1818%; width: 21.8182%; background-color: rgb(153, 153, 255); border-color: rgb(153, 153, 255);\"><div class=\"pl-1\"><strong>Economie de la protection sociale</strong><br>Broussolle Damien<br>A 328\\', \\' style=\"top: 120px; height: 80px; left: 83.1818%; width: 16.8182%; background-color: rgb(255, 255, 255); border-color: rgb(255, 255, 255);\"><div class=\"pl-1\"><strong>Statistiques S6 CM</strong><br>Dortet-Bernadet Jean-Luc<br>A 310\\', \\' style=\"top: 280px; height: 80px; left: 88.4545%; width: 11.5455%; background-color: rgb(255, 255, 255); border-color: rgb(255, 255, 255);\"><div class=\"pl-1\"><strong>P-AL102 / Allemand : Actualité économique et sociale / Juliane RÖSCH</strong><br>Rösch Juliane<br>A 326\\']'"
      ]
     },
     "execution_count": 24,
     "metadata": {},
     "output_type": "execute_result"
    }
   ],
   "source": [
    "#séparer les évènements et les mettre dans une liste\n",
    "sep_events = []\n",
    "\n",
    "sep_events = re.findall('div class=\"v-event-timed onsecondary--text\"(.*?)</div></div>', today_events)\n",
    "sep_events= str(sep_events)\n",
    "sep_events"
   ]
  },
  {
   "cell_type": "code",
   "execution_count": 25,
   "id": "6cc96fcf",
   "metadata": {},
   "outputs": [
    {
     "data": {
      "text/plain": [
       "['A 336',\n",
       " 'A 330',\n",
       " 'A 311',\n",
       " 'A 331',\n",
       " 'A 333',\n",
       " 'A 333',\n",
       " 'A 329',\n",
       " 'A 313',\n",
       " 'A 326',\n",
       " 'A 313',\n",
       " 'A 312',\n",
       " 'A 310',\n",
       " 'A 312',\n",
       " 'A 314',\n",
       " 'A 328',\n",
       " 'A 310',\n",
       " 'A 326']"
      ]
     },
     "execution_count": 25,
     "metadata": {},
     "output_type": "execute_result"
    }
   ],
   "source": [
    "#récupérer toutes les salles\n",
    "rooms = re.findall('<br>(?=A )(.*?)\\'', sep_events)\n",
    "rooms"
   ]
  },
  {
   "cell_type": "code",
   "execution_count": 26,
   "id": "e6496afd",
   "metadata": {},
   "outputs": [
    {
     "data": {
      "text/plain": [
       "['A 015<br>A 018<br>A 020<br>A 016<br>A 017',\n",
       " 'A 0140<br>A 018<br>A 020<br>A 016<br>A 019']"
      ]
     },
     "execution_count": 26,
     "metadata": {},
     "output_type": "execute_result"
    }
   ],
   "source": [
    "# Pour tester plusieurs salles dans un évènement\n",
    "#roomx = ['A 015<br>A 018<br>A 020<br>A 016<br>A 017','A 0140<br>A 018<br>A 020<br>A 016<br>A 019']\n",
    "#roomx"
   ]
  },
  {
   "cell_type": "code",
   "execution_count": 27,
   "id": "112ee92d",
   "metadata": {},
   "outputs": [
    {
     "data": {
      "text/plain": [
       "['A 330', 'A 336', 'A 311', 'A 331']"
      ]
     },
     "execution_count": 27,
     "metadata": {},
     "output_type": "execute_result"
    }
   ],
   "source": [
    "##### Plusieurs Salles dans un évènement\n",
    "rooms = re.findall('<br>(?=A )(.*?)\\'', sep_events)\n",
    "test = rooms[0].count('<br>')\n",
    "if test!=0 :\n",
    "    for x in rooms :\n",
    "        rooms = re.split('<br>',str(x))\n",
    "\n",
    "rooms"
   ]
  },
  {
   "cell_type": "code",
   "execution_count": 31,
   "id": "1654cdee",
   "metadata": {},
   "outputs": [
    {
     "data": {
      "text/plain": [
       "['A 0140', 'A 018', 'A 020', 'A 016', 'A 019']"
      ]
     },
     "execution_count": 31,
     "metadata": {},
     "output_type": "execute_result"
    }
   ],
   "source": [
    "##### Plusieurs Salles dans un évènement\n",
    "rooms = re.findall('<br>(?=A )(.*?)\\'', sep_events)\n",
    "for x in roomx :\n",
    "    test = x.count('<br>')\n",
    "    if test != 0 :\n",
    "        for x in roomx :\n",
    "            split_rooms = re.split('<br>',str(x))\n",
    "split_rooms"
   ]
  },
  {
   "cell_type": "code",
   "execution_count": 26,
   "id": "ddcee52e",
   "metadata": {},
   "outputs": [
    {
     "data": {
      "text/plain": [
       "[40, 40, 40, 40, 280, 40, 60, 240, 360, 80, 240, 280, 80, 280, 80, 120, 280]"
      ]
     },
     "execution_count": 26,
     "metadata": {},
     "output_type": "execute_result"
    }
   ],
   "source": [
    "#récupérer les valeurs pixels début pour chaque salle + convertir en valeur numérique lorsque pas de plusieurs salles pour même cours\n",
    "top_pixels = re.findall('top: (.*?)px;', sep_events)\n",
    "top_pixels = [int(p) for p in top_pixels]\n",
    "top_pixels"
   ]
  },
  {
   "cell_type": "code",
   "execution_count": 20,
   "id": "d8de6d19",
   "metadata": {},
   "outputs": [
    {
     "ename": "NameError",
     "evalue": "name 'top_pixels_particulier' is not defined",
     "output_type": "error",
     "traceback": [
      "\u001b[1;31m---------------------------------------------------------------------------\u001b[0m",
      "\u001b[1;31mNameError\u001b[0m                                 Traceback (most recent call last)",
      "\u001b[1;32m~\\AppData\\Local\\Temp/ipykernel_10780/3616920675.py\u001b[0m in \u001b[0;36m<module>\u001b[1;34m\u001b[0m\n\u001b[0;32m      5\u001b[0m \u001b[1;32mif\u001b[0m \u001b[0mlen\u001b[0m\u001b[1;33m(\u001b[0m\u001b[0mrooms\u001b[0m\u001b[1;33m)\u001b[0m\u001b[1;33m>\u001b[0m \u001b[0mlen\u001b[0m\u001b[1;33m(\u001b[0m\u001b[0mtop_pixels\u001b[0m\u001b[1;33m)\u001b[0m \u001b[1;33m:\u001b[0m\u001b[1;33m\u001b[0m\u001b[1;33m\u001b[0m\u001b[0m\n\u001b[0;32m      6\u001b[0m     \u001b[0mtop_pixels_particulier\u001b[0m \u001b[1;33m=\u001b[0m\u001b[0mlen\u001b[0m\u001b[1;33m(\u001b[0m\u001b[0mrooms\u001b[0m\u001b[1;33m)\u001b[0m\u001b[1;33m*\u001b[0m\u001b[0mtop_pixels\u001b[0m\u001b[1;33m\u001b[0m\u001b[1;33m\u001b[0m\u001b[0m\n\u001b[1;32m----> 7\u001b[1;33m \u001b[0mtop_pixels_particulier\u001b[0m\u001b[1;33m\u001b[0m\u001b[1;33m\u001b[0m\u001b[0m\n\u001b[0m",
      "\u001b[1;31mNameError\u001b[0m: name 'top_pixels_particulier' is not defined"
     ]
    }
   ],
   "source": [
    "#récupérer les valeurs pixels début pour chaque salle + convertir en valeur numérique\n",
    "top_pixels = re.findall('top: (.*?)px;', sep_events)\n",
    "top_pixels = [int(p) for p in top_pixels]\n",
    "\n",
    "if len(rooms)> len(top_pixels) :\n",
    "    top_pixels_particulier =len(rooms)*top_pixels\n",
    "top_pixels_particulier"
   ]
  },
  {
   "cell_type": "code",
   "execution_count": 27,
   "id": "c2cf835a",
   "metadata": {},
   "outputs": [
    {
     "data": {
      "text/plain": [
       "[480,\n",
       " 400,\n",
       " 400,\n",
       " 400,\n",
       " 240,\n",
       " 240,\n",
       " 380,\n",
       " 200,\n",
       " 80,\n",
       " 160,\n",
       " 120,\n",
       " 80,\n",
       " 120,\n",
       " 80,\n",
       " 120,\n",
       " 80,\n",
       " 80]"
      ]
     },
     "execution_count": 27,
     "metadata": {},
     "output_type": "execute_result"
    }
   ],
   "source": [
    "#récupérer les valeurs pixels de durée pour chaque salle + convertri en valeur numérique\n",
    "height_pixels = re.findall('height: (.*?)px;', sep_events)\n",
    "height_pixels = [int(p) for p in height_pixels]\n",
    "height_pixels"
   ]
  },
  {
   "cell_type": "code",
   "execution_count": 28,
   "id": "3e65f49e",
   "metadata": {},
   "outputs": [
    {
     "data": {
      "text/plain": [
       "['08:00',\n",
       " '08:00',\n",
       " '08:00',\n",
       " '08:00',\n",
       " '14:00',\n",
       " '08:00',\n",
       " '08:30',\n",
       " '13:00',\n",
       " '16:00',\n",
       " '09:00',\n",
       " '13:00',\n",
       " '14:00',\n",
       " '09:00',\n",
       " '14:00',\n",
       " '09:00',\n",
       " '10:00',\n",
       " '14:00']"
      ]
     },
     "execution_count": 28,
     "metadata": {},
     "output_type": "execute_result"
    }
   ],
   "source": [
    "#### DÉBUT en format H:M ####\n",
    "occupation_start_numbers = [(7 + ((p / 20) * 0.5)) * 60 for p in top_pixels]\n",
    "df1 = pd.DataFrame({'start': occupation_start_numbers})\n",
    "df1 = pd.to_datetime(df1.start, unit='m').dt.strftime('%H:%M')\n",
    "occupation_start_in_hours = df1.values.tolist()\n",
    "occupation_start_in_hours"
   ]
  },
  {
   "cell_type": "code",
   "execution_count": 29,
   "id": "64c43d6c",
   "metadata": {},
   "outputs": [
    {
     "data": {
      "text/plain": [
       "[720.0,\n",
       " 600.0,\n",
       " 600.0,\n",
       " 600.0,\n",
       " 360.0,\n",
       " 360.0,\n",
       " 570.0,\n",
       " 300.0,\n",
       " 120.0,\n",
       " 240.0,\n",
       " 180.0,\n",
       " 120.0,\n",
       " 180.0,\n",
       " 120.0,\n",
       " 180.0,\n",
       " 120.0,\n",
       " 120.0]"
      ]
     },
     "execution_count": 29,
     "metadata": {},
     "output_type": "execute_result"
    }
   ],
   "source": [
    "#convertir les pixels en minutes (DURÉES)\n",
    "occupation_duration = [(((p / 20) * 0.5) * 60) for p in height_pixels]\n",
    "occupation_duration"
   ]
  },
  {
   "cell_type": "code",
   "execution_count": 30,
   "id": "083302e7",
   "metadata": {},
   "outputs": [
    {
     "data": {
      "text/plain": [
       "['12:00',\n",
       " '10:00',\n",
       " '10:00',\n",
       " '10:00',\n",
       " '06:00',\n",
       " '06:00',\n",
       " '09:30',\n",
       " '05:00',\n",
       " '02:00',\n",
       " '04:00',\n",
       " '03:00',\n",
       " '02:00',\n",
       " '03:00',\n",
       " '02:00',\n",
       " '03:00',\n",
       " '02:00',\n",
       " '02:00']"
      ]
     },
     "execution_count": 30,
     "metadata": {},
     "output_type": "execute_result"
    }
   ],
   "source": [
    "#### DURÉES en format H:M ####\n",
    "df = pd.DataFrame({'duration': occupation_duration})\n",
    "df = pd.to_datetime(df.duration, unit='m').dt.strftime('%H:%M')\n",
    "occupation_duration_in_hours = df.values.tolist()\n",
    "occupation_duration_in_hours"
   ]
  },
  {
   "cell_type": "code",
   "execution_count": 31,
   "id": "4acfe2d2",
   "metadata": {},
   "outputs": [
    {
     "data": {
      "text/plain": [
       "['20:00',\n",
       " '18:00',\n",
       " '18:00',\n",
       " '18:00',\n",
       " '20:00',\n",
       " '14:00',\n",
       " '18:00',\n",
       " '18:00',\n",
       " '18:00',\n",
       " '13:00',\n",
       " '16:00',\n",
       " '16:00',\n",
       " '12:00',\n",
       " '16:00',\n",
       " '12:00',\n",
       " '12:00',\n",
       " '16:00']"
      ]
     },
     "execution_count": 31,
     "metadata": {},
     "output_type": "execute_result"
    }
   ],
   "source": [
    "#### HEURE DE FIN en format H:M ####\n",
    "occupation_end_in_minutes = [x + y for x, y in zip(occupation_start_numbers, occupation_duration)]\n",
    "occupation_end_in_minutes\n",
    "\n",
    "df2 = pd.DataFrame({'end': occupation_end_in_minutes})\n",
    "df2 = pd.to_datetime(df2.end, unit='m').dt.strftime('%H:%M')\n",
    "occupation_end_in_hours = df2.values.tolist()\n",
    "occupation_end_in_hours"
   ]
  },
  {
   "cell_type": "code",
   "execution_count": 61,
   "id": "e1a70d40",
   "metadata": {},
   "outputs": [
    {
     "data": {
      "text/plain": [
       "defaultdict(list,\n",
       "            {'A 336': [['08:00', '20:00']],\n",
       "             'A 330': [['08:00', '18:00']],\n",
       "             'A 311': [['08:00', '18:00']],\n",
       "             'A 331': [['08:00', '18:00']],\n",
       "             'A 333': [['14:00', '20:00'], ['08:00', '14:00']],\n",
       "             'A 329': [['08:30', '18:00']],\n",
       "             'A 313': [['13:00', '18:00'], ['09:00', '13:00']],\n",
       "             'A 326': [['16:00', '18:00'], ['14:00', '16:00']],\n",
       "             'A 312': [['13:00', '16:00'], ['09:00', '12:00']],\n",
       "             'A 310': [['14:00', '16:00'], ['10:00', '12:00']],\n",
       "             'A 314': [['14:00', '16:00']],\n",
       "             'A 328': [['09:00', '12:00']]})"
      ]
     },
     "execution_count": 61,
     "metadata": {},
     "output_type": "execute_result"
    }
   ],
   "source": [
    "dict_content = defaultdict(list)\n",
    "start_end = [list(t) for t in zip(occupation_start_in_hours, occupation_end_in_hours)]\n",
    "\n",
    "for x,y in zip(rooms, start_end):\n",
    "    dict_content[x].append(y)\n",
    "dict_content"
   ]
  },
  {
   "cell_type": "code",
   "execution_count": 39,
   "id": "fbc0d5a6",
   "metadata": {},
   "outputs": [
    {
     "data": {
      "text/plain": [
       "[['A 015',\n",
       "  'A 016',\n",
       "  'A 017',\n",
       "  'A 018',\n",
       "  'A 019',\n",
       "  'A 020',\n",
       "  'A 021',\n",
       "  'A 022',\n",
       "  'A 023',\n",
       "  'A 024',\n",
       "  'A 025',\n",
       "  'A 026',\n",
       "  'A 027'],\n",
       " ['A 210', 'A 231', 'A 233'],\n",
       " ['A 310',\n",
       "  'A 311',\n",
       "  'A 312',\n",
       "  'A 313',\n",
       "  'A 314',\n",
       "  'A 326',\n",
       "  'A 327',\n",
       "  'A 328',\n",
       "  'A 329',\n",
       "  'A 330',\n",
       "  'A 331',\n",
       "  'A 333',\n",
       "  'A 336']]"
      ]
     },
     "execution_count": 39,
     "metadata": {},
     "output_type": "execute_result"
    }
   ],
   "source": [
    "### Transformer le dictionnaire de salles utilisées en répertoir de salles libres\n",
    "\n",
    "liste_salles_0 = ['A 015','A 016','A 017','A 018','A 019','A 020','A 021','A 022','A 023','A 024','A 025','A 026','A 027']\n",
    "liste_salles_2 = ['A 210','A 231', 'A 233']\n",
    "liste_salles_3 = ['A 310','A 311','A 312','A 313','A 314','A 326','A 327','A 328','A 329','A 330','A 331','A 333','A 336']\n",
    "liste_totale = [liste_salles_0, liste_salles_2, liste_salles_3]\n",
    "liste_totale"
   ]
  },
  {
   "cell_type": "code",
   "execution_count": 30,
   "id": "e141c924",
   "metadata": {},
   "outputs": [
    {
     "data": {
      "text/plain": [
       "['A 015',\n",
       " 'A 016',\n",
       " 'A 017',\n",
       " 'A 018',\n",
       " 'A 019',\n",
       " 'A 020',\n",
       " 'A 021',\n",
       " 'A 022',\n",
       " 'A 023',\n",
       " 'A 024',\n",
       " 'A 025',\n",
       " 'A 026',\n",
       " 'A 027',\n",
       " 'A 210',\n",
       " 'A 231',\n",
       " 'A 233',\n",
       " 'A 310',\n",
       " 'A 311',\n",
       " 'A 312',\n",
       " 'A 313',\n",
       " 'A 314',\n",
       " 'A 326',\n",
       " 'A 327',\n",
       " 'A 328',\n",
       " 'A 329',\n",
       " 'A 331',\n",
       " 'A 333',\n",
       " 'A 336']"
      ]
     },
     "execution_count": 30,
     "metadata": {},
     "output_type": "execute_result"
    }
   ],
   "source": [
    "#Salles libres toute la journée (si la salle n'est pas présente du tout dans les salles occupées)\n",
    "now = datetime.now()\n",
    "now_time= now.strftime(\"%H:%M\")  \n",
    "now_time\n",
    "\n",
    "salle_libre = []\n",
    "for i in range(0,3):\n",
    "        for x in liste_totale[i] :\n",
    "            if x in dict_content.keys() :\n",
    "                pass\n",
    "            else : \n",
    "                salle_libre += [x]\n",
    "salle_libre\n"
   ]
  },
  {
   "cell_type": "code",
   "execution_count": 33,
   "id": "956c5ac6",
   "metadata": {
    "scrolled": true
   },
   "outputs": [
    {
     "data": {
      "text/plain": [
       "['A 015',\n",
       " 'A 016',\n",
       " 'A 017',\n",
       " 'A 018',\n",
       " 'A 019',\n",
       " 'A 020',\n",
       " 'A 021',\n",
       " 'A 022',\n",
       " 'A 023',\n",
       " 'A 024',\n",
       " 'A 025',\n",
       " 'A 026',\n",
       " 'A 027',\n",
       " 'A 210',\n",
       " 'A 231',\n",
       " 'A 233',\n",
       " 'A 310',\n",
       " 'A 311',\n",
       " 'A 312',\n",
       " 'A 313',\n",
       " 'A 314',\n",
       " 'A 326',\n",
       " 'A 327',\n",
       " 'A 328',\n",
       " 'A 329',\n",
       " 'A 331',\n",
       " 'A 333',\n",
       " 'A 336',\n",
       " 'A 330',\n",
       " 'A 330',\n",
       " 'A 330']"
      ]
     },
     "execution_count": 33,
     "metadata": {},
     "output_type": "execute_result"
    }
   ],
   "source": [
    "## Si now_time > heure de fin\n",
    "elem = []\n",
    "for i in list(dict_content.keys()) :\n",
    "    elem = dict_content[str(i)]\n",
    "    if now_time > elem[1]:\n",
    "            salle_libre += [i]\n",
    "salle_libre        "
   ]
  },
  {
   "cell_type": "code",
   "execution_count": null,
   "id": "2e4f7c0c",
   "metadata": {},
   "outputs": [],
   "source": [
    "## Si heure de début < now_time < heure de fin (salle occupée)\n",
    "elem = []\n",
    "for i in list(dict_content.keys()):\n",
    "    elem = dict_content[str(i)]\n",
    "    if elem[0] < now_time < elem[1]:\n",
    "        salle_libre -= [i]\n",
    "salle_libre"
   ]
  },
  {
   "cell_type": "code",
   "execution_count": null,
   "id": "6702cd74",
   "metadata": {},
   "outputs": [],
   "source": [
    "## Si now_time < heure de début\n",
    "elem = []\n",
    "for i in list(dict_content.keys()):\n",
    "    elem = dict_content[str(i)]\n",
    "    if now_time < elem[0]\n",
    "        salle_libre += [i]\n",
    "salle_libre"
   ]
  },
  {
   "cell_type": "code",
   "execution_count": 56,
   "id": "6c2c8fe5",
   "metadata": {},
   "outputs": [],
   "source": [
    "# Retourner dans l'onglet personnaliser\n",
    "def clicker_onglet_personnaliser():\n",
    "    driver.find_element(By.CSS_SELECTOR, '#app-toolbar > div > button.v-app-bar__nav-icon.hidden-md-and-up.v-btn.v-btn--flat.v-btn--icon.v-btn--round.theme--dark.v-size--default > span > i').click()\n",
    "    time.sleep(5.0)\n",
    "    driver.find_element(By.CSS_SELECTOR, '#unistra-schedule > div.v-application--wrap > div > nav > div.v-navigation-drawer__content > div > a:nth-child(1)').click() # ici en fonction  de la position de l'élément\n",
    "    time.sleep(5.0)\n",
    "\n",
    "clicker_onglet_personnaliser()"
   ]
  },
  {
   "cell_type": "code",
   "execution_count": 58,
   "id": "8f106a38",
   "metadata": {},
   "outputs": [],
   "source": [
    "# Déselection des salles \n",
    "def deselectionneur():\n",
    "    compteur = 1\n",
    "    while compteur < 14:\n",
    "        driver.find_element(By.CLASS_NAME, 'v-list-item__action.my-0.mr-3').click()\n",
    "        compteur += 1\n",
    "        time.sleep(1.0)\n",
    "\n",
    "deselectionneur()"
   ]
  },
  {
   "cell_type": "code",
   "execution_count": null,
   "id": "9bf2c82f",
   "metadata": {},
   "outputs": [],
   "source": []
  },
  {
   "cell_type": "code",
   "execution_count": null,
   "id": "d94d66c7",
   "metadata": {},
   "outputs": [],
   "source": [
    "driver.close()"
   ]
  }
 ],
 "metadata": {
  "kernelspec": {
   "display_name": "Python 3 (ipykernel)",
   "language": "python",
   "name": "python3"
  },
  "language_info": {
   "codemirror_mode": {
    "name": "ipython",
    "version": 3
   },
   "file_extension": ".py",
   "mimetype": "text/x-python",
   "name": "python",
   "nbconvert_exporter": "python",
   "pygments_lexer": "ipython3",
   "version": "3.9.7"
  }
 },
 "nbformat": 4,
 "nbformat_minor": 5
}

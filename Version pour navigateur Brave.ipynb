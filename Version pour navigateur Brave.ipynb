{
 "cells": [
  {
   "cell_type": "code",
   "execution_count": 80,
   "id": "a12cde83",
   "metadata": {},
   "outputs": [],
   "source": [
    "import datetime\n",
    "import os\n",
    "import re\n",
    "from bs4 import BeautifulSoup\n",
    "import requests\n",
    "import numpy as np\n",
    "import pandas as pd\n",
    "from requests_html import HTMLSession\n",
    "from selenium import webdriver\n",
    "from webdriver_manager.chrome import ChromeDriverManager\n",
    "from selenium.webdriver.common.by import By\n",
    "import time"
   ]
  },
  {
   "cell_type": "code",
   "execution_count": 11,
   "id": "a25cb7da",
   "metadata": {},
   "outputs": [
    {
     "name": "stdout",
     "output_type": "stream",
     "text": [
      "Dans quelle promo es tu ? + DSEE\n"
     ]
    },
    {
     "data": {
      "text/plain": [
       "'DSEE'"
      ]
     },
     "execution_count": 11,
     "metadata": {},
     "output_type": "execute_result"
    }
   ],
   "source": [
    "classes= {'DSEE':,'MPE':,'EMI':,'SE':,'MBFA':,'MANI':,'MPI':,}\n",
    "\n",
    "\n",
    "edtb= input \n",
    "edtb"
   ]
  },
  {
   "cell_type": "code",
   "execution_count": 3,
   "id": "c13e989b",
   "metadata": {},
   "outputs": [],
   "source": [
    "url_edt = 'https://monemploidutemps.unistra.fr/consult/calendar'"
   ]
  },
  {
   "cell_type": "code",
   "execution_count": 4,
   "id": "2f3c9b80",
   "metadata": {},
   "outputs": [],
   "source": [
    "driver_path = \"C:/Windows/chromedriver.exe\"\n",
    "brave_path = \"C:/Program Files/BraveSoftware/Brave-Browser/Application/brave.exe\"\n",
    "\n",
    "option = webdriver.ChromeOptions()\n",
    "option.binary_location = brave_path"
   ]
  },
  {
   "cell_type": "code",
   "execution_count": 65,
   "id": "b68a87d5",
   "metadata": {},
   "outputs": [
    {
     "name": "stderr",
     "output_type": "stream",
     "text": [
      "C:\\Users\\daabv\\AppData\\Local\\Temp/ipykernel_1392/4021210926.py:1: DeprecationWarning: executable_path has been deprecated, please pass in a Service object\n",
      "  driver = webdriver.Chrome(executable_path=driver_path, chrome_options=option)\n",
      "C:\\Users\\daabv\\AppData\\Local\\Temp/ipykernel_1392/4021210926.py:1: DeprecationWarning: use options instead of chrome_options\n",
      "  driver = webdriver.Chrome(executable_path=driver_path, chrome_options=option)\n"
     ]
    }
   ],
   "source": [
    "driver = webdriver.Chrome(executable_path=driver_path, chrome_options=option)\n",
    "\n",
    "driver.get(url_edt)"
   ]
  },
  {
   "cell_type": "code",
   "execution_count": 66,
   "id": "7655f1be",
   "metadata": {},
   "outputs": [],
   "source": [
    "username = 'vdaab'\n",
    "password = 'va77da19&*'\n",
    "\n",
    "\n",
    "driver.find_element(By.ID, 'username').send_keys(username)\n",
    "driver.find_element(By.ID, 'password').send_keys(password)\n",
    "driver.find_element(By.ID, 'login-btn').click()"
   ]
  },
  {
   "cell_type": "code",
   "execution_count": 75,
   "id": "89d99c65",
   "metadata": {},
   "outputs": [
    {
     "ename": "NoSuchElementException",
     "evalue": "Message: no such element: Unable to locate element: {\"method\":\"xpath\",\"selector\":\"//*[@id=\"input-2761\"]\"}\n  (Session info: chrome=98.0.4758.87)\nStacktrace:\nBacktrace:\n\tOrdinal0 [0x010EA0A3+2597027]\n\tOrdinal0 [0x0107BA61+2144865]\n\tOrdinal0 [0x00F73C58+1064024]\n\tOrdinal0 [0x00FA020E+1245710]\n\tOrdinal0 [0x00FA040B+1246219]\n\tOrdinal0 [0x00FCA722+1419042]\n\tOrdinal0 [0x00FB87F4+1345524]\n\tOrdinal0 [0x00FC8B1A+1411866]\n\tOrdinal0 [0x00FB85C6+1344966]\n\tOrdinal0 [0x00F954C6+1201350]\n\tOrdinal0 [0x00F963B6+1205174]\n\tGetHandleVerifier [0x012910A2+1681842]\n\tGetHandleVerifier [0x01343B0C+2413596]\n\tGetHandleVerifier [0x01181221+568113]\n\tGetHandleVerifier [0x0117FFA3+563379]\n\tOrdinal0 [0x0108174E+2168654]\n\tOrdinal0 [0x01086538+2188600]\n\tOrdinal0 [0x01086680+2188928]\n\tOrdinal0 [0x0109030C+2229004]\n\tBaseThreadInitThunk [0x7685FA29+25]\n\tRtlGetAppContainerNamedObjectPath [0x778F7A9E+286]\n\tRtlGetAppContainerNamedObjectPath [0x778F7A6E+238]\n",
     "output_type": "error",
     "traceback": [
      "\u001b[1;31m---------------------------------------------------------------------------\u001b[0m",
      "\u001b[1;31mNoSuchElementException\u001b[0m                    Traceback (most recent call last)",
      "\u001b[1;32m~\\AppData\\Local\\Temp/ipykernel_1392/3269249892.py\u001b[0m in \u001b[0;36m<module>\u001b[1;34m\u001b[0m\n\u001b[0;32m     28\u001b[0m \u001b[0mtime\u001b[0m\u001b[1;33m.\u001b[0m\u001b[0msleep\u001b[0m\u001b[1;33m(\u001b[0m\u001b[1;36m3.0\u001b[0m\u001b[1;33m)\u001b[0m\u001b[1;33m\u001b[0m\u001b[1;33m\u001b[0m\u001b[0m\n\u001b[0;32m     29\u001b[0m \u001b[1;31m# cocher toutes les cases pour l'étage 0\u001b[0m\u001b[1;33m\u001b[0m\u001b[1;33m\u001b[0m\u001b[0m\n\u001b[1;32m---> 30\u001b[1;33m \u001b[0mdriver\u001b[0m\u001b[1;33m.\u001b[0m\u001b[0mfind_element\u001b[0m\u001b[1;33m(\u001b[0m\u001b[0mBy\u001b[0m\u001b[1;33m.\u001b[0m\u001b[0mXPATH\u001b[0m\u001b[1;33m,\u001b[0m \u001b[1;34m'//*[@id=\"input-2761\"]'\u001b[0m\u001b[1;33m)\u001b[0m\u001b[1;33m.\u001b[0m\u001b[0mclick\u001b[0m\u001b[1;33m(\u001b[0m\u001b[1;33m)\u001b[0m\u001b[1;33m\u001b[0m\u001b[1;33m\u001b[0m\u001b[0m\n\u001b[0m\u001b[0;32m     31\u001b[0m \u001b[0mtime\u001b[0m\u001b[1;33m.\u001b[0m\u001b[0msleep\u001b[0m\u001b[1;33m(\u001b[0m\u001b[1;36m0.75\u001b[0m\u001b[1;33m)\u001b[0m\u001b[1;33m\u001b[0m\u001b[1;33m\u001b[0m\u001b[0m\n\u001b[0;32m     32\u001b[0m \u001b[0mdriver\u001b[0m\u001b[1;33m.\u001b[0m\u001b[0mfind_element\u001b[0m\u001b[1;33m(\u001b[0m\u001b[0mBy\u001b[0m\u001b[1;33m.\u001b[0m\u001b[0mXPATH\u001b[0m\u001b[1;33m,\u001b[0m \u001b[1;34m'//*[@id=\"input-2764\"]'\u001b[0m\u001b[1;33m)\u001b[0m\u001b[1;33m.\u001b[0m\u001b[0mclick\u001b[0m\u001b[1;33m(\u001b[0m\u001b[1;33m)\u001b[0m\u001b[1;33m\u001b[0m\u001b[1;33m\u001b[0m\u001b[0m\n",
      "\u001b[1;32m~\\anaconda3\\lib\\site-packages\\selenium\\webdriver\\remote\\webdriver.py\u001b[0m in \u001b[0;36mfind_element\u001b[1;34m(self, by, value)\u001b[0m\n\u001b[0;32m   1242\u001b[0m             \u001b[0mvalue\u001b[0m \u001b[1;33m=\u001b[0m \u001b[1;34m'[name=\"%s\"]'\u001b[0m \u001b[1;33m%\u001b[0m \u001b[0mvalue\u001b[0m\u001b[1;33m\u001b[0m\u001b[1;33m\u001b[0m\u001b[0m\n\u001b[0;32m   1243\u001b[0m \u001b[1;33m\u001b[0m\u001b[0m\n\u001b[1;32m-> 1244\u001b[1;33m         return self.execute(Command.FIND_ELEMENT, {\n\u001b[0m\u001b[0;32m   1245\u001b[0m             \u001b[1;34m'using'\u001b[0m\u001b[1;33m:\u001b[0m \u001b[0mby\u001b[0m\u001b[1;33m,\u001b[0m\u001b[1;33m\u001b[0m\u001b[1;33m\u001b[0m\u001b[0m\n\u001b[0;32m   1246\u001b[0m             'value': value})['value']\n",
      "\u001b[1;32m~\\anaconda3\\lib\\site-packages\\selenium\\webdriver\\remote\\webdriver.py\u001b[0m in \u001b[0;36mexecute\u001b[1;34m(self, driver_command, params)\u001b[0m\n\u001b[0;32m    422\u001b[0m         \u001b[0mresponse\u001b[0m \u001b[1;33m=\u001b[0m \u001b[0mself\u001b[0m\u001b[1;33m.\u001b[0m\u001b[0mcommand_executor\u001b[0m\u001b[1;33m.\u001b[0m\u001b[0mexecute\u001b[0m\u001b[1;33m(\u001b[0m\u001b[0mdriver_command\u001b[0m\u001b[1;33m,\u001b[0m \u001b[0mparams\u001b[0m\u001b[1;33m)\u001b[0m\u001b[1;33m\u001b[0m\u001b[1;33m\u001b[0m\u001b[0m\n\u001b[0;32m    423\u001b[0m         \u001b[1;32mif\u001b[0m \u001b[0mresponse\u001b[0m\u001b[1;33m:\u001b[0m\u001b[1;33m\u001b[0m\u001b[1;33m\u001b[0m\u001b[0m\n\u001b[1;32m--> 424\u001b[1;33m             \u001b[0mself\u001b[0m\u001b[1;33m.\u001b[0m\u001b[0merror_handler\u001b[0m\u001b[1;33m.\u001b[0m\u001b[0mcheck_response\u001b[0m\u001b[1;33m(\u001b[0m\u001b[0mresponse\u001b[0m\u001b[1;33m)\u001b[0m\u001b[1;33m\u001b[0m\u001b[1;33m\u001b[0m\u001b[0m\n\u001b[0m\u001b[0;32m    425\u001b[0m             response['value'] = self._unwrap_value(\n\u001b[0;32m    426\u001b[0m                 response.get('value', None))\n",
      "\u001b[1;32m~\\anaconda3\\lib\\site-packages\\selenium\\webdriver\\remote\\errorhandler.py\u001b[0m in \u001b[0;36mcheck_response\u001b[1;34m(self, response)\u001b[0m\n\u001b[0;32m    245\u001b[0m                 \u001b[0malert_text\u001b[0m \u001b[1;33m=\u001b[0m \u001b[0mvalue\u001b[0m\u001b[1;33m[\u001b[0m\u001b[1;34m'alert'\u001b[0m\u001b[1;33m]\u001b[0m\u001b[1;33m.\u001b[0m\u001b[0mget\u001b[0m\u001b[1;33m(\u001b[0m\u001b[1;34m'text'\u001b[0m\u001b[1;33m)\u001b[0m\u001b[1;33m\u001b[0m\u001b[1;33m\u001b[0m\u001b[0m\n\u001b[0;32m    246\u001b[0m             \u001b[1;32mraise\u001b[0m \u001b[0mexception_class\u001b[0m\u001b[1;33m(\u001b[0m\u001b[0mmessage\u001b[0m\u001b[1;33m,\u001b[0m \u001b[0mscreen\u001b[0m\u001b[1;33m,\u001b[0m \u001b[0mstacktrace\u001b[0m\u001b[1;33m,\u001b[0m \u001b[0malert_text\u001b[0m\u001b[1;33m)\u001b[0m  \u001b[1;31m# type: ignore[call-arg]  # mypy is not smart enough here\u001b[0m\u001b[1;33m\u001b[0m\u001b[1;33m\u001b[0m\u001b[0m\n\u001b[1;32m--> 247\u001b[1;33m         \u001b[1;32mraise\u001b[0m \u001b[0mexception_class\u001b[0m\u001b[1;33m(\u001b[0m\u001b[0mmessage\u001b[0m\u001b[1;33m,\u001b[0m \u001b[0mscreen\u001b[0m\u001b[1;33m,\u001b[0m \u001b[0mstacktrace\u001b[0m\u001b[1;33m)\u001b[0m\u001b[1;33m\u001b[0m\u001b[1;33m\u001b[0m\u001b[0m\n\u001b[0m\u001b[0;32m    248\u001b[0m \u001b[1;33m\u001b[0m\u001b[0m\n\u001b[0;32m    249\u001b[0m     \u001b[1;32mdef\u001b[0m \u001b[0m_value_or_default\u001b[0m\u001b[1;33m(\u001b[0m\u001b[0mself\u001b[0m\u001b[1;33m,\u001b[0m \u001b[0mobj\u001b[0m\u001b[1;33m:\u001b[0m \u001b[0mMapping\u001b[0m\u001b[1;33m[\u001b[0m\u001b[0m_KT\u001b[0m\u001b[1;33m,\u001b[0m \u001b[0m_VT\u001b[0m\u001b[1;33m]\u001b[0m\u001b[1;33m,\u001b[0m \u001b[0mkey\u001b[0m\u001b[1;33m:\u001b[0m \u001b[0m_KT\u001b[0m\u001b[1;33m,\u001b[0m \u001b[0mdefault\u001b[0m\u001b[1;33m:\u001b[0m \u001b[0m_VT\u001b[0m\u001b[1;33m)\u001b[0m \u001b[1;33m->\u001b[0m \u001b[0m_VT\u001b[0m\u001b[1;33m:\u001b[0m\u001b[1;33m\u001b[0m\u001b[1;33m\u001b[0m\u001b[0m\n",
      "\u001b[1;31mNoSuchElementException\u001b[0m: Message: no such element: Unable to locate element: {\"method\":\"xpath\",\"selector\":\"//*[@id=\"input-2761\"]\"}\n  (Session info: chrome=98.0.4758.87)\nStacktrace:\nBacktrace:\n\tOrdinal0 [0x010EA0A3+2597027]\n\tOrdinal0 [0x0107BA61+2144865]\n\tOrdinal0 [0x00F73C58+1064024]\n\tOrdinal0 [0x00FA020E+1245710]\n\tOrdinal0 [0x00FA040B+1246219]\n\tOrdinal0 [0x00FCA722+1419042]\n\tOrdinal0 [0x00FB87F4+1345524]\n\tOrdinal0 [0x00FC8B1A+1411866]\n\tOrdinal0 [0x00FB85C6+1344966]\n\tOrdinal0 [0x00F954C6+1201350]\n\tOrdinal0 [0x00F963B6+1205174]\n\tGetHandleVerifier [0x012910A2+1681842]\n\tGetHandleVerifier [0x01343B0C+2413596]\n\tGetHandleVerifier [0x01181221+568113]\n\tGetHandleVerifier [0x0117FFA3+563379]\n\tOrdinal0 [0x0108174E+2168654]\n\tOrdinal0 [0x01086538+2188600]\n\tOrdinal0 [0x01086680+2188928]\n\tOrdinal0 [0x0109030C+2229004]\n\tBaseThreadInitThunk [0x7685FA29+25]\n\tRtlGetAppContainerNamedObjectPath [0x778F7A9E+286]\n\tRtlGetAppContainerNamedObjectPath [0x778F7A6E+238]\n"
     ]
    }
   ],
   "source": [
    "# aller dans 'personnaliser' > cocher pour le 1er étage > retourner dans 'consulter' pour récup les données\n",
    "#### pour que ça marche ne pas mettre fenêtre en plein écran\n",
    "\n",
    "\n",
    "# cliquer sur le menu Ξ\n",
    "driver.find_element(By.XPATH, '//*[@id=\"app-toolbar\"]/div/button[1]/span/i').click()\n",
    "time.sleep(1.0)\n",
    "# cliquer sur 'personnaliser'\n",
    "driver.find_element(By.XPATH, '//*[@id=\"unistra-schedule\"]/div[4]/div/nav/div[1]/div/a[1]/div[2]').click()\n",
    "time.sleep(1.0)\n",
    "# modifier la sélection (marche pas pour l'instant)\n",
    "driver.find_element(By.XPATH, '//*[@id=\"unistra-schedule\"]/div/div/main/div/div[2]/div/div/div[3]/div/div/div[3]/button/span/strong').click()\n",
    "time.sleep(1.0)\n",
    "# cliquer sur 'salles'\n",
    "driver.find_element(By.XPATH, '//*[@id=\"resources-selection\"]/div/div/div[2]/div/div/div[3]/div/i').click()\n",
    "time.sleep(1.0)\n",
    "# cliquer sur 'AFO -AV. DE LA FORET NOIRE'\n",
    "driver.find_element(By.XPATH, '//*[@id=\"resources-selection\"]/div/div/div[2]/div/div/div[3]/div[2]/div[1]/div/i').click()\n",
    "time.sleep(1.0)\n",
    "# cliquer sur 'PEGE'\n",
    "driver.find_element(By.XPATH, '//*[@id=\"resources-selection\"]/div/div/div[2]/div/div/div[3]/div[2]/div[1]/div[2]/div[3]/div/i').click()\n",
    "time.sleep(3.0)\n",
    "# cliquer sur 'FSEG'\n",
    "driver.find_element(By.XPATH, '//*[@id=\"resources-selection\"]/div/div/div[2]/div/div/div[3]/div[2]/div[1]/div[2]/div[3]/div[2]/div[3]/div/i').click()\n",
    "time.sleep(3.0)\n",
    "# cliquer sur 'FSEG - Salles de cours'\n",
    "driver.find_element(By.XPATH, '//*[@id=\"resources-selection\"]/div/div/div[2]/div/div/div[3]/div[2]/div[1]/div[2]/div[3]/div[2]/div[3]/div[2]/div[2]/div/i').click()\n",
    "time.sleep(3.0)\n",
    "# cocher toutes les cases pour l'étage 0 (marche pas les cases changent de nom en fonction de ce qui est coché dans ton emploi du temps)\n",
    "driver.find_element(By.XPATH, '//*[@id=\"input-2761\"]').click()\n",
    "time.sleep(0.75)\n",
    "driver.find_element(By.XPATH, '//*[@id=\"input-2764\"]').click()\n",
    "time.sleep(0.75)\n",
    "driver.find_element(By.XPATH, '//*[@id=\"input-2767\"]').click()\n",
    "time.sleep(0.75)\n",
    "driver.find_element(By.XPATH, '//*[@id=\"input-2770\"]').click()\n",
    "time.sleep(0.75)\n",
    "driver.find_element(By.XPATH, '//*[@id=\"input-2773\"]').click()\n",
    "time.sleep(0.75)\n",
    "driver.find_element(By.XPATH, '//*[@id=\"input-2776\"]').click()\n",
    "time.sleep(0.75)\n",
    "driver.find_element(By.XPATH, '//*[@id=\"input-2779\"]').click()\n",
    "time.sleep(0.75)\n",
    "driver.find_element(By.XPATH, '//*[@id=\"input-2782\"]').click()\n",
    "time.sleep(0.75)\n",
    "driver.find_element(By.XPATH, '//*[@id=\"input-2785\"]').click()\n",
    "time.sleep(0.75)\n",
    "driver.find_element(By.XPATH, '//*[@id=\"input-2788\"]').click()\n",
    "time.sleep(0.75)\n",
    "driver.find_element(By.XPATH, '//*[@id=\"input-2791\"]').click()\n",
    "time.sleep(0.75)\n",
    "driver.find_element(By.XPATH, '//*[@id=\"input-2794\"]').click()\n",
    "time.sleep(0.75)\n",
    "driver.find_element(By.XPATH, '//*[@id=\"input-2797\"]').click()\n",
    "\n",
    "\n",
    "\n",
    "\n"
   ]
  },
  {
   "cell_type": "code",
   "execution_count": 8,
   "id": "333d42e0",
   "metadata": {},
   "outputs": [
    {
     "data": {
      "text/plain": [
       "'<div class=\"v-calendar-daily__day v-present\"><div class=\"v-calendar-daily__day-interval\" style=\"height: 20px;\"></div><div class=\"v-calendar-daily__day-interval\" style=\"height: 20px;\"></div><div class=\"v-calendar-daily__day-interval\" style=\"height: 20px;\"></div><div class=\"v-calendar-daily__day-interval\" style=\"height: 20px;\"></div><div class=\"v-calendar-daily__day-interval\" style=\"height: 20px;\"></div><div class=\"v-calendar-daily__day-interval\" style=\"height: 20px;\"></div><div class=\"v-calendar-daily__day-interval\" style=\"height: 20px;\"></div><div class=\"v-calendar-daily__day-interval\" style=\"height: 20px;\"></div><div class=\"v-calendar-daily__day-interval\" style=\"height: 20px;\"></div><div class=\"v-calendar-daily__day-interval\" style=\"height: 20px;\"></div><div class=\"v-calendar-daily__day-interval\" style=\"height: 20px;\"></div><div class=\"v-calendar-daily__day-interval\" style=\"height: 20px;\"></div><div class=\"v-calendar-daily__day-interval\" style=\"height: 20px;\"></div><div class=\"v-calendar-daily__day-interval\" style=\"height: 20px;\"></div><div class=\"v-calendar-daily__day-interval\" style=\"height: 20px;\"></div><div class=\"v-calendar-daily__day-interval\" style=\"height: 20px;\"></div><div class=\"v-calendar-daily__day-interval\" style=\"height: 20px;\"></div><div class=\"v-calendar-daily__day-interval\" style=\"height: 20px;\"></div><div class=\"v-calendar-daily__day-interval\" style=\"height: 20px;\"></div><div class=\"v-calendar-daily__day-interval\" style=\"height: 20px;\"></div><div class=\"v-calendar-daily__day-interval\" style=\"height: 20px;\"></div><div class=\"v-calendar-daily__day-interval\" style=\"height: 20px;\"></div><div class=\"v-calendar-daily__day-interval\" style=\"height: 20px;\"></div><div class=\"v-calendar-daily__day-interval\" style=\"height: 20px;\"></div><div class=\"v-calendar-daily__day-interval\" style=\"height: 20px;\"></div><div class=\"v-calendar-daily__day-interval\" style=\"height: 20px;\"></div><div class=\"v-event-timed-container\"><div class=\"v-event-timed onsecondary--text\" style=\"top: 40px; height: 80px; left: 0%; width: 14.1667%; background-color: rgb(255, 204, 204); border-color: rgb(255, 204, 204);\"><div class=\"pl-1\"><strong>Anglais B-AN101 CC intermédiaire - présentiel</strong><br>Houdet Marie Christina<br>A 019</div></div><div class=\"v-event-timed onsecondary--text\" style=\"top: 120px; height: 80px; left: 0%; width: 14.1667%; background-color: rgb(255, 204, 204); border-color: rgb(255, 204, 204);\"><div class=\"pl-1\"><strong>Anglais B-AN104 CC intermédiaire présentiel</strong><br>Hely Paul<br>A 021</div></div><div class=\"v-event-timed onsecondary--text\" style=\"top: 240px; height: 80px; left: 0%; width: 14.1667%; background-color: rgb(255, 204, 204); border-color: rgb(255, 204, 204);\"><div class=\"pl-1\"><strong>UE 3. Défis socio-économiques pour l\\'UE</strong><br>Ullestad Antoine<br>A 021</div></div><div class=\"v-event-timed onsecondary--text\" style=\"top: 320px; height: 60px; left: 0%; width: 14.1667%; background-color: rgb(153, 255, 153); border-color: rgb(153, 255, 153);\"><div class=\"pl-1\"><strong>Macroéconomie III (TD) Gr.4+5A</strong><br>Rastouil Jeremy<br>A 022</div></div><div class=\"v-event-timed onsecondary--text\" style=\"top: 400px; height: 60px; left: 0%; width: 14.1667%; background-color: rgb(255, 255, 204); border-color: rgb(255, 255, 204);\"><div class=\"pl-1\"><strong>Macroéconomie I (TD) Gr.B3</strong><br>Rastouil Jeremy<br>A 025</div></div><div class=\"v-event-timed onsecondary--text\" style=\"top: 460px; height: 60px; left: 0%; width: 28.3333%; background-color: rgb(255, 204, 255); border-color: rgb(255, 204, 255);\"><div class=\"pl-1\"><strong>Gestion financière TD G1</strong><br>Walgenwitz Clara<br>A 021</div></div><div class=\"v-event-timed onsecondary--text\" style=\"top: 40px; height: 80px; left: 9.09091%; width: 15.4545%; background-color: rgb(255, 204, 204); border-color: rgb(255, 204, 204);\"><div class=\"pl-1\"><strong>Anglais B-AN103 CC intermédiaire - présentiel</strong><br>Hely Paul<br>A 016</div></div><div class=\"v-event-timed onsecondary--text\" style=\"top: 120px; height: 80px; left: 9.09091%; width: 15.4545%; background-color: rgb(255, 255, 255); border-color: rgb(255, 255, 255);\"><div class=\"pl-1\"><strong>MKT - Etudes Marketing</strong><br>Casteran Herbert<br>A 023</div></div><div class=\"v-event-timed onsecondary--text\" style=\"top: 300px; height: 60px; left: 9.09091%; width: 15.4545%; background-color: rgb(255, 255, 204); border-color: rgb(255, 255, 204);\"><div class=\"pl-1\"><strong>Microéconomie II (TD) Gr.A5</strong><br>Bordot Florent<br>A 026</div></div><div class=\"v-event-timed onsecondary--text\" style=\"top: 360px; height: 60px; left: 9.09091%; width: 15.4545%; background-color: rgb(255, 255, 204); border-color: rgb(255, 255, 204);\"><div class=\"pl-1\"><strong>Microéconomie II (TD) Gr.B7</strong><br>Wolff Arnaud<br>A 026</div></div><div class=\"v-event-timed onsecondary--text\" style=\"top: 240px; height: 60px; left: 11.1111%; width: 18.8889%; background-color: rgb(255, 255, 204); border-color: rgb(255, 255, 204);\"><div class=\"pl-1\"><strong>Microéconomie II (TD) Gr.A6</strong><br>Bordot Florent<br>A 026</div></div><div class=\"v-event-timed onsecondary--text\" style=\"top: 180px; height: 60px; left: 14.0909%; width: 17.1717%; background-color: rgb(255, 255, 204); border-color: rgb(255, 255, 204);\"><div class=\"pl-1\"><strong>Comptabilité (TD) Gr.B4</strong><br>Zenakhi Nisrine<br>A 024</div></div><div class=\"v-event-timed onsecondary--text\" style=\"top: 180px; height: 60px; left: 14.0909%; width: 17.1717%; background-color: rgb(153, 255, 153); border-color: rgb(153, 255, 153);\"><div class=\"pl-1\"><strong>Métiers de l\\'éco. (TD) Gr.5B+6</strong><br>Barbier-Gauchard Amélie<br>A 016</div></div><div class=\"v-event-timed onsecondary--text\" style=\"top: 40px; height: 60px; left: 18.1818%; width: 15.4545%; background-color: rgb(153, 255, 153); border-color: rgb(153, 255, 153);\"><div class=\"pl-1\"><strong>Métiers de l\\'éco. (TD) Gr.1+2A</strong><br>Barbier-Gauchard Amélie<br>A 025</div></div><div class=\"v-event-timed onsecondary--text\" style=\"top: 100px; height: 60px; left: 18.1818%; width: 15.4545%; background-color: rgb(153, 255, 153); border-color: rgb(153, 255, 153);\"><div class=\"pl-1\"><strong>Métiers de l\\'éco. (TD) Gr.8B+9</strong><br>Barbier-Gauchard Amélie<br>A 017</div></div><div class=\"v-event-timed onsecondary--text\" style=\"top: 140px; height: 60px; left: 18.1818%; width: 15.4545%; background-color: rgb(255, 255, 204); border-color: rgb(255, 255, 204);\"><div class=\"pl-1\"><strong>Probabilités et stat. II (TD) Gr. B3</strong><br>Metais Carole<br>A 019</div></div><div class=\"v-event-timed onsecondary--text\" style=\"top: 140px; height: 60px; left: 18.1818%; width: 15.4545%; background-color: rgb(153, 255, 153); border-color: rgb(153, 255, 153);\"><div class=\"pl-1\"><strong>Microéconomie III (TD) Gr.4+5A</strong><br>Mitrouchev Ivan<br>A 018</div></div><div class=\"v-event-timed onsecondary--text\" style=\"top: 300px; height: 60px; left: 18.1818%; width: 15.4545%; background-color: rgb(255, 255, 204); border-color: rgb(255, 255, 204);\"><div class=\"pl-1\"><strong>Probabilités et stat. II (TD) Gr. A9</strong><br>Metais Carole<br>A 023</div></div><div class=\"v-event-timed onsecondary--text\" style=\"top: 360px; height: 60px; left: 18.1818%; width: 15.4545%; background-color: rgb(255, 255, 204); border-color: rgb(255, 255, 204);\"><div class=\"pl-1\"><strong>Probabilités et stat. II (TD) Gr. B9</strong><br>Metais Carole<br>A 024</div></div><div class=\"v-event-timed onsecondary--text\" style=\"top: 420px; height: 60px; left: 20%; width: 34%; background-color: rgb(255, 255, 204); border-color: rgb(255, 255, 204);\"><div class=\"pl-1\"><strong>Microéconomie II (TD) Gr.B8</strong><br>Wolff Arnaud<br>A 026</div></div><div class=\"v-event-timed onsecondary--text\" style=\"top: 240px; height: 60px; left: 22.2222%; width: 18.8889%; background-color: rgb(255, 255, 204); border-color: rgb(255, 255, 204);\"><div class=\"pl-1\"><strong>Microéconomie II (TD) Gr.A8 (LEA-ECO)</strong><br>Mitrouchev Ivan<br>A 025</div></div><div class=\"v-event-timed onsecondary--text\" style=\"top: 40px; height: 60px; left: 27.2727%; width: 15.4545%; background-color: rgb(255, 255, 204); border-color: rgb(255, 255, 204);\"><div class=\"pl-1\"><strong>Comptabilité (TD) Gr.B5 (ME)</strong><br>Zenakhi Nisrine<br>A 024</div></div><div class=\"v-event-timed onsecondary--text\" style=\"top: 120px; height: 80px; left: 27.2727%; width: 15.4545%; background-color: rgb(255, 204, 204); border-color: rgb(255, 204, 204);\"><div class=\"pl-1\"><strong>Anglais B-AN102 CC intermédiaire - présentiel</strong><br>Houdet Marie Christina<br>A 020</div></div><div class=\"v-event-timed onsecondary--text\" style=\"top: 300px; height: 60px; left: 27.2727%; width: 15.4545%; background-color: rgb(250, 209, 255); border-color: rgb(250, 209, 255);\"><div class=\"pl-1\"><strong>Contrôle de gestion TD G7</strong><br>Brunner Pauline<br>A 020</div></div><div class=\"v-event-timed onsecondary--text\" style=\"top: 360px; height: 60px; left: 27.2727%; width: 15.4545%; background-color: rgb(255, 255, 204); border-color: rgb(255, 255, 204);\"><div class=\"pl-1\"><strong>Macroéconomie I (TD) Gr.A7</strong><br>Couture Arnaud<br>A 021</div></div><div class=\"v-event-timed onsecondary--text\" style=\"top: 240px; height: 60px; left: 33.3333%; width: 18.8889%; background-color: rgb(255, 207, 252); border-color: rgb(255, 207, 252);\"><div class=\"pl-1\"><strong>Contrôle de gestion TD G6</strong><br>Brunner Pauline<br>A 020</div></div><div class=\"v-event-timed onsecondary--text\" style=\"top: 40px; height: 60px; left: 36.3636%; width: 15.4545%; background-color: rgb(255, 255, 255); border-color: rgb(255, 255, 255);\"><div class=\"pl-1\"><strong>TD Microéconomie (G11 EQ)</strong><br>Maret-Leiber Isabelle<br>A 022</div></div><div class=\"v-event-timed onsecondary--text\" style=\"top: 120px; height: 60px; left: 36.3636%; width: 15.4545%; background-color: rgb(255, 255, 204); border-color: rgb(255, 255, 204);\"><div class=\"pl-1\"><strong>Comptabilité (TD) Gr.B8</strong><br>Zenakhi Nisrine<br>A 025</div></div><div class=\"v-event-timed onsecondary--text\" style=\"top: 300px; height: 60px; left: 36.3636%; width: 15.4545%; background-color: rgb(255, 255, 204); border-color: rgb(255, 255, 204);\"><div class=\"pl-1\"><strong>Probabilités et stat. II (TD) Gr. A7</strong><br>Wolff Arnaud<br>A 019</div></div><div class=\"v-event-timed onsecondary--text\" style=\"top: 360px; height: 60px; left: 36.3636%; width: 15.4545%; background-color: rgb(255, 255, 204); border-color: rgb(255, 255, 204);\"><div class=\"pl-1\"><strong>Microéconomie II (TD) Gr.A3</strong><br>Peralta Gutierrez Laura<br>A 023</div></div><div class=\"v-event-timed onsecondary--text\" style=\"top: 420px; height: 60px; left: 40%; width: 34%; background-color: rgb(255, 255, 204); border-color: rgb(255, 255, 204);\"><div class=\"pl-1\"><strong>Comptabilité (TD) Gr.B7</strong><br>Ballahi M\\'Bark<br>A 022</div></div><div class=\"v-event-timed onsecondary--text\" style=\"top: 240px; height: 60px; left: 44.4444%; width: 18.8889%; background-color: rgb(255, 255, 204); border-color: rgb(255, 255, 204);\"><div class=\"pl-1\"><strong>Macroéconomie I (TD) Gr.A5</strong><br>Ebeling Antoine<br>A 019</div></div><div class=\"v-event-timed onsecondary--text\" style=\"top: 60px; height: 60px; left: 45.4545%; width: 15.4545%; background-color: rgb(153, 255, 153); border-color: rgb(153, 255, 153);\"><div class=\"pl-1\"><strong>Microéconomie III (TD) Gr.7+8A</strong><br>Dalpra Louis<br>A 026</div></div><div class=\"v-event-timed onsecondary--text\" style=\"top: 120px; height: 60px; left: 45.4545%; width: 15.4545%; background-color: rgb(255, 204, 255); border-color: rgb(255, 204, 255);\"><div class=\"pl-1\"><strong>Gestion financière TD ME</strong><br>Barb Alain<br>A 024</div></div><div class=\"v-event-timed onsecondary--text\" style=\"top: 340px; height: 80px; left: 45.4545%; width: 15.4545%; background-color: rgb(102, 255, 255); border-color: rgb(102, 255, 255);\"><div class=\"pl-1\"><strong>Stratégie d\\'entreprise G5 - Distanciel</strong><br>Stoica Tatiana<br>A 027</div></div><div class=\"v-event-timed onsecondary--text\" style=\"top: 60px; height: 60px; left: 54.5455%; width: 15.4545%; background-color: rgb(255, 255, 255); border-color: rgb(255, 255, 255);\"><div class=\"pl-1\"><strong>Gestion financière TD G7</strong><br>Barb Alain<br>A 021</div></div><div class=\"v-event-timed onsecondary--text\" style=\"top: 120px; height: 60px; left: 54.5455%; width: 15.4545%; background-color: rgb(255, 204, 255); border-color: rgb(255, 204, 255);\"><div class=\"pl-1\"><strong>TD Microéconomie (G10 EQ)</strong><br>Maret-Leiber Isabelle<br>A 022</div></div><div class=\"v-event-timed onsecondary--text\" style=\"top: 340px; height: 60px; left: 54.5455%; width: 15.4545%; background-color: rgb(255, 255, 204); border-color: rgb(255, 255, 204);\"><div class=\"pl-1\"><strong>Microéconomie II (TD) Gr.A1</strong><br>Dalpra Louis<br>A 025</div></div><div class=\"v-event-timed onsecondary--text\" style=\"top: 240px; height: 60px; left: 55.5556%; width: 44.4444%; background-color: rgb(153, 255, 153); border-color: rgb(153, 255, 153);\"><div class=\"pl-1\"><strong>Métiers de l\\'éco. (TD) Gr.14B+15</strong><br>Barbier-Gauchard Amélie<br>A 015</div></div><div class=\"v-event-timed onsecondary--text\" style=\"top: 420px; height: 60px; left: 60%; width: 34%; background-color: rgb(255, 255, 204); border-color: rgb(255, 255, 204);\"><div class=\"pl-1\"><strong>Microéconomie II (TD) Gr.B5 (ME)</strong><br>Mitrouchev Ivan<br>A 017</div></div><div class=\"v-event-timed onsecondary--text\" style=\"top: 280px; height: 60px; left: 60.5556%; width: 25.1852%; background-color: rgb(255, 255, 204); border-color: rgb(255, 255, 204);\"><div class=\"pl-1\"><strong>Microéconomie II (TD) Gr.A2</strong><br>Dalpra Louis<br>A 024</div></div><div class=\"v-event-timed onsecondary--text\" style=\"top: 60px; height: 60px; left: 63.6364%; width: 15.4545%; background-color: rgb(255, 204, 255); border-color: rgb(255, 204, 255);\"><div class=\"pl-1\"><strong>TD Analyse mon. fin. (G8: AE)</strong><br>Dai Meixing<br>A 020</div></div><div class=\"v-event-timed onsecondary--text\" style=\"top: 120px; height: 60px; left: 63.6364%; width: 15.4545%; background-color: rgb(153, 255, 153); border-color: rgb(153, 255, 153);\"><div class=\"pl-1\"><strong>Macroéconomie III (TD) Gr.5B+6</strong><br>Betti Thierry<br>A 016</div></div><div class=\"v-event-timed onsecondary--text\" style=\"top: 340px; height: 60px; left: 63.6364%; width: 15.4545%; background-color: rgb(255, 255, 204); border-color: rgb(255, 255, 204);\"><div class=\"pl-1\"><strong>Mathématiques II (TD) Gr.A2</strong><br>Haag Xavier<br>A 018</div></div><div class=\"v-event-timed onsecondary--text\" style=\"top: 80px; height: 80px; left: 72.7273%; width: 15.4545%; background-color: rgb(255, 204, 204); border-color: rgb(255, 204, 204);\"><div class=\"pl-1\"><strong>UE 3. Défis socio-économiques pour l\\'UE</strong><br>Ullestad Antoine<br>A 015</div></div><div class=\"v-event-timed onsecondary--text\" style=\"top: 340px; height: 60px; left: 72.7273%; width: 15.4545%; background-color: rgb(153, 255, 153); border-color: rgb(153, 255, 153);\"><div class=\"pl-1\"><strong>Probabilités et stat. IV (TD) Gr.8B+9</strong><br>Mahieu Andre Laurent<br>A 017</div></div><div class=\"v-event-timed onsecondary--text\" style=\"top: 280px; height: 60px; left: 73.7037%; width: 22.3519%; background-color: rgb(255, 255, 204); border-color: rgb(255, 255, 204);\"><div class=\"pl-1\"><strong>Mathématiques II (TD) Gr.A3</strong><br>Haag Xavier<br>A 018</div></div><div class=\"v-event-timed onsecondary--text\" style=\"top: 140px; height: 60px; left: 77.7273%; width: 22.2727%; background-color: rgb(255, 255, 204); border-color: rgb(255, 255, 204);\"><div class=\"pl-1\"><strong>Macroéconomie I (TD) Gr.B2</strong><br>Ebeling Antoine<br>A 027</div></div><div class=\"v-event-timed onsecondary--text\" style=\"top: 450px; height: 60px; left: 80%; width: 20%; background-color: rgb(255, 255, 204); border-color: rgb(255, 255, 204);\"><div class=\"pl-1\"><strong>Macroéconomie I (TD) Gr.A3</strong><br>Hasni Riadh<br>A 018</div></div><div class=\"v-event-timed onsecondary--text\" style=\"top: 360px; height: 60px; left: 81.8182%; width: 15.4545%; background-color: rgb(255, 255, 204); border-color: rgb(255, 255, 204);\"><div class=\"pl-1\"><strong>Microéconomie II (TD) Gr.A9</strong><br>Mitrouchev Ivan<br>A 019</div></div><div class=\"v-event-timed onsecondary--text\" style=\"top: 80px; height: 60px; left: 86.3636%; width: 13.6364%; background-color: rgb(153, 255, 153); border-color: rgb(153, 255, 153);\"><div class=\"pl-1\"><strong>Métiers de l\\'éco. (TD) Gr.11B+12</strong><br>Herrlich Matthieu<br>A 018</div></div><div class=\"v-event-timed onsecondary--text\" style=\"top: 280px; height: 60px; left: 86.8519%; width: 13.1481%; background-color: rgb(153, 255, 153); border-color: rgb(153, 255, 153);\"><div class=\"pl-1\"><strong>Microéconomie III (TD) Gr.5B+6</strong><br>Liegey Maxime<br>A 016</div></div><div class=\"v-event-timed onsecondary--text\" style=\"top: 140px; height: 60px; left: 88.8636%; width: 11.1364%; background-color: rgb(153, 255, 153); border-color: rgb(153, 255, 153);\"><div class=\"pl-1\"><strong>Métiers de l\\'éco. (TD) Gr.16 + EG Santé</strong><br>Herrlich Matthieu<br>A 026</div></div><div class=\"v-event-timed onsecondary--text\" style=\"top: 360px; height: 60px; left: 90.9091%; width: 9.09091%; background-color: rgb(255, 255, 204); border-color: rgb(255, 255, 204);\"><div class=\"pl-1\"><strong>Macroéconomie I (TD) Gr.A8 (LEA-ECO)</strong><br>Bordot Florent<br>A 015</div></div></div></div>'"
      ]
     },
     "execution_count": 8,
     "metadata": {},
     "output_type": "execute_result"
    }
   ],
   "source": [
    "# ça sera l'élément qu'on devra scraper\n",
    "today_events = driver.find_element(By.CLASS_NAME, 'v-calendar-daily__day.v-present').get_attribute('outerHTML')\n",
    "today_events"
   ]
  },
  {
   "cell_type": "code",
   "execution_count": 9,
   "id": "c201e845",
   "metadata": {},
   "outputs": [
    {
     "data": {
      "text/plain": [
       "'[\\' style=\"top: 40px; height: 80px; left: 0%; width: 14.1667%; background-color: rgb(255, 204, 204); border-color: rgb(255, 204, 204);\"><div class=\"pl-1\"><strong>Anglais B-AN101 CC intermédiaire - présentiel</strong><br>Houdet Marie Christina<br>A 019\\', \\' style=\"top: 120px; height: 80px; left: 0%; width: 14.1667%; background-color: rgb(255, 204, 204); border-color: rgb(255, 204, 204);\"><div class=\"pl-1\"><strong>Anglais B-AN104 CC intermédiaire présentiel</strong><br>Hely Paul<br>A 021\\', \\' style=\"top: 240px; height: 80px; left: 0%; width: 14.1667%; background-color: rgb(255, 204, 204); border-color: rgb(255, 204, 204);\"><div class=\"pl-1\"><strong>UE 3. Défis socio-économiques pour l\\\\\\'UE</strong><br>Ullestad Antoine<br>A 021\\', \\' style=\"top: 320px; height: 60px; left: 0%; width: 14.1667%; background-color: rgb(153, 255, 153); border-color: rgb(153, 255, 153);\"><div class=\"pl-1\"><strong>Macroéconomie III (TD) Gr.4+5A</strong><br>Rastouil Jeremy<br>A 022\\', \\' style=\"top: 400px; height: 60px; left: 0%; width: 14.1667%; background-color: rgb(255, 255, 204); border-color: rgb(255, 255, 204);\"><div class=\"pl-1\"><strong>Macroéconomie I (TD) Gr.B3</strong><br>Rastouil Jeremy<br>A 025\\', \\' style=\"top: 460px; height: 60px; left: 0%; width: 28.3333%; background-color: rgb(255, 204, 255); border-color: rgb(255, 204, 255);\"><div class=\"pl-1\"><strong>Gestion financière TD G1</strong><br>Walgenwitz Clara<br>A 021\\', \\' style=\"top: 40px; height: 80px; left: 9.09091%; width: 15.4545%; background-color: rgb(255, 204, 204); border-color: rgb(255, 204, 204);\"><div class=\"pl-1\"><strong>Anglais B-AN103 CC intermédiaire - présentiel</strong><br>Hely Paul<br>A 016\\', \\' style=\"top: 120px; height: 80px; left: 9.09091%; width: 15.4545%; background-color: rgb(255, 255, 255); border-color: rgb(255, 255, 255);\"><div class=\"pl-1\"><strong>MKT - Etudes Marketing</strong><br>Casteran Herbert<br>A 023\\', \\' style=\"top: 300px; height: 60px; left: 9.09091%; width: 15.4545%; background-color: rgb(255, 255, 204); border-color: rgb(255, 255, 204);\"><div class=\"pl-1\"><strong>Microéconomie II (TD) Gr.A5</strong><br>Bordot Florent<br>A 026\\', \\' style=\"top: 360px; height: 60px; left: 9.09091%; width: 15.4545%; background-color: rgb(255, 255, 204); border-color: rgb(255, 255, 204);\"><div class=\"pl-1\"><strong>Microéconomie II (TD) Gr.B7</strong><br>Wolff Arnaud<br>A 026\\', \\' style=\"top: 240px; height: 60px; left: 11.1111%; width: 18.8889%; background-color: rgb(255, 255, 204); border-color: rgb(255, 255, 204);\"><div class=\"pl-1\"><strong>Microéconomie II (TD) Gr.A6</strong><br>Bordot Florent<br>A 026\\', \\' style=\"top: 180px; height: 60px; left: 14.0909%; width: 17.1717%; background-color: rgb(255, 255, 204); border-color: rgb(255, 255, 204);\"><div class=\"pl-1\"><strong>Comptabilité (TD) Gr.B4</strong><br>Zenakhi Nisrine<br>A 024\\', \\' style=\"top: 180px; height: 60px; left: 14.0909%; width: 17.1717%; background-color: rgb(153, 255, 153); border-color: rgb(153, 255, 153);\"><div class=\"pl-1\"><strong>Métiers de l\\\\\\'éco. (TD) Gr.5B+6</strong><br>Barbier-Gauchard Amélie<br>A 016\\', \\' style=\"top: 40px; height: 60px; left: 18.1818%; width: 15.4545%; background-color: rgb(153, 255, 153); border-color: rgb(153, 255, 153);\"><div class=\"pl-1\"><strong>Métiers de l\\\\\\'éco. (TD) Gr.1+2A</strong><br>Barbier-Gauchard Amélie<br>A 025\\', \\' style=\"top: 100px; height: 60px; left: 18.1818%; width: 15.4545%; background-color: rgb(153, 255, 153); border-color: rgb(153, 255, 153);\"><div class=\"pl-1\"><strong>Métiers de l\\\\\\'éco. (TD) Gr.8B+9</strong><br>Barbier-Gauchard Amélie<br>A 017\\', \\' style=\"top: 140px; height: 60px; left: 18.1818%; width: 15.4545%; background-color: rgb(255, 255, 204); border-color: rgb(255, 255, 204);\"><div class=\"pl-1\"><strong>Probabilités et stat. II (TD) Gr. B3</strong><br>Metais Carole<br>A 019\\', \\' style=\"top: 140px; height: 60px; left: 18.1818%; width: 15.4545%; background-color: rgb(153, 255, 153); border-color: rgb(153, 255, 153);\"><div class=\"pl-1\"><strong>Microéconomie III (TD) Gr.4+5A</strong><br>Mitrouchev Ivan<br>A 018\\', \\' style=\"top: 300px; height: 60px; left: 18.1818%; width: 15.4545%; background-color: rgb(255, 255, 204); border-color: rgb(255, 255, 204);\"><div class=\"pl-1\"><strong>Probabilités et stat. II (TD) Gr. A9</strong><br>Metais Carole<br>A 023\\', \\' style=\"top: 360px; height: 60px; left: 18.1818%; width: 15.4545%; background-color: rgb(255, 255, 204); border-color: rgb(255, 255, 204);\"><div class=\"pl-1\"><strong>Probabilités et stat. II (TD) Gr. B9</strong><br>Metais Carole<br>A 024\\', \\' style=\"top: 420px; height: 60px; left: 20%; width: 34%; background-color: rgb(255, 255, 204); border-color: rgb(255, 255, 204);\"><div class=\"pl-1\"><strong>Microéconomie II (TD) Gr.B8</strong><br>Wolff Arnaud<br>A 026\\', \\' style=\"top: 240px; height: 60px; left: 22.2222%; width: 18.8889%; background-color: rgb(255, 255, 204); border-color: rgb(255, 255, 204);\"><div class=\"pl-1\"><strong>Microéconomie II (TD) Gr.A8 (LEA-ECO)</strong><br>Mitrouchev Ivan<br>A 025\\', \\' style=\"top: 40px; height: 60px; left: 27.2727%; width: 15.4545%; background-color: rgb(255, 255, 204); border-color: rgb(255, 255, 204);\"><div class=\"pl-1\"><strong>Comptabilité (TD) Gr.B5 (ME)</strong><br>Zenakhi Nisrine<br>A 024\\', \\' style=\"top: 120px; height: 80px; left: 27.2727%; width: 15.4545%; background-color: rgb(255, 204, 204); border-color: rgb(255, 204, 204);\"><div class=\"pl-1\"><strong>Anglais B-AN102 CC intermédiaire - présentiel</strong><br>Houdet Marie Christina<br>A 020\\', \\' style=\"top: 300px; height: 60px; left: 27.2727%; width: 15.4545%; background-color: rgb(250, 209, 255); border-color: rgb(250, 209, 255);\"><div class=\"pl-1\"><strong>Contrôle de gestion TD G7</strong><br>Brunner Pauline<br>A 020\\', \\' style=\"top: 360px; height: 60px; left: 27.2727%; width: 15.4545%; background-color: rgb(255, 255, 204); border-color: rgb(255, 255, 204);\"><div class=\"pl-1\"><strong>Macroéconomie I (TD) Gr.A7</strong><br>Couture Arnaud<br>A 021\\', \\' style=\"top: 240px; height: 60px; left: 33.3333%; width: 18.8889%; background-color: rgb(255, 207, 252); border-color: rgb(255, 207, 252);\"><div class=\"pl-1\"><strong>Contrôle de gestion TD G6</strong><br>Brunner Pauline<br>A 020\\', \\' style=\"top: 40px; height: 60px; left: 36.3636%; width: 15.4545%; background-color: rgb(255, 255, 255); border-color: rgb(255, 255, 255);\"><div class=\"pl-1\"><strong>TD Microéconomie (G11 EQ)</strong><br>Maret-Leiber Isabelle<br>A 022\\', \\' style=\"top: 120px; height: 60px; left: 36.3636%; width: 15.4545%; background-color: rgb(255, 255, 204); border-color: rgb(255, 255, 204);\"><div class=\"pl-1\"><strong>Comptabilité (TD) Gr.B8</strong><br>Zenakhi Nisrine<br>A 025\\', \\' style=\"top: 300px; height: 60px; left: 36.3636%; width: 15.4545%; background-color: rgb(255, 255, 204); border-color: rgb(255, 255, 204);\"><div class=\"pl-1\"><strong>Probabilités et stat. II (TD) Gr. A7</strong><br>Wolff Arnaud<br>A 019\\', \\' style=\"top: 360px; height: 60px; left: 36.3636%; width: 15.4545%; background-color: rgb(255, 255, 204); border-color: rgb(255, 255, 204);\"><div class=\"pl-1\"><strong>Microéconomie II (TD) Gr.A3</strong><br>Peralta Gutierrez Laura<br>A 023\\', \\' style=\"top: 420px; height: 60px; left: 40%; width: 34%; background-color: rgb(255, 255, 204); border-color: rgb(255, 255, 204);\"><div class=\"pl-1\"><strong>Comptabilité (TD) Gr.B7</strong><br>Ballahi M\\\\\\'Bark<br>A 022\\', \\' style=\"top: 240px; height: 60px; left: 44.4444%; width: 18.8889%; background-color: rgb(255, 255, 204); border-color: rgb(255, 255, 204);\"><div class=\"pl-1\"><strong>Macroéconomie I (TD) Gr.A5</strong><br>Ebeling Antoine<br>A 019\\', \\' style=\"top: 60px; height: 60px; left: 45.4545%; width: 15.4545%; background-color: rgb(153, 255, 153); border-color: rgb(153, 255, 153);\"><div class=\"pl-1\"><strong>Microéconomie III (TD) Gr.7+8A</strong><br>Dalpra Louis<br>A 026\\', \\' style=\"top: 120px; height: 60px; left: 45.4545%; width: 15.4545%; background-color: rgb(255, 204, 255); border-color: rgb(255, 204, 255);\"><div class=\"pl-1\"><strong>Gestion financière TD ME</strong><br>Barb Alain<br>A 024\\', \\' style=\"top: 340px; height: 80px; left: 45.4545%; width: 15.4545%; background-color: rgb(102, 255, 255); border-color: rgb(102, 255, 255);\"><div class=\"pl-1\"><strong>Stratégie d\\\\\\'entreprise G5 - Distanciel</strong><br>Stoica Tatiana<br>A 027\\', \\' style=\"top: 60px; height: 60px; left: 54.5455%; width: 15.4545%; background-color: rgb(255, 255, 255); border-color: rgb(255, 255, 255);\"><div class=\"pl-1\"><strong>Gestion financière TD G7</strong><br>Barb Alain<br>A 021\\', \\' style=\"top: 120px; height: 60px; left: 54.5455%; width: 15.4545%; background-color: rgb(255, 204, 255); border-color: rgb(255, 204, 255);\"><div class=\"pl-1\"><strong>TD Microéconomie (G10 EQ)</strong><br>Maret-Leiber Isabelle<br>A 022\\', \\' style=\"top: 340px; height: 60px; left: 54.5455%; width: 15.4545%; background-color: rgb(255, 255, 204); border-color: rgb(255, 255, 204);\"><div class=\"pl-1\"><strong>Microéconomie II (TD) Gr.A1</strong><br>Dalpra Louis<br>A 025\\', \\' style=\"top: 240px; height: 60px; left: 55.5556%; width: 44.4444%; background-color: rgb(153, 255, 153); border-color: rgb(153, 255, 153);\"><div class=\"pl-1\"><strong>Métiers de l\\\\\\'éco. (TD) Gr.14B+15</strong><br>Barbier-Gauchard Amélie<br>A 015\\', \\' style=\"top: 420px; height: 60px; left: 60%; width: 34%; background-color: rgb(255, 255, 204); border-color: rgb(255, 255, 204);\"><div class=\"pl-1\"><strong>Microéconomie II (TD) Gr.B5 (ME)</strong><br>Mitrouchev Ivan<br>A 017\\', \\' style=\"top: 280px; height: 60px; left: 60.5556%; width: 25.1852%; background-color: rgb(255, 255, 204); border-color: rgb(255, 255, 204);\"><div class=\"pl-1\"><strong>Microéconomie II (TD) Gr.A2</strong><br>Dalpra Louis<br>A 024\\', \\' style=\"top: 60px; height: 60px; left: 63.6364%; width: 15.4545%; background-color: rgb(255, 204, 255); border-color: rgb(255, 204, 255);\"><div class=\"pl-1\"><strong>TD Analyse mon. fin. (G8: AE)</strong><br>Dai Meixing<br>A 020\\', \\' style=\"top: 120px; height: 60px; left: 63.6364%; width: 15.4545%; background-color: rgb(153, 255, 153); border-color: rgb(153, 255, 153);\"><div class=\"pl-1\"><strong>Macroéconomie III (TD) Gr.5B+6</strong><br>Betti Thierry<br>A 016\\', \\' style=\"top: 340px; height: 60px; left: 63.6364%; width: 15.4545%; background-color: rgb(255, 255, 204); border-color: rgb(255, 255, 204);\"><div class=\"pl-1\"><strong>Mathématiques II (TD) Gr.A2</strong><br>Haag Xavier<br>A 018\\', \\' style=\"top: 80px; height: 80px; left: 72.7273%; width: 15.4545%; background-color: rgb(255, 204, 204); border-color: rgb(255, 204, 204);\"><div class=\"pl-1\"><strong>UE 3. Défis socio-économiques pour l\\\\\\'UE</strong><br>Ullestad Antoine<br>A 015\\', \\' style=\"top: 340px; height: 60px; left: 72.7273%; width: 15.4545%; background-color: rgb(153, 255, 153); border-color: rgb(153, 255, 153);\"><div class=\"pl-1\"><strong>Probabilités et stat. IV (TD) Gr.8B+9</strong><br>Mahieu Andre Laurent<br>A 017\\', \\' style=\"top: 280px; height: 60px; left: 73.7037%; width: 22.3519%; background-color: rgb(255, 255, 204); border-color: rgb(255, 255, 204);\"><div class=\"pl-1\"><strong>Mathématiques II (TD) Gr.A3</strong><br>Haag Xavier<br>A 018\\', \\' style=\"top: 140px; height: 60px; left: 77.7273%; width: 22.2727%; background-color: rgb(255, 255, 204); border-color: rgb(255, 255, 204);\"><div class=\"pl-1\"><strong>Macroéconomie I (TD) Gr.B2</strong><br>Ebeling Antoine<br>A 027\\', \\' style=\"top: 450px; height: 60px; left: 80%; width: 20%; background-color: rgb(255, 255, 204); border-color: rgb(255, 255, 204);\"><div class=\"pl-1\"><strong>Macroéconomie I (TD) Gr.A3</strong><br>Hasni Riadh<br>A 018\\', \\' style=\"top: 360px; height: 60px; left: 81.8182%; width: 15.4545%; background-color: rgb(255, 255, 204); border-color: rgb(255, 255, 204);\"><div class=\"pl-1\"><strong>Microéconomie II (TD) Gr.A9</strong><br>Mitrouchev Ivan<br>A 019\\', \\' style=\"top: 80px; height: 60px; left: 86.3636%; width: 13.6364%; background-color: rgb(153, 255, 153); border-color: rgb(153, 255, 153);\"><div class=\"pl-1\"><strong>Métiers de l\\\\\\'éco. (TD) Gr.11B+12</strong><br>Herrlich Matthieu<br>A 018\\', \\' style=\"top: 280px; height: 60px; left: 86.8519%; width: 13.1481%; background-color: rgb(153, 255, 153); border-color: rgb(153, 255, 153);\"><div class=\"pl-1\"><strong>Microéconomie III (TD) Gr.5B+6</strong><br>Liegey Maxime<br>A 016\\', \\' style=\"top: 140px; height: 60px; left: 88.8636%; width: 11.1364%; background-color: rgb(153, 255, 153); border-color: rgb(153, 255, 153);\"><div class=\"pl-1\"><strong>Métiers de l\\\\\\'éco. (TD) Gr.16 + EG Santé</strong><br>Herrlich Matthieu<br>A 026\\', \\' style=\"top: 360px; height: 60px; left: 90.9091%; width: 9.09091%; background-color: rgb(255, 255, 204); border-color: rgb(255, 255, 204);\"><div class=\"pl-1\"><strong>Macroéconomie I (TD) Gr.A8 (LEA-ECO)</strong><br>Bordot Florent<br>A 015\\']'"
      ]
     },
     "execution_count": 9,
     "metadata": {},
     "output_type": "execute_result"
    }
   ],
   "source": [
    "#séparer les évènements et les mettre dans une liste\n",
    "sep_events = []\n",
    "\n",
    "sep_events = re.findall('div class=\"v-event-timed onsecondary--text\"(.*?)</div></div>', today_events)\n",
    "sep_events= str(sep_events)\n",
    "sep_events"
   ]
  },
  {
   "cell_type": "code",
   "execution_count": 10,
   "id": "6cc96fcf",
   "metadata": {},
   "outputs": [
    {
     "data": {
      "text/plain": [
       "['A 019',\n",
       " 'A 021',\n",
       " 'A 021',\n",
       " 'A 022',\n",
       " 'A 025',\n",
       " 'A 021',\n",
       " 'A 016',\n",
       " 'A 023',\n",
       " 'A 026',\n",
       " 'A 026',\n",
       " 'A 026',\n",
       " 'A 024',\n",
       " 'A 016',\n",
       " 'A 025',\n",
       " 'A 017',\n",
       " 'A 019',\n",
       " 'A 018',\n",
       " 'A 023',\n",
       " 'A 024',\n",
       " 'A 026',\n",
       " 'A 025',\n",
       " 'A 024',\n",
       " 'A 020',\n",
       " 'A 020',\n",
       " 'A 021',\n",
       " 'A 020',\n",
       " 'A 022',\n",
       " 'A 025',\n",
       " 'A 019',\n",
       " 'A 023',\n",
       " 'A 022',\n",
       " 'A 019',\n",
       " 'A 026',\n",
       " 'A 024',\n",
       " 'A 027',\n",
       " 'A 021',\n",
       " 'A 022',\n",
       " 'A 025',\n",
       " 'A 015',\n",
       " 'A 017',\n",
       " 'A 024',\n",
       " 'A 020',\n",
       " 'A 016',\n",
       " 'A 018',\n",
       " 'A 015',\n",
       " 'A 017',\n",
       " 'A 018',\n",
       " 'A 027',\n",
       " 'A 018',\n",
       " 'A 019',\n",
       " 'A 018',\n",
       " 'A 016',\n",
       " 'A 026',\n",
       " 'A 015']"
      ]
     },
     "execution_count": 10,
     "metadata": {},
     "output_type": "execute_result"
    }
   ],
   "source": [
    "#récupérer toutes les salles\n",
    "rooms = re.findall('<br>(?=A )(.*?)\\'', sep_events)\n",
    "rooms"
   ]
  },
  {
   "cell_type": "code",
   "execution_count": 11,
   "id": "d8de6d19",
   "metadata": {},
   "outputs": [
    {
     "data": {
      "text/plain": [
       "[40,\n",
       " 120,\n",
       " 240,\n",
       " 320,\n",
       " 400,\n",
       " 460,\n",
       " 40,\n",
       " 120,\n",
       " 300,\n",
       " 360,\n",
       " 240,\n",
       " 180,\n",
       " 180,\n",
       " 40,\n",
       " 100,\n",
       " 140,\n",
       " 140,\n",
       " 300,\n",
       " 360,\n",
       " 420,\n",
       " 240,\n",
       " 40,\n",
       " 120,\n",
       " 300,\n",
       " 360,\n",
       " 240,\n",
       " 40,\n",
       " 120,\n",
       " 300,\n",
       " 360,\n",
       " 420,\n",
       " 240,\n",
       " 60,\n",
       " 120,\n",
       " 340,\n",
       " 60,\n",
       " 120,\n",
       " 340,\n",
       " 240,\n",
       " 420,\n",
       " 280,\n",
       " 60,\n",
       " 120,\n",
       " 340,\n",
       " 80,\n",
       " 340,\n",
       " 280,\n",
       " 140,\n",
       " 450,\n",
       " 360,\n",
       " 80,\n",
       " 280,\n",
       " 140,\n",
       " 360]"
      ]
     },
     "execution_count": 11,
     "metadata": {},
     "output_type": "execute_result"
    }
   ],
   "source": [
    "#récupérer les valeurs pixels début pour chaque salle + convertir en valeur numérique\n",
    "top_pixels = re.findall('top: (.*?)px;', sep_events)\n",
    "top_pixels = [int(p) for p in top_pixels]\n",
    "top_pixels"
   ]
  },
  {
   "cell_type": "code",
   "execution_count": 12,
   "id": "c2cf835a",
   "metadata": {},
   "outputs": [
    {
     "data": {
      "text/plain": [
       "[80,\n",
       " 80,\n",
       " 80,\n",
       " 60,\n",
       " 60,\n",
       " 60,\n",
       " 80,\n",
       " 80,\n",
       " 60,\n",
       " 60,\n",
       " 60,\n",
       " 60,\n",
       " 60,\n",
       " 60,\n",
       " 60,\n",
       " 60,\n",
       " 60,\n",
       " 60,\n",
       " 60,\n",
       " 60,\n",
       " 60,\n",
       " 60,\n",
       " 80,\n",
       " 60,\n",
       " 60,\n",
       " 60,\n",
       " 60,\n",
       " 60,\n",
       " 60,\n",
       " 60,\n",
       " 60,\n",
       " 60,\n",
       " 60,\n",
       " 60,\n",
       " 80,\n",
       " 60,\n",
       " 60,\n",
       " 60,\n",
       " 60,\n",
       " 60,\n",
       " 60,\n",
       " 60,\n",
       " 60,\n",
       " 60,\n",
       " 80,\n",
       " 60,\n",
       " 60,\n",
       " 60,\n",
       " 60,\n",
       " 60,\n",
       " 60,\n",
       " 60,\n",
       " 60,\n",
       " 60]"
      ]
     },
     "execution_count": 12,
     "metadata": {},
     "output_type": "execute_result"
    }
   ],
   "source": [
    "#récupérer les valeurs pixels de durée pour chaque salle + convertri en valeur numérique\n",
    "height_pixels = re.findall('height: (.*?)px;', sep_events)\n",
    "height_pixels = [int(p) for p in height_pixels]\n",
    "height_pixels"
   ]
  },
  {
   "cell_type": "code",
   "execution_count": 97,
   "id": "3e65f49e",
   "metadata": {},
   "outputs": [
    {
     "data": {
      "text/plain": [
       "['08:00',\n",
       " '10:00',\n",
       " '13:00',\n",
       " '15:00',\n",
       " '17:00',\n",
       " '18:30',\n",
       " '08:00',\n",
       " '10:00',\n",
       " '14:30',\n",
       " '16:00',\n",
       " '13:00',\n",
       " '11:30',\n",
       " '11:30',\n",
       " '08:00',\n",
       " '09:30',\n",
       " '10:30',\n",
       " '10:30',\n",
       " '14:30',\n",
       " '16:00',\n",
       " '17:30',\n",
       " '13:00',\n",
       " '08:00',\n",
       " '10:00',\n",
       " '14:30',\n",
       " '16:00',\n",
       " '13:00',\n",
       " '08:00',\n",
       " '10:00',\n",
       " '14:30',\n",
       " '16:00',\n",
       " '17:30',\n",
       " '13:00',\n",
       " '08:30',\n",
       " '10:00',\n",
       " '15:30',\n",
       " '08:30',\n",
       " '10:00',\n",
       " '15:30',\n",
       " '13:00',\n",
       " '17:30',\n",
       " '14:00',\n",
       " '08:30',\n",
       " '10:00',\n",
       " '15:30',\n",
       " '09:00',\n",
       " '15:30',\n",
       " '14:00',\n",
       " '10:30',\n",
       " '18:15',\n",
       " '16:00',\n",
       " '09:00',\n",
       " '14:00',\n",
       " '10:30',\n",
       " '16:00']"
      ]
     },
     "execution_count": 97,
     "metadata": {},
     "output_type": "execute_result"
    }
   ],
   "source": [
    "#### convertir les pixels en horaires de DÉBUT ####\n",
    "occupation_start_numbers = [(7 + ((p / 20) * 0.5)) * 60 for p in top_pixels]\n",
    "df1 = pd.DataFrame({'start': occupation_start_numbers})\n",
    "df1 = pd.to_datetime(df1.start, unit='m').dt.strftime('%H:%M')\n",
    "occupation_start_in_hours = df1.values.tolist()\n",
    "occupation_start_in_hours"
   ]
  },
  {
   "cell_type": "code",
   "execution_count": 77,
   "id": "64c43d6c",
   "metadata": {},
   "outputs": [
    {
     "data": {
      "text/plain": [
       "[120.0,\n",
       " 120.0,\n",
       " 120.0,\n",
       " 90.0,\n",
       " 90.0,\n",
       " 90.0,\n",
       " 120.0,\n",
       " 120.0,\n",
       " 90.0,\n",
       " 90.0,\n",
       " 90.0,\n",
       " 90.0,\n",
       " 90.0,\n",
       " 90.0,\n",
       " 90.0,\n",
       " 90.0,\n",
       " 90.0,\n",
       " 90.0,\n",
       " 90.0,\n",
       " 90.0,\n",
       " 90.0,\n",
       " 90.0,\n",
       " 120.0,\n",
       " 90.0,\n",
       " 90.0,\n",
       " 90.0,\n",
       " 90.0,\n",
       " 90.0,\n",
       " 90.0,\n",
       " 90.0,\n",
       " 90.0,\n",
       " 90.0,\n",
       " 90.0,\n",
       " 90.0,\n",
       " 120.0,\n",
       " 90.0,\n",
       " 90.0,\n",
       " 90.0,\n",
       " 90.0,\n",
       " 90.0,\n",
       " 90.0,\n",
       " 90.0,\n",
       " 90.0,\n",
       " 90.0,\n",
       " 120.0,\n",
       " 90.0,\n",
       " 90.0,\n",
       " 90.0,\n",
       " 90.0,\n",
       " 90.0,\n",
       " 90.0,\n",
       " 90.0,\n",
       " 90.0,\n",
       " 90.0]"
      ]
     },
     "execution_count": 77,
     "metadata": {},
     "output_type": "execute_result"
    }
   ],
   "source": [
    "#convertir les pixels en minutes (DURÉES)\n",
    "occupation_duration = [(((p / 20) * 0.5) * 60) for p in height_pixels]\n",
    "occupation_duration"
   ]
  },
  {
   "cell_type": "code",
   "execution_count": 88,
   "id": "083302e7",
   "metadata": {},
   "outputs": [
    {
     "data": {
      "text/plain": [
       "['02:00',\n",
       " '02:00',\n",
       " '02:00',\n",
       " '01:30',\n",
       " '01:30',\n",
       " '01:30',\n",
       " '02:00',\n",
       " '02:00',\n",
       " '01:30',\n",
       " '01:30',\n",
       " '01:30',\n",
       " '01:30',\n",
       " '01:30',\n",
       " '01:30',\n",
       " '01:30',\n",
       " '01:30',\n",
       " '01:30',\n",
       " '01:30',\n",
       " '01:30',\n",
       " '01:30',\n",
       " '01:30',\n",
       " '01:30',\n",
       " '02:00',\n",
       " '01:30',\n",
       " '01:30',\n",
       " '01:30',\n",
       " '01:30',\n",
       " '01:30',\n",
       " '01:30',\n",
       " '01:30',\n",
       " '01:30',\n",
       " '01:30',\n",
       " '01:30',\n",
       " '01:30',\n",
       " '02:00',\n",
       " '01:30',\n",
       " '01:30',\n",
       " '01:30',\n",
       " '01:30',\n",
       " '01:30',\n",
       " '01:30',\n",
       " '01:30',\n",
       " '01:30',\n",
       " '01:30',\n",
       " '02:00',\n",
       " '01:30',\n",
       " '01:30',\n",
       " '01:30',\n",
       " '01:30',\n",
       " '01:30',\n",
       " '01:30',\n",
       " '01:30',\n",
       " '01:30',\n",
       " '01:30']"
      ]
     },
     "execution_count": 88,
     "metadata": {},
     "output_type": "execute_result"
    }
   ],
   "source": [
    "#### convertir les minutes en HEURES:MINUTES (DURÉES) ####\n",
    "df = pd.DataFrame({'duration': occupation_duration})\n",
    "df = pd.to_datetime(df.duration, unit='m').dt.strftime('%H:%M')\n",
    "occupation_duration_in_hours = df.values.tolist()\n",
    "occupation_duration_in_hours"
   ]
  },
  {
   "cell_type": "code",
   "execution_count": 33,
   "id": "8f106a38",
   "metadata": {},
   "outputs": [],
   "source": [
    "#Déselection des salles \n",
    "compteur=1\n",
    "while compteur<14:\n",
    "    driver.find_element(By.CLASS_NAME, 'v-list-item__action.my-0.mr-3').click()\n",
    "    compteur+=1\n",
    "    time.sleep(0.6)"
   ]
  },
  {
   "cell_type": "code",
   "execution_count": null,
   "id": "1e08956c",
   "metadata": {},
   "outputs": [],
   "source": []
  },
  {
   "cell_type": "code",
   "execution_count": 78,
   "id": "d94d66c7",
   "metadata": {},
   "outputs": [],
   "source": [
    "driver.close()"
   ]
  }
 ],
 "metadata": {
  "kernelspec": {
   "display_name": "Python 3 (ipykernel)",
   "language": "python",
   "name": "python3"
  },
  "language_info": {
   "codemirror_mode": {
    "name": "ipython",
    "version": 3
   },
   "file_extension": ".py",
   "mimetype": "text/x-python",
   "name": "python",
   "nbconvert_exporter": "python",
   "pygments_lexer": "ipython3",
   "version": "3.9.7"
  }
 },
 "nbformat": 4,
 "nbformat_minor": 5
}

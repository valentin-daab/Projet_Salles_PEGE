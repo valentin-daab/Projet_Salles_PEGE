{
 "cells": [
  {
   "cell_type": "code",
   "execution_count": 153,
   "id": "a12cde83",
   "metadata": {},
   "outputs": [],
   "source": [
    "import datetime\n",
    "import os\n",
    "import re\n",
    "from bs4 import BeautifulSoup\n",
    "import requests\n",
    "import numpy as np\n",
    "from requests_html import HTMLSession\n",
    "from selenium import webdriver\n",
    "from webdriver_manager.chrome import ChromeDriverManager\n",
    "from selenium.webdriver.common.by import By"
   ]
  },
  {
   "cell_type": "code",
   "execution_count": 2,
   "id": "c13e989b",
   "metadata": {},
   "outputs": [],
   "source": [
    "url_edt = 'https://monemploidutemps.unistra.fr/consult/calendar'"
   ]
  },
  {
   "cell_type": "code",
   "execution_count": 39,
   "id": "2f3c9b80",
   "metadata": {},
   "outputs": [],
   "source": [
    "driver_path = \"C:/Windows/chromedriver.exe\"\n",
    "brave_path = \"C:/Program Files/BraveSoftware/Brave-Browser/Application/brave.exe\"\n",
    "\n",
    "option = webdriver.ChromeOptions()\n",
    "option.binary_location = brave_path"
   ]
  },
  {
   "cell_type": "code",
   "execution_count": 40,
   "id": "b68a87d5",
   "metadata": {},
   "outputs": [
    {
     "name": "stderr",
     "output_type": "stream",
     "text": [
      "C:\\Users\\daabv\\AppData\\Local\\Temp/ipykernel_9760/4021210926.py:1: DeprecationWarning: executable_path has been deprecated, please pass in a Service object\n",
      "  driver = webdriver.Chrome(executable_path=driver_path, chrome_options=option)\n",
      "C:\\Users\\daabv\\AppData\\Local\\Temp/ipykernel_9760/4021210926.py:1: DeprecationWarning: use options instead of chrome_options\n",
      "  driver = webdriver.Chrome(executable_path=driver_path, chrome_options=option)\n"
     ]
    }
   ],
   "source": [
    "driver = webdriver.Chrome(executable_path=driver_path, chrome_options=option)\n",
    "\n",
    "driver.get(url_edt)"
   ]
  },
  {
   "cell_type": "code",
   "execution_count": 41,
   "id": "7655f1be",
   "metadata": {},
   "outputs": [],
   "source": [
    "username = 'vdaab'\n",
    "password = 'va77da19&*'\n",
    "\n",
    "\n",
    "driver.find_element(By.ID, 'username').send_keys(username)\n",
    "driver.find_element(By.ID, 'password').send_keys(password)\n",
    "driver.find_element(By.ID, 'login-btn').click()"
   ]
  },
  {
   "cell_type": "code",
   "execution_count": 34,
   "id": "c0a5c742",
   "metadata": {},
   "outputs": [],
   "source": [
    "html_content = BeautifulSoup(driver.page_source, 'lxml')"
   ]
  },
  {
   "cell_type": "markdown",
   "id": "dfcc0584",
   "metadata": {},
   "source": [
    "essai avec les salles du 3e étage"
   ]
  },
  {
   "cell_type": "code",
   "execution_count": 66,
   "id": "333d42e0",
   "metadata": {},
   "outputs": [
    {
     "data": {
      "text/plain": [
       "'<div class=\"v-calendar-daily__day v-present\"><div class=\"v-calendar-daily__day-interval\" style=\"height: 20px;\"></div><div class=\"v-calendar-daily__day-interval\" style=\"height: 20px;\"></div><div class=\"v-calendar-daily__day-interval\" style=\"height: 20px;\"></div><div class=\"v-calendar-daily__day-interval\" style=\"height: 20px;\"></div><div class=\"v-calendar-daily__day-interval\" style=\"height: 20px;\"></div><div class=\"v-calendar-daily__day-interval\" style=\"height: 20px;\"></div><div class=\"v-calendar-daily__day-interval\" style=\"height: 20px;\"></div><div class=\"v-calendar-daily__day-interval\" style=\"height: 20px;\"></div><div class=\"v-calendar-daily__day-interval\" style=\"height: 20px;\"></div><div class=\"v-calendar-daily__day-interval\" style=\"height: 20px;\"></div><div class=\"v-calendar-daily__day-interval\" style=\"height: 20px;\"></div><div class=\"v-calendar-daily__day-interval\" style=\"height: 20px;\"></div><div class=\"v-calendar-daily__day-interval\" style=\"height: 20px;\"></div><div class=\"v-calendar-daily__day-interval\" style=\"height: 20px;\"></div><div class=\"v-calendar-daily__day-interval\" style=\"height: 20px;\"></div><div class=\"v-calendar-daily__day-interval\" style=\"height: 20px;\"></div><div class=\"v-calendar-daily__day-interval\" style=\"height: 20px;\"></div><div class=\"v-calendar-daily__day-interval\" style=\"height: 20px;\"></div><div class=\"v-calendar-daily__day-interval\" style=\"height: 20px;\"></div><div class=\"v-calendar-daily__day-interval\" style=\"height: 20px;\"></div><div class=\"v-calendar-daily__day-interval\" style=\"height: 20px;\"></div><div class=\"v-calendar-daily__day-interval\" style=\"height: 20px;\"></div><div class=\"v-calendar-daily__day-interval\" style=\"height: 20px;\"></div><div class=\"v-calendar-daily__day-interval\" style=\"height: 20px;\"></div><div class=\"v-calendar-daily__day-interval\" style=\"height: 20px;\"></div><div class=\"v-calendar-daily__day-interval\" style=\"height: 20px;\"></div><div class=\"v-event-timed-container\"><div class=\"v-event-timed onsecondary--text\" style=\"top: 40px; height: 480px; left: 0%; width: 100%; background-color: rgb(179, 179, 179); border-color: rgb(179, 179, 179);\"><div class=\"pl-1\"><strong>IDEM LAB</strong><br>A 330</div></div></div></div>'"
      ]
     },
     "execution_count": 66,
     "metadata": {},
     "output_type": "execute_result"
    }
   ],
   "source": [
    "# ça sera l'élément qu'on devra scraper\n",
    "today_events = driver.find_element(By.CLASS_NAME, 'v-calendar-daily__day.v-present').get_attribute('outerHTML')\n",
    "today_events"
   ]
  },
  {
   "cell_type": "code",
   "execution_count": 68,
   "id": "51ab5bda",
   "metadata": {},
   "outputs": [
    {
     "data": {
      "text/plain": [
       "'<div class=\"v-event-timed-container\"><div class=\"v-event-timed onsecondary--text\" style=\"top: 40px; height: 480px; left: 0%; width: 14.1667%; background-color: rgb(255, 179, 153); border-color: rgb(255, 179, 153);\"><div class=\"pl-1\"><strong>IPI</strong><br>A 336</div></div><div class=\"v-event-timed onsecondary--text\" style=\"top: 40px; height: 480px; left: 9.09091%; width: 15.4545%; background-color: rgb(179, 179, 179); border-color: rgb(179, 179, 179);\"><div class=\"pl-1\"><strong>IDEM LAB</strong><br>A 330</div></div><div class=\"v-event-timed onsecondary--text\" style=\"top: 240px; height: 160px; left: 14.0909%; width: 17.1717%; background-color: rgb(255, 255, 255); border-color: rgb(255, 255, 255);\"><div class=\"pl-1\"><strong>TRAVAIL PERSONNEL GR A</strong><br>A 328</div></div><div class=\"v-event-timed onsecondary--text\" style=\"top: 360px; height: 80px; left: 14.0909%; width: 17.1717%; background-color: rgb(255, 255, 255); border-color: rgb(255, 255, 255);\"><div class=\"pl-1\"><strong>CRITICAL THINKING</strong><br>Allamel Catherine<br>A 327</div></div><div class=\"v-event-timed onsecondary--text\" style=\"top: 400px; height: 80px; left: 19.0909%; width: 73.0227%; background-color: rgb(255, 255, 255); border-color: rgb(255, 255, 255);\"><div class=\"pl-1\"><strong>Chinois I B-CHX04 - Présentiel</strong><br>Bian Shan Shu<br>A 313</div></div><div class=\"v-event-timed onsecondary--text\" style=\"top: 240px; height: 160px; left: 23.6364%; width: 16.2273%; background-color: rgb(255, 204, 153); border-color: rgb(255, 204, 153);\"><div class=\"pl-1\"><strong>Gestion du changement</strong><br>Albert-Blanc Stéphane<br>A 311</div></div><div class=\"v-event-timed onsecondary--text\" style=\"top: 40px; height: 160px; left: 24.2424%; width: 25.7576%; background-color: rgb(255, 204, 153); border-color: rgb(255, 204, 153);\"><div class=\"pl-1\"><strong>Gestion du changement</strong><br>Albert-Blanc Stéphane<br>A 311</div></div><div class=\"v-event-timed onsecondary--text\" style=\"top: 320px; height: 80px; left: 28.6364%; width: 18.5455%; background-color: rgb(255, 255, 255); border-color: rgb(255, 255, 255);\"><div class=\"pl-1\"><strong>Chinois B-CHZ01 - Présentiel</strong><br>Bian Shan Shu<br>A 313</div></div><div class=\"v-event-timed onsecondary--text\" style=\"top: 120px; height: 120px; left: 29.2424%; width: 32.197%; background-color: rgb(255, 255, 204); border-color: rgb(255, 255, 204);\"><div class=\"pl-1\"><strong>Analyse S2 (CCI) Jeudi</strong><br>Klein Guillaume<br>A 333</div></div><div class=\"v-event-timed onsecondary--text\" style=\"top: 240px; height: 80px; left: 33.1818%; width: 16.2273%; background-color: rgb(255, 255, 255); border-color: rgb(255, 255, 255);\"><div class=\"pl-1\"><strong>RESA DIRECTION</strong><br>A 333</div></div><div class=\"v-event-timed onsecondary--text\" style=\"top: 300px; height: 40px; left: 38.1818%; width: 18.9318%; background-color: rgb(255, 255, 255); border-color: rgb(255, 255, 255);\"><div class=\"pl-1\"><strong>Soutenance LEA POBLON</strong><br>A 327</div></div><div class=\"v-event-timed onsecondary--text\" style=\"top: 40px; height: 80px; left: 39.3939%; width: 25.7576%; background-color: rgb(255, 255, 255); border-color: rgb(255, 255, 255);\"><div class=\"pl-1\"><strong>RESA DIRECTION</strong><br>A 333</div></div><div class=\"v-event-timed onsecondary--text\" style=\"top: 240px; height: 60px; left: 42.7273%; width: 16.2273%; background-color: rgb(153, 255, 153); border-color: rgb(153, 255, 153);\"><div class=\"pl-1\"><strong>Métiers de l\\'éco. (TD) DL2 ME</strong><br>Weber Melanie<br>A 331</div></div><div class=\"v-event-timed onsecondary--text\" style=\"top: 120px; height: 80px; left: 46.9318%; width: 30.072%; background-color: rgb(153, 153, 255); border-color: rgb(153, 153, 255);\"><div class=\"pl-1\"><strong>Sociologie de l’école – développements contemporains</strong><br>A 328</div></div><div class=\"v-event-timed onsecondary--text\" style=\"top: 320px; height: 80px; left: 48.4848%; width: 17.5152%; background-color: rgb(255, 255, 255); border-color: rgb(255, 255, 255);\"><div class=\"pl-1\"><strong>Arabe B-ARZ01 - Présentiel</strong><br>El Habachi Lahsen<br>A 314</div></div><div class=\"v-event-timed onsecondary--text\" style=\"top: 260px; height: 40px; left: 52.2727%; width: 16.2273%; background-color: rgb(255, 0, 255); border-color: rgb(255, 0, 255);\"><div class=\"pl-1\"><strong>Research Viva ILIOU Joséphine</strong><br>Munier Francis<br>Dorries Matthias<br>A 327</div></div><div class=\"v-event-timed onsecondary--text\" style=\"top: 40px; height: 80px; left: 54.5455%; width: 25.7576%; background-color: rgb(204, 204, 255); border-color: rgb(204, 204, 255);\"><div class=\"pl-1\"><strong>UE 11. Strategy and innovation management</strong><br>Burger-Helmchen Thierry<br>A 310</div></div><div class=\"v-event-timed onsecondary--text\" style=\"top: 80px; height: 40px; left: 59.5455%; width: 38.6364%; background-color: rgb(204, 204, 255); border-color: rgb(204, 204, 255);\"><div class=\"pl-1\"><strong>Correction EB</strong><br>A 328</div></div><div class=\"v-event-timed onsecondary--text\" style=\"top: 280px; height: 140px; left: 61.8182%; width: 16.2273%; background-color: rgb(255, 204, 153); border-color: rgb(255, 204, 153);\"><div class=\"pl-1\"><strong>Travail d\\'études et de recherche</strong><br>A 329</div></div><div class=\"v-event-timed onsecondary--text\" style=\"top: 120px; height: 60px; left: 64.6212%; width: 30.072%; background-color: rgb(153, 255, 153); border-color: rgb(153, 255, 153);\"><div class=\"pl-1\"><strong>Métiers de l\\'éco. (TD) Gr.LEA</strong><br>Lrhezzioui Hafida<br>A 326</div></div><div class=\"v-event-timed onsecondary--text\" style=\"top: 280px; height: 80px; left: 71.3636%; width: 28.6364%; background-color: rgb(204, 204, 255); border-color: rgb(204, 204, 255);\"><div class=\"pl-1\"><strong>UE 11. Strategy and innovation management</strong><br>Cowan Robin<br>A 326</div></div><div class=\"v-event-timed onsecondary--text\" style=\"top: 320px; height: 80px; left: 76.3636%; width: 23.6364%; background-color: rgb(255, 204, 204); border-color: rgb(255, 204, 204);\"><div class=\"pl-1\"><strong>UE 1. Architectures, modèles et langages de données</strong><br>Muller Moritz<br>A 312</div></div><div class=\"v-event-timed onsecondary--text\" style=\"top: 40px; height: 40px; left: 77.2727%; width: 22.7273%; background-color: rgb(204, 102, 255); border-color: rgb(204, 102, 255);\"><div class=\"pl-1\"><strong>Travail personnel</strong><br>A 329</div></div><div class=\"v-event-timed onsecondary--text\" style=\"top: 80px; height: 40px; left: 79.7727%; width: 20.2273%; background-color: rgb(255, 255, 255); border-color: rgb(255, 255, 255);\"><div class=\"pl-1\"><strong>Soutenance LEA BRUNET</strong><br>Bach Laurent<br>A 327</div></div><div class=\"v-event-timed onsecondary--text\" style=\"top: 150px; height: 40px; left: 82.3106%; width: 17.6894%; background-color: rgb(255, 0, 255); border-color: rgb(255, 0, 255);\"><div class=\"pl-1\"><strong>Research Viva DOGANELI Nelin</strong><br>Munier Francis<br>Cowan Robin<br>A 327</div></div><div class=\"v-event-timed onsecondary--text\" style=\"top: 320px; height: 60px; left: 88.1818%; width: 11.8182%; background-color: rgb(153, 255, 153); border-color: rgb(153, 255, 153);\"><div class=\"pl-1\"><strong>Microéconomie III (TD) Gr.8B+9</strong><br>Liegey Maxime<br>A 333</div></div></div>'"
      ]
     },
     "execution_count": 68,
     "metadata": {},
     "output_type": "execute_result"
    }
   ],
   "source": [
    "#test avec un jour de la semaine avec plus d'éléments\n",
    "events = driver.find_element(By.XPATH, '//*[@id=\"unistra-schedule\"]/div[3]/div/main/div/div[2]/div/div/div[2]/div/div/div[2]/div/div/div[1]/div[2]/div/div/div/div[5]/div[27]').get_attribute('outerHTML')\n",
    "events"
   ]
  },
  {
   "cell_type": "code",
   "execution_count": 71,
   "id": "c201e845",
   "metadata": {},
   "outputs": [
    {
     "data": {
      "text/plain": [
       "[' style=\"top: 40px; height: 480px; left: 0%; width: 14.1667%; background-color: rgb(255, 179, 153); border-color: rgb(255, 179, 153);\"><div class=\"pl-1\"><strong>IPI</strong><br>A 336',\n",
       " ' style=\"top: 40px; height: 480px; left: 9.09091%; width: 15.4545%; background-color: rgb(179, 179, 179); border-color: rgb(179, 179, 179);\"><div class=\"pl-1\"><strong>IDEM LAB</strong><br>A 330',\n",
       " ' style=\"top: 240px; height: 160px; left: 14.0909%; width: 17.1717%; background-color: rgb(255, 255, 255); border-color: rgb(255, 255, 255);\"><div class=\"pl-1\"><strong>TRAVAIL PERSONNEL GR A</strong><br>A 328',\n",
       " ' style=\"top: 360px; height: 80px; left: 14.0909%; width: 17.1717%; background-color: rgb(255, 255, 255); border-color: rgb(255, 255, 255);\"><div class=\"pl-1\"><strong>CRITICAL THINKING</strong><br>Allamel Catherine<br>A 327',\n",
       " ' style=\"top: 400px; height: 80px; left: 19.0909%; width: 73.0227%; background-color: rgb(255, 255, 255); border-color: rgb(255, 255, 255);\"><div class=\"pl-1\"><strong>Chinois I B-CHX04 - Présentiel</strong><br>Bian Shan Shu<br>A 313',\n",
       " ' style=\"top: 240px; height: 160px; left: 23.6364%; width: 16.2273%; background-color: rgb(255, 204, 153); border-color: rgb(255, 204, 153);\"><div class=\"pl-1\"><strong>Gestion du changement</strong><br>Albert-Blanc Stéphane<br>A 311',\n",
       " ' style=\"top: 40px; height: 160px; left: 24.2424%; width: 25.7576%; background-color: rgb(255, 204, 153); border-color: rgb(255, 204, 153);\"><div class=\"pl-1\"><strong>Gestion du changement</strong><br>Albert-Blanc Stéphane<br>A 311',\n",
       " ' style=\"top: 320px; height: 80px; left: 28.6364%; width: 18.5455%; background-color: rgb(255, 255, 255); border-color: rgb(255, 255, 255);\"><div class=\"pl-1\"><strong>Chinois B-CHZ01 - Présentiel</strong><br>Bian Shan Shu<br>A 313',\n",
       " ' style=\"top: 120px; height: 120px; left: 29.2424%; width: 32.197%; background-color: rgb(255, 255, 204); border-color: rgb(255, 255, 204);\"><div class=\"pl-1\"><strong>Analyse S2 (CCI) Jeudi</strong><br>Klein Guillaume<br>A 333',\n",
       " ' style=\"top: 240px; height: 80px; left: 33.1818%; width: 16.2273%; background-color: rgb(255, 255, 255); border-color: rgb(255, 255, 255);\"><div class=\"pl-1\"><strong>RESA DIRECTION</strong><br>A 333',\n",
       " ' style=\"top: 300px; height: 40px; left: 38.1818%; width: 18.9318%; background-color: rgb(255, 255, 255); border-color: rgb(255, 255, 255);\"><div class=\"pl-1\"><strong>Soutenance LEA POBLON</strong><br>A 327',\n",
       " ' style=\"top: 40px; height: 80px; left: 39.3939%; width: 25.7576%; background-color: rgb(255, 255, 255); border-color: rgb(255, 255, 255);\"><div class=\"pl-1\"><strong>RESA DIRECTION</strong><br>A 333',\n",
       " ' style=\"top: 240px; height: 60px; left: 42.7273%; width: 16.2273%; background-color: rgb(153, 255, 153); border-color: rgb(153, 255, 153);\"><div class=\"pl-1\"><strong>Métiers de l\\'éco. (TD) DL2 ME</strong><br>Weber Melanie<br>A 331',\n",
       " ' style=\"top: 120px; height: 80px; left: 46.9318%; width: 30.072%; background-color: rgb(153, 153, 255); border-color: rgb(153, 153, 255);\"><div class=\"pl-1\"><strong>Sociologie de l’école – développements contemporains</strong><br>A 328',\n",
       " ' style=\"top: 320px; height: 80px; left: 48.4848%; width: 17.5152%; background-color: rgb(255, 255, 255); border-color: rgb(255, 255, 255);\"><div class=\"pl-1\"><strong>Arabe B-ARZ01 - Présentiel</strong><br>El Habachi Lahsen<br>A 314',\n",
       " ' style=\"top: 260px; height: 40px; left: 52.2727%; width: 16.2273%; background-color: rgb(255, 0, 255); border-color: rgb(255, 0, 255);\"><div class=\"pl-1\"><strong>Research Viva ILIOU Joséphine</strong><br>Munier Francis<br>Dorries Matthias<br>A 327',\n",
       " ' style=\"top: 40px; height: 80px; left: 54.5455%; width: 25.7576%; background-color: rgb(204, 204, 255); border-color: rgb(204, 204, 255);\"><div class=\"pl-1\"><strong>UE 11. Strategy and innovation management</strong><br>Burger-Helmchen Thierry<br>A 310',\n",
       " ' style=\"top: 80px; height: 40px; left: 59.5455%; width: 38.6364%; background-color: rgb(204, 204, 255); border-color: rgb(204, 204, 255);\"><div class=\"pl-1\"><strong>Correction EB</strong><br>A 328',\n",
       " ' style=\"top: 280px; height: 140px; left: 61.8182%; width: 16.2273%; background-color: rgb(255, 204, 153); border-color: rgb(255, 204, 153);\"><div class=\"pl-1\"><strong>Travail d\\'études et de recherche</strong><br>A 329',\n",
       " ' style=\"top: 120px; height: 60px; left: 64.6212%; width: 30.072%; background-color: rgb(153, 255, 153); border-color: rgb(153, 255, 153);\"><div class=\"pl-1\"><strong>Métiers de l\\'éco. (TD) Gr.LEA</strong><br>Lrhezzioui Hafida<br>A 326',\n",
       " ' style=\"top: 280px; height: 80px; left: 71.3636%; width: 28.6364%; background-color: rgb(204, 204, 255); border-color: rgb(204, 204, 255);\"><div class=\"pl-1\"><strong>UE 11. Strategy and innovation management</strong><br>Cowan Robin<br>A 326',\n",
       " ' style=\"top: 320px; height: 80px; left: 76.3636%; width: 23.6364%; background-color: rgb(255, 204, 204); border-color: rgb(255, 204, 204);\"><div class=\"pl-1\"><strong>UE 1. Architectures, modèles et langages de données</strong><br>Muller Moritz<br>A 312',\n",
       " ' style=\"top: 40px; height: 40px; left: 77.2727%; width: 22.7273%; background-color: rgb(204, 102, 255); border-color: rgb(204, 102, 255);\"><div class=\"pl-1\"><strong>Travail personnel</strong><br>A 329',\n",
       " ' style=\"top: 80px; height: 40px; left: 79.7727%; width: 20.2273%; background-color: rgb(255, 255, 255); border-color: rgb(255, 255, 255);\"><div class=\"pl-1\"><strong>Soutenance LEA BRUNET</strong><br>Bach Laurent<br>A 327',\n",
       " ' style=\"top: 150px; height: 40px; left: 82.3106%; width: 17.6894%; background-color: rgb(255, 0, 255); border-color: rgb(255, 0, 255);\"><div class=\"pl-1\"><strong>Research Viva DOGANELI Nelin</strong><br>Munier Francis<br>Cowan Robin<br>A 327',\n",
       " ' style=\"top: 320px; height: 60px; left: 88.1818%; width: 11.8182%; background-color: rgb(153, 255, 153); border-color: rgb(153, 255, 153);\"><div class=\"pl-1\"><strong>Microéconomie III (TD) Gr.8B+9</strong><br>Liegey Maxime<br>A 333']"
      ]
     },
     "execution_count": 71,
     "metadata": {},
     "output_type": "execute_result"
    }
   ],
   "source": [
    "#séparer les évènements et les mettre dans une liste\n",
    "sep_events = []\n",
    "\n",
    "sep_events = re.findall('div class=\"v-event-timed onsecondary--text\"(.*?)</div></div>', events)\n",
    "sep_events"
   ]
  },
  {
   "cell_type": "code",
   "execution_count": 116,
   "id": "6cc96fcf",
   "metadata": {},
   "outputs": [
    {
     "data": {
      "text/plain": [
       "['A 336',\n",
       " 'A 330',\n",
       " 'A 328',\n",
       " 'A 327',\n",
       " 'A 313',\n",
       " 'A 311',\n",
       " 'A 311',\n",
       " 'A 313',\n",
       " 'A 333',\n",
       " 'A 333',\n",
       " 'A 327',\n",
       " 'A 333',\n",
       " 'A 331',\n",
       " 'A 328',\n",
       " 'A 314',\n",
       " 'A 327',\n",
       " 'A 310',\n",
       " 'A 328',\n",
       " 'A 329',\n",
       " 'A 326',\n",
       " 'A 326',\n",
       " 'A 312',\n",
       " 'A 329',\n",
       " 'A 327',\n",
       " 'A 327',\n",
       " 'A 333']"
      ]
     },
     "execution_count": 116,
     "metadata": {},
     "output_type": "execute_result"
    }
   ],
   "source": [
    "#récupérer toutes les salles\n",
    "rooms = re.findall('<br>(?=A )(.*?)</div></div>', events)\n",
    "rooms"
   ]
  },
  {
   "cell_type": "code",
   "execution_count": 135,
   "id": "d8de6d19",
   "metadata": {},
   "outputs": [
    {
     "data": {
      "text/plain": [
       "[40,\n",
       " 40,\n",
       " 240,\n",
       " 360,\n",
       " 400,\n",
       " 240,\n",
       " 40,\n",
       " 320,\n",
       " 120,\n",
       " 240,\n",
       " 300,\n",
       " 40,\n",
       " 240,\n",
       " 120,\n",
       " 320,\n",
       " 260,\n",
       " 40,\n",
       " 80,\n",
       " 280,\n",
       " 120,\n",
       " 280,\n",
       " 320,\n",
       " 40,\n",
       " 80,\n",
       " 150,\n",
       " 320]"
      ]
     },
     "execution_count": 135,
     "metadata": {},
     "output_type": "execute_result"
    }
   ],
   "source": [
    "#récupérer les valeurs pixels début pour chaque salle + convertir en valeur numérique\n",
    "top_pixels = re.findall('top: (.*?)px;', events)\n",
    "top_pixels = [int(p) for p in top_pixels]\n",
    "top_pixels"
   ]
  },
  {
   "cell_type": "code",
   "execution_count": 137,
   "id": "c2cf835a",
   "metadata": {},
   "outputs": [
    {
     "data": {
      "text/plain": [
       "[480,\n",
       " 480,\n",
       " 160,\n",
       " 80,\n",
       " 80,\n",
       " 160,\n",
       " 160,\n",
       " 80,\n",
       " 120,\n",
       " 80,\n",
       " 40,\n",
       " 80,\n",
       " 60,\n",
       " 80,\n",
       " 80,\n",
       " 40,\n",
       " 80,\n",
       " 40,\n",
       " 140,\n",
       " 60,\n",
       " 80,\n",
       " 80,\n",
       " 40,\n",
       " 40,\n",
       " 40,\n",
       " 60]"
      ]
     },
     "execution_count": 137,
     "metadata": {},
     "output_type": "execute_result"
    }
   ],
   "source": [
    "#récupérer les valeurs pixels de durée pour chaque salle + convertri en valeur numérique\n",
    "height_pixels = re.findall('height: (.*?)px;', events)\n",
    "height_pixels = [int(p) for p in height_pixels]\n",
    "height_pixels"
   ]
  },
  {
   "cell_type": "code",
   "execution_count": 157,
   "id": "3e65f49e",
   "metadata": {},
   "outputs": [
    {
     "data": {
      "text/plain": [
       "[8.0,\n",
       " 8.0,\n",
       " 13.0,\n",
       " 16.0,\n",
       " 17.0,\n",
       " 13.0,\n",
       " 8.0,\n",
       " 15.0,\n",
       " 10.0,\n",
       " 13.0,\n",
       " 14.5,\n",
       " 8.0,\n",
       " 13.0,\n",
       " 10.0,\n",
       " 15.0,\n",
       " 13.5,\n",
       " 8.0,\n",
       " 9.0,\n",
       " 14.0,\n",
       " 10.0,\n",
       " 14.0,\n",
       " 15.0,\n",
       " 8.0,\n",
       " 9.0,\n",
       " 10.75,\n",
       " 15.0]"
      ]
     },
     "execution_count": 157,
     "metadata": {},
     "output_type": "execute_result"
    }
   ],
   "source": [
    "#convertir les pixels en horaires de début\n",
    "occupation_start_numbers = [ 7 + ((p / 20) * 0.5) for p in top_pixels]\n",
    "occupation_start_numbers"
   ]
  },
  {
   "cell_type": "code",
   "execution_count": 151,
   "id": "64c43d6c",
   "metadata": {},
   "outputs": [
    {
     "data": {
      "text/plain": [
       "[12.0,\n",
       " 12.0,\n",
       " 4.0,\n",
       " 2.0,\n",
       " 2.0,\n",
       " 4.0,\n",
       " 4.0,\n",
       " 2.0,\n",
       " 3.0,\n",
       " 2.0,\n",
       " 1.0,\n",
       " 2.0,\n",
       " 1.5,\n",
       " 2.0,\n",
       " 2.0,\n",
       " 1.0,\n",
       " 2.0,\n",
       " 1.0,\n",
       " 3.5,\n",
       " 1.5,\n",
       " 2.0,\n",
       " 2.0,\n",
       " 1.0,\n",
       " 1.0,\n",
       " 1.0,\n",
       " 1.5]"
      ]
     },
     "execution_count": 151,
     "metadata": {},
     "output_type": "execute_result"
    }
   ],
   "source": [
    "#convertir les pixels en durée\n",
    "occupation_duration = [((p / 20) * 0.5) for p in height_pixels]\n",
    "occupation_duration"
   ]
  },
  {
   "cell_type": "code",
   "execution_count": null,
   "id": "9cd9c501",
   "metadata": {},
   "outputs": [],
   "source": [
    "#trouver un moyen de changer les valeurs décimales en Heures:Minutes"
   ]
  },
  {
   "cell_type": "code",
   "execution_count": 168,
   "id": "76c79330",
   "metadata": {},
   "outputs": [],
   "source": [
    "#créer un dict avec toutes valeurs qui nous intéressent"
   ]
  },
  {
   "cell_type": "code",
   "execution_count": 170,
   "id": "d94d66c7",
   "metadata": {},
   "outputs": [
    {
     "ename": "KeyboardInterrupt",
     "evalue": "",
     "output_type": "error",
     "traceback": [
      "\u001b[1;31m---------------------------------------------------------------------------\u001b[0m",
      "\u001b[1;31mKeyboardInterrupt\u001b[0m                         Traceback (most recent call last)",
      "\u001b[1;32m~\\AppData\\Local\\Temp/ipykernel_9760/3193570824.py\u001b[0m in \u001b[0;36m<module>\u001b[1;34m\u001b[0m\n\u001b[1;32m----> 1\u001b[1;33m \u001b[0mdriver\u001b[0m\u001b[1;33m.\u001b[0m\u001b[0mclose\u001b[0m\u001b[1;33m(\u001b[0m\u001b[1;33m)\u001b[0m\u001b[1;33m\u001b[0m\u001b[1;33m\u001b[0m\u001b[0m\n\u001b[0m",
      "\u001b[1;32m~\\anaconda3\\lib\\site-packages\\selenium\\webdriver\\remote\\webdriver.py\u001b[0m in \u001b[0;36mclose\u001b[1;34m(self)\u001b[0m\n\u001b[0;32m    935\u001b[0m                 \u001b[0mdriver\u001b[0m\u001b[1;33m.\u001b[0m\u001b[0mclose\u001b[0m\u001b[1;33m(\u001b[0m\u001b[1;33m)\u001b[0m\u001b[1;33m\u001b[0m\u001b[1;33m\u001b[0m\u001b[0m\n\u001b[0;32m    936\u001b[0m         \"\"\"\n\u001b[1;32m--> 937\u001b[1;33m         \u001b[0mself\u001b[0m\u001b[1;33m.\u001b[0m\u001b[0mexecute\u001b[0m\u001b[1;33m(\u001b[0m\u001b[0mCommand\u001b[0m\u001b[1;33m.\u001b[0m\u001b[0mCLOSE\u001b[0m\u001b[1;33m)\u001b[0m\u001b[1;33m\u001b[0m\u001b[1;33m\u001b[0m\u001b[0m\n\u001b[0m\u001b[0;32m    938\u001b[0m \u001b[1;33m\u001b[0m\u001b[0m\n\u001b[0;32m    939\u001b[0m     \u001b[1;32mdef\u001b[0m \u001b[0mquit\u001b[0m\u001b[1;33m(\u001b[0m\u001b[0mself\u001b[0m\u001b[1;33m)\u001b[0m \u001b[1;33m->\u001b[0m \u001b[1;32mNone\u001b[0m\u001b[1;33m:\u001b[0m\u001b[1;33m\u001b[0m\u001b[1;33m\u001b[0m\u001b[0m\n",
      "\u001b[1;32m~\\anaconda3\\lib\\site-packages\\selenium\\webdriver\\remote\\webdriver.py\u001b[0m in \u001b[0;36mexecute\u001b[1;34m(self, driver_command, params)\u001b[0m\n\u001b[0;32m    420\u001b[0m \u001b[1;33m\u001b[0m\u001b[0m\n\u001b[0;32m    421\u001b[0m         \u001b[0mparams\u001b[0m \u001b[1;33m=\u001b[0m \u001b[0mself\u001b[0m\u001b[1;33m.\u001b[0m\u001b[0m_wrap_value\u001b[0m\u001b[1;33m(\u001b[0m\u001b[0mparams\u001b[0m\u001b[1;33m)\u001b[0m\u001b[1;33m\u001b[0m\u001b[1;33m\u001b[0m\u001b[0m\n\u001b[1;32m--> 422\u001b[1;33m         \u001b[0mresponse\u001b[0m \u001b[1;33m=\u001b[0m \u001b[0mself\u001b[0m\u001b[1;33m.\u001b[0m\u001b[0mcommand_executor\u001b[0m\u001b[1;33m.\u001b[0m\u001b[0mexecute\u001b[0m\u001b[1;33m(\u001b[0m\u001b[0mdriver_command\u001b[0m\u001b[1;33m,\u001b[0m \u001b[0mparams\u001b[0m\u001b[1;33m)\u001b[0m\u001b[1;33m\u001b[0m\u001b[1;33m\u001b[0m\u001b[0m\n\u001b[0m\u001b[0;32m    423\u001b[0m         \u001b[1;32mif\u001b[0m \u001b[0mresponse\u001b[0m\u001b[1;33m:\u001b[0m\u001b[1;33m\u001b[0m\u001b[1;33m\u001b[0m\u001b[0m\n\u001b[0;32m    424\u001b[0m             \u001b[0mself\u001b[0m\u001b[1;33m.\u001b[0m\u001b[0merror_handler\u001b[0m\u001b[1;33m.\u001b[0m\u001b[0mcheck_response\u001b[0m\u001b[1;33m(\u001b[0m\u001b[0mresponse\u001b[0m\u001b[1;33m)\u001b[0m\u001b[1;33m\u001b[0m\u001b[1;33m\u001b[0m\u001b[0m\n",
      "\u001b[1;32m~\\anaconda3\\lib\\site-packages\\selenium\\webdriver\\remote\\remote_connection.py\u001b[0m in \u001b[0;36mexecute\u001b[1;34m(self, command, params)\u001b[0m\n\u001b[0;32m    419\u001b[0m         \u001b[0mdata\u001b[0m \u001b[1;33m=\u001b[0m \u001b[0mutils\u001b[0m\u001b[1;33m.\u001b[0m\u001b[0mdump_json\u001b[0m\u001b[1;33m(\u001b[0m\u001b[0mparams\u001b[0m\u001b[1;33m)\u001b[0m\u001b[1;33m\u001b[0m\u001b[1;33m\u001b[0m\u001b[0m\n\u001b[0;32m    420\u001b[0m         \u001b[0murl\u001b[0m \u001b[1;33m=\u001b[0m \u001b[1;34mf\"{self._url}{path}\"\u001b[0m\u001b[1;33m\u001b[0m\u001b[1;33m\u001b[0m\u001b[0m\n\u001b[1;32m--> 421\u001b[1;33m         \u001b[1;32mreturn\u001b[0m \u001b[0mself\u001b[0m\u001b[1;33m.\u001b[0m\u001b[0m_request\u001b[0m\u001b[1;33m(\u001b[0m\u001b[0mcommand_info\u001b[0m\u001b[1;33m[\u001b[0m\u001b[1;36m0\u001b[0m\u001b[1;33m]\u001b[0m\u001b[1;33m,\u001b[0m \u001b[0murl\u001b[0m\u001b[1;33m,\u001b[0m \u001b[0mbody\u001b[0m\u001b[1;33m=\u001b[0m\u001b[0mdata\u001b[0m\u001b[1;33m)\u001b[0m\u001b[1;33m\u001b[0m\u001b[1;33m\u001b[0m\u001b[0m\n\u001b[0m\u001b[0;32m    422\u001b[0m \u001b[1;33m\u001b[0m\u001b[0m\n\u001b[0;32m    423\u001b[0m     \u001b[1;32mdef\u001b[0m \u001b[0m_request\u001b[0m\u001b[1;33m(\u001b[0m\u001b[0mself\u001b[0m\u001b[1;33m,\u001b[0m \u001b[0mmethod\u001b[0m\u001b[1;33m,\u001b[0m \u001b[0murl\u001b[0m\u001b[1;33m,\u001b[0m \u001b[0mbody\u001b[0m\u001b[1;33m=\u001b[0m\u001b[1;32mNone\u001b[0m\u001b[1;33m)\u001b[0m\u001b[1;33m:\u001b[0m\u001b[1;33m\u001b[0m\u001b[1;33m\u001b[0m\u001b[0m\n",
      "\u001b[1;32m~\\anaconda3\\lib\\site-packages\\selenium\\webdriver\\remote\\remote_connection.py\u001b[0m in \u001b[0;36m_request\u001b[1;34m(self, method, url, body)\u001b[0m\n\u001b[0;32m    441\u001b[0m \u001b[1;33m\u001b[0m\u001b[0m\n\u001b[0;32m    442\u001b[0m         \u001b[1;32mif\u001b[0m \u001b[0mself\u001b[0m\u001b[1;33m.\u001b[0m\u001b[0mkeep_alive\u001b[0m\u001b[1;33m:\u001b[0m\u001b[1;33m\u001b[0m\u001b[1;33m\u001b[0m\u001b[0m\n\u001b[1;32m--> 443\u001b[1;33m             \u001b[0mresp\u001b[0m \u001b[1;33m=\u001b[0m \u001b[0mself\u001b[0m\u001b[1;33m.\u001b[0m\u001b[0m_conn\u001b[0m\u001b[1;33m.\u001b[0m\u001b[0mrequest\u001b[0m\u001b[1;33m(\u001b[0m\u001b[0mmethod\u001b[0m\u001b[1;33m,\u001b[0m \u001b[0murl\u001b[0m\u001b[1;33m,\u001b[0m \u001b[0mbody\u001b[0m\u001b[1;33m=\u001b[0m\u001b[0mbody\u001b[0m\u001b[1;33m,\u001b[0m \u001b[0mheaders\u001b[0m\u001b[1;33m=\u001b[0m\u001b[0mheaders\u001b[0m\u001b[1;33m)\u001b[0m\u001b[1;33m\u001b[0m\u001b[1;33m\u001b[0m\u001b[0m\n\u001b[0m\u001b[0;32m    444\u001b[0m             \u001b[0mstatuscode\u001b[0m \u001b[1;33m=\u001b[0m \u001b[0mresp\u001b[0m\u001b[1;33m.\u001b[0m\u001b[0mstatus\u001b[0m\u001b[1;33m\u001b[0m\u001b[1;33m\u001b[0m\u001b[0m\n\u001b[0;32m    445\u001b[0m         \u001b[1;32melse\u001b[0m\u001b[1;33m:\u001b[0m\u001b[1;33m\u001b[0m\u001b[1;33m\u001b[0m\u001b[0m\n",
      "\u001b[1;32m~\\anaconda3\\lib\\site-packages\\urllib3\\request.py\u001b[0m in \u001b[0;36mrequest\u001b[1;34m(self, method, url, fields, headers, **urlopen_kw)\u001b[0m\n\u001b[0;32m     72\u001b[0m \u001b[1;33m\u001b[0m\u001b[0m\n\u001b[0;32m     73\u001b[0m         \u001b[1;32mif\u001b[0m \u001b[0mmethod\u001b[0m \u001b[1;32min\u001b[0m \u001b[0mself\u001b[0m\u001b[1;33m.\u001b[0m\u001b[0m_encode_url_methods\u001b[0m\u001b[1;33m:\u001b[0m\u001b[1;33m\u001b[0m\u001b[1;33m\u001b[0m\u001b[0m\n\u001b[1;32m---> 74\u001b[1;33m             return self.request_encode_url(\n\u001b[0m\u001b[0;32m     75\u001b[0m                 \u001b[0mmethod\u001b[0m\u001b[1;33m,\u001b[0m \u001b[0murl\u001b[0m\u001b[1;33m,\u001b[0m \u001b[0mfields\u001b[0m\u001b[1;33m=\u001b[0m\u001b[0mfields\u001b[0m\u001b[1;33m,\u001b[0m \u001b[0mheaders\u001b[0m\u001b[1;33m=\u001b[0m\u001b[0mheaders\u001b[0m\u001b[1;33m,\u001b[0m \u001b[1;33m**\u001b[0m\u001b[0murlopen_kw\u001b[0m\u001b[1;33m\u001b[0m\u001b[1;33m\u001b[0m\u001b[0m\n\u001b[0;32m     76\u001b[0m             )\n",
      "\u001b[1;32m~\\anaconda3\\lib\\site-packages\\urllib3\\request.py\u001b[0m in \u001b[0;36mrequest_encode_url\u001b[1;34m(self, method, url, fields, headers, **urlopen_kw)\u001b[0m\n\u001b[0;32m     94\u001b[0m             \u001b[0murl\u001b[0m \u001b[1;33m+=\u001b[0m \u001b[1;34m\"?\"\u001b[0m \u001b[1;33m+\u001b[0m \u001b[0murlencode\u001b[0m\u001b[1;33m(\u001b[0m\u001b[0mfields\u001b[0m\u001b[1;33m)\u001b[0m\u001b[1;33m\u001b[0m\u001b[1;33m\u001b[0m\u001b[0m\n\u001b[0;32m     95\u001b[0m \u001b[1;33m\u001b[0m\u001b[0m\n\u001b[1;32m---> 96\u001b[1;33m         \u001b[1;32mreturn\u001b[0m \u001b[0mself\u001b[0m\u001b[1;33m.\u001b[0m\u001b[0murlopen\u001b[0m\u001b[1;33m(\u001b[0m\u001b[0mmethod\u001b[0m\u001b[1;33m,\u001b[0m \u001b[0murl\u001b[0m\u001b[1;33m,\u001b[0m \u001b[1;33m**\u001b[0m\u001b[0mextra_kw\u001b[0m\u001b[1;33m)\u001b[0m\u001b[1;33m\u001b[0m\u001b[1;33m\u001b[0m\u001b[0m\n\u001b[0m\u001b[0;32m     97\u001b[0m \u001b[1;33m\u001b[0m\u001b[0m\n\u001b[0;32m     98\u001b[0m     def request_encode_body(\n",
      "\u001b[1;32m~\\anaconda3\\lib\\site-packages\\urllib3\\poolmanager.py\u001b[0m in \u001b[0;36murlopen\u001b[1;34m(self, method, url, redirect, **kw)\u001b[0m\n\u001b[0;32m    373\u001b[0m             \u001b[0mresponse\u001b[0m \u001b[1;33m=\u001b[0m \u001b[0mconn\u001b[0m\u001b[1;33m.\u001b[0m\u001b[0murlopen\u001b[0m\u001b[1;33m(\u001b[0m\u001b[0mmethod\u001b[0m\u001b[1;33m,\u001b[0m \u001b[0murl\u001b[0m\u001b[1;33m,\u001b[0m \u001b[1;33m**\u001b[0m\u001b[0mkw\u001b[0m\u001b[1;33m)\u001b[0m\u001b[1;33m\u001b[0m\u001b[1;33m\u001b[0m\u001b[0m\n\u001b[0;32m    374\u001b[0m         \u001b[1;32melse\u001b[0m\u001b[1;33m:\u001b[0m\u001b[1;33m\u001b[0m\u001b[1;33m\u001b[0m\u001b[0m\n\u001b[1;32m--> 375\u001b[1;33m             \u001b[0mresponse\u001b[0m \u001b[1;33m=\u001b[0m \u001b[0mconn\u001b[0m\u001b[1;33m.\u001b[0m\u001b[0murlopen\u001b[0m\u001b[1;33m(\u001b[0m\u001b[0mmethod\u001b[0m\u001b[1;33m,\u001b[0m \u001b[0mu\u001b[0m\u001b[1;33m.\u001b[0m\u001b[0mrequest_uri\u001b[0m\u001b[1;33m,\u001b[0m \u001b[1;33m**\u001b[0m\u001b[0mkw\u001b[0m\u001b[1;33m)\u001b[0m\u001b[1;33m\u001b[0m\u001b[1;33m\u001b[0m\u001b[0m\n\u001b[0m\u001b[0;32m    376\u001b[0m \u001b[1;33m\u001b[0m\u001b[0m\n\u001b[0;32m    377\u001b[0m         \u001b[0mredirect_location\u001b[0m \u001b[1;33m=\u001b[0m \u001b[0mredirect\u001b[0m \u001b[1;32mand\u001b[0m \u001b[0mresponse\u001b[0m\u001b[1;33m.\u001b[0m\u001b[0mget_redirect_location\u001b[0m\u001b[1;33m(\u001b[0m\u001b[1;33m)\u001b[0m\u001b[1;33m\u001b[0m\u001b[1;33m\u001b[0m\u001b[0m\n",
      "\u001b[1;32m~\\anaconda3\\lib\\site-packages\\urllib3\\connectionpool.py\u001b[0m in \u001b[0;36murlopen\u001b[1;34m(self, method, url, body, headers, retries, redirect, assert_same_host, timeout, pool_timeout, release_conn, chunked, body_pos, **response_kw)\u001b[0m\n\u001b[0;32m    697\u001b[0m \u001b[1;33m\u001b[0m\u001b[0m\n\u001b[0;32m    698\u001b[0m             \u001b[1;31m# Make the request on the httplib connection object.\u001b[0m\u001b[1;33m\u001b[0m\u001b[1;33m\u001b[0m\u001b[0m\n\u001b[1;32m--> 699\u001b[1;33m             httplib_response = self._make_request(\n\u001b[0m\u001b[0;32m    700\u001b[0m                 \u001b[0mconn\u001b[0m\u001b[1;33m,\u001b[0m\u001b[1;33m\u001b[0m\u001b[1;33m\u001b[0m\u001b[0m\n\u001b[0;32m    701\u001b[0m                 \u001b[0mmethod\u001b[0m\u001b[1;33m,\u001b[0m\u001b[1;33m\u001b[0m\u001b[1;33m\u001b[0m\u001b[0m\n",
      "\u001b[1;32m~\\anaconda3\\lib\\site-packages\\urllib3\\connectionpool.py\u001b[0m in \u001b[0;36m_make_request\u001b[1;34m(self, conn, method, url, timeout, chunked, **httplib_request_kw)\u001b[0m\n\u001b[0;32m    443\u001b[0m                     \u001b[1;31m# Python 3 (including for exceptions like SystemExit).\u001b[0m\u001b[1;33m\u001b[0m\u001b[1;33m\u001b[0m\u001b[0m\n\u001b[0;32m    444\u001b[0m                     \u001b[1;31m# Otherwise it looks like a bug in the code.\u001b[0m\u001b[1;33m\u001b[0m\u001b[1;33m\u001b[0m\u001b[0m\n\u001b[1;32m--> 445\u001b[1;33m                     \u001b[0msix\u001b[0m\u001b[1;33m.\u001b[0m\u001b[0mraise_from\u001b[0m\u001b[1;33m(\u001b[0m\u001b[0me\u001b[0m\u001b[1;33m,\u001b[0m \u001b[1;32mNone\u001b[0m\u001b[1;33m)\u001b[0m\u001b[1;33m\u001b[0m\u001b[1;33m\u001b[0m\u001b[0m\n\u001b[0m\u001b[0;32m    446\u001b[0m         \u001b[1;32mexcept\u001b[0m \u001b[1;33m(\u001b[0m\u001b[0mSocketTimeout\u001b[0m\u001b[1;33m,\u001b[0m \u001b[0mBaseSSLError\u001b[0m\u001b[1;33m,\u001b[0m \u001b[0mSocketError\u001b[0m\u001b[1;33m)\u001b[0m \u001b[1;32mas\u001b[0m \u001b[0me\u001b[0m\u001b[1;33m:\u001b[0m\u001b[1;33m\u001b[0m\u001b[1;33m\u001b[0m\u001b[0m\n\u001b[0;32m    447\u001b[0m             \u001b[0mself\u001b[0m\u001b[1;33m.\u001b[0m\u001b[0m_raise_timeout\u001b[0m\u001b[1;33m(\u001b[0m\u001b[0merr\u001b[0m\u001b[1;33m=\u001b[0m\u001b[0me\u001b[0m\u001b[1;33m,\u001b[0m \u001b[0murl\u001b[0m\u001b[1;33m=\u001b[0m\u001b[0murl\u001b[0m\u001b[1;33m,\u001b[0m \u001b[0mtimeout_value\u001b[0m\u001b[1;33m=\u001b[0m\u001b[0mread_timeout\u001b[0m\u001b[1;33m)\u001b[0m\u001b[1;33m\u001b[0m\u001b[1;33m\u001b[0m\u001b[0m\n",
      "\u001b[1;32m~\\anaconda3\\lib\\site-packages\\urllib3\\packages\\six.py\u001b[0m in \u001b[0;36mraise_from\u001b[1;34m(value, from_value)\u001b[0m\n",
      "\u001b[1;32m~\\anaconda3\\lib\\site-packages\\urllib3\\connectionpool.py\u001b[0m in \u001b[0;36m_make_request\u001b[1;34m(self, conn, method, url, timeout, chunked, **httplib_request_kw)\u001b[0m\n\u001b[0;32m    438\u001b[0m                 \u001b[1;31m# Python 3\u001b[0m\u001b[1;33m\u001b[0m\u001b[1;33m\u001b[0m\u001b[0m\n\u001b[0;32m    439\u001b[0m                 \u001b[1;32mtry\u001b[0m\u001b[1;33m:\u001b[0m\u001b[1;33m\u001b[0m\u001b[1;33m\u001b[0m\u001b[0m\n\u001b[1;32m--> 440\u001b[1;33m                     \u001b[0mhttplib_response\u001b[0m \u001b[1;33m=\u001b[0m \u001b[0mconn\u001b[0m\u001b[1;33m.\u001b[0m\u001b[0mgetresponse\u001b[0m\u001b[1;33m(\u001b[0m\u001b[1;33m)\u001b[0m\u001b[1;33m\u001b[0m\u001b[1;33m\u001b[0m\u001b[0m\n\u001b[0m\u001b[0;32m    441\u001b[0m                 \u001b[1;32mexcept\u001b[0m \u001b[0mBaseException\u001b[0m \u001b[1;32mas\u001b[0m \u001b[0me\u001b[0m\u001b[1;33m:\u001b[0m\u001b[1;33m\u001b[0m\u001b[1;33m\u001b[0m\u001b[0m\n\u001b[0;32m    442\u001b[0m                     \u001b[1;31m# Remove the TypeError from the exception chain in\u001b[0m\u001b[1;33m\u001b[0m\u001b[1;33m\u001b[0m\u001b[0m\n",
      "\u001b[1;32m~\\anaconda3\\lib\\http\\client.py\u001b[0m in \u001b[0;36mgetresponse\u001b[1;34m(self)\u001b[0m\n\u001b[0;32m   1369\u001b[0m         \u001b[1;32mtry\u001b[0m\u001b[1;33m:\u001b[0m\u001b[1;33m\u001b[0m\u001b[1;33m\u001b[0m\u001b[0m\n\u001b[0;32m   1370\u001b[0m             \u001b[1;32mtry\u001b[0m\u001b[1;33m:\u001b[0m\u001b[1;33m\u001b[0m\u001b[1;33m\u001b[0m\u001b[0m\n\u001b[1;32m-> 1371\u001b[1;33m                 \u001b[0mresponse\u001b[0m\u001b[1;33m.\u001b[0m\u001b[0mbegin\u001b[0m\u001b[1;33m(\u001b[0m\u001b[1;33m)\u001b[0m\u001b[1;33m\u001b[0m\u001b[1;33m\u001b[0m\u001b[0m\n\u001b[0m\u001b[0;32m   1372\u001b[0m             \u001b[1;32mexcept\u001b[0m \u001b[0mConnectionError\u001b[0m\u001b[1;33m:\u001b[0m\u001b[1;33m\u001b[0m\u001b[1;33m\u001b[0m\u001b[0m\n\u001b[0;32m   1373\u001b[0m                 \u001b[0mself\u001b[0m\u001b[1;33m.\u001b[0m\u001b[0mclose\u001b[0m\u001b[1;33m(\u001b[0m\u001b[1;33m)\u001b[0m\u001b[1;33m\u001b[0m\u001b[1;33m\u001b[0m\u001b[0m\n",
      "\u001b[1;32m~\\anaconda3\\lib\\http\\client.py\u001b[0m in \u001b[0;36mbegin\u001b[1;34m(self)\u001b[0m\n\u001b[0;32m    317\u001b[0m         \u001b[1;31m# read until we get a non-100 response\u001b[0m\u001b[1;33m\u001b[0m\u001b[1;33m\u001b[0m\u001b[0m\n\u001b[0;32m    318\u001b[0m         \u001b[1;32mwhile\u001b[0m \u001b[1;32mTrue\u001b[0m\u001b[1;33m:\u001b[0m\u001b[1;33m\u001b[0m\u001b[1;33m\u001b[0m\u001b[0m\n\u001b[1;32m--> 319\u001b[1;33m             \u001b[0mversion\u001b[0m\u001b[1;33m,\u001b[0m \u001b[0mstatus\u001b[0m\u001b[1;33m,\u001b[0m \u001b[0mreason\u001b[0m \u001b[1;33m=\u001b[0m \u001b[0mself\u001b[0m\u001b[1;33m.\u001b[0m\u001b[0m_read_status\u001b[0m\u001b[1;33m(\u001b[0m\u001b[1;33m)\u001b[0m\u001b[1;33m\u001b[0m\u001b[1;33m\u001b[0m\u001b[0m\n\u001b[0m\u001b[0;32m    320\u001b[0m             \u001b[1;32mif\u001b[0m \u001b[0mstatus\u001b[0m \u001b[1;33m!=\u001b[0m \u001b[0mCONTINUE\u001b[0m\u001b[1;33m:\u001b[0m\u001b[1;33m\u001b[0m\u001b[1;33m\u001b[0m\u001b[0m\n\u001b[0;32m    321\u001b[0m                 \u001b[1;32mbreak\u001b[0m\u001b[1;33m\u001b[0m\u001b[1;33m\u001b[0m\u001b[0m\n",
      "\u001b[1;32m~\\anaconda3\\lib\\http\\client.py\u001b[0m in \u001b[0;36m_read_status\u001b[1;34m(self)\u001b[0m\n\u001b[0;32m    278\u001b[0m \u001b[1;33m\u001b[0m\u001b[0m\n\u001b[0;32m    279\u001b[0m     \u001b[1;32mdef\u001b[0m \u001b[0m_read_status\u001b[0m\u001b[1;33m(\u001b[0m\u001b[0mself\u001b[0m\u001b[1;33m)\u001b[0m\u001b[1;33m:\u001b[0m\u001b[1;33m\u001b[0m\u001b[1;33m\u001b[0m\u001b[0m\n\u001b[1;32m--> 280\u001b[1;33m         \u001b[0mline\u001b[0m \u001b[1;33m=\u001b[0m \u001b[0mstr\u001b[0m\u001b[1;33m(\u001b[0m\u001b[0mself\u001b[0m\u001b[1;33m.\u001b[0m\u001b[0mfp\u001b[0m\u001b[1;33m.\u001b[0m\u001b[0mreadline\u001b[0m\u001b[1;33m(\u001b[0m\u001b[0m_MAXLINE\u001b[0m \u001b[1;33m+\u001b[0m \u001b[1;36m1\u001b[0m\u001b[1;33m)\u001b[0m\u001b[1;33m,\u001b[0m \u001b[1;34m\"iso-8859-1\"\u001b[0m\u001b[1;33m)\u001b[0m\u001b[1;33m\u001b[0m\u001b[1;33m\u001b[0m\u001b[0m\n\u001b[0m\u001b[0;32m    281\u001b[0m         \u001b[1;32mif\u001b[0m \u001b[0mlen\u001b[0m\u001b[1;33m(\u001b[0m\u001b[0mline\u001b[0m\u001b[1;33m)\u001b[0m \u001b[1;33m>\u001b[0m \u001b[0m_MAXLINE\u001b[0m\u001b[1;33m:\u001b[0m\u001b[1;33m\u001b[0m\u001b[1;33m\u001b[0m\u001b[0m\n\u001b[0;32m    282\u001b[0m             \u001b[1;32mraise\u001b[0m \u001b[0mLineTooLong\u001b[0m\u001b[1;33m(\u001b[0m\u001b[1;34m\"status line\"\u001b[0m\u001b[1;33m)\u001b[0m\u001b[1;33m\u001b[0m\u001b[1;33m\u001b[0m\u001b[0m\n",
      "\u001b[1;32m~\\anaconda3\\lib\\socket.py\u001b[0m in \u001b[0;36mreadinto\u001b[1;34m(self, b)\u001b[0m\n\u001b[0;32m    702\u001b[0m         \u001b[1;32mwhile\u001b[0m \u001b[1;32mTrue\u001b[0m\u001b[1;33m:\u001b[0m\u001b[1;33m\u001b[0m\u001b[1;33m\u001b[0m\u001b[0m\n\u001b[0;32m    703\u001b[0m             \u001b[1;32mtry\u001b[0m\u001b[1;33m:\u001b[0m\u001b[1;33m\u001b[0m\u001b[1;33m\u001b[0m\u001b[0m\n\u001b[1;32m--> 704\u001b[1;33m                 \u001b[1;32mreturn\u001b[0m \u001b[0mself\u001b[0m\u001b[1;33m.\u001b[0m\u001b[0m_sock\u001b[0m\u001b[1;33m.\u001b[0m\u001b[0mrecv_into\u001b[0m\u001b[1;33m(\u001b[0m\u001b[0mb\u001b[0m\u001b[1;33m)\u001b[0m\u001b[1;33m\u001b[0m\u001b[1;33m\u001b[0m\u001b[0m\n\u001b[0m\u001b[0;32m    705\u001b[0m             \u001b[1;32mexcept\u001b[0m \u001b[0mtimeout\u001b[0m\u001b[1;33m:\u001b[0m\u001b[1;33m\u001b[0m\u001b[1;33m\u001b[0m\u001b[0m\n\u001b[0;32m    706\u001b[0m                 \u001b[0mself\u001b[0m\u001b[1;33m.\u001b[0m\u001b[0m_timeout_occurred\u001b[0m \u001b[1;33m=\u001b[0m \u001b[1;32mTrue\u001b[0m\u001b[1;33m\u001b[0m\u001b[1;33m\u001b[0m\u001b[0m\n",
      "\u001b[1;31mKeyboardInterrupt\u001b[0m: "
     ]
    }
   ],
   "source": [
    "driver.close()"
   ]
  }
 ],
 "metadata": {
  "kernelspec": {
   "display_name": "Python 3 (ipykernel)",
   "language": "python",
   "name": "python3"
  },
  "language_info": {
   "codemirror_mode": {
    "name": "ipython",
    "version": 3
   },
   "file_extension": ".py",
   "mimetype": "text/x-python",
   "name": "python",
   "nbconvert_exporter": "python",
   "pygments_lexer": "ipython3",
   "version": "3.9.7"
  }
 },
 "nbformat": 4,
 "nbformat_minor": 5
}

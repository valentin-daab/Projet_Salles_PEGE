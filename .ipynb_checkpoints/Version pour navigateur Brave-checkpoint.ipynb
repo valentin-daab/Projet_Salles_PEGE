{
 "cells": [
  {
   "cell_type": "code",
   "execution_count": 1,
   "id": "a12cde83",
   "metadata": {},
   "outputs": [],
   "source": [
    "import datetime\n",
    "import os\n",
    "import re\n",
    "from bs4 import BeautifulSoup\n",
    "import requests\n",
    "import numpy as np\n",
    "import pandas as pd\n",
    "from requests_html import HTMLSession\n",
    "from selenium import webdriver\n",
    "from webdriver_manager.chrome import ChromeDriverManager\n",
    "from selenium.webdriver.common.by import By\n",
    "from selenium.common.exceptions import NoSuchElementException\n",
    "import time\n",
    "import getpass"
   ]
  },
  {
   "cell_type": "code",
   "execution_count": 16,
   "id": "d369bf63",
   "metadata": {},
   "outputs": [
    {
     "data": {
      "text/html": [
       "<style>.container { width:100% !important; }</style>"
      ],
      "text/plain": [
       "<IPython.core.display.HTML object>"
      ]
     },
     "metadata": {},
     "output_type": "display_data"
    }
   ],
   "source": [
    "#permet d'avoir des blocs plus larges\n",
    "from IPython.core.display import display, HTML\n",
    "display(HTML(\"<style>.container { width:100% !important; }</style>\"))"
   ]
  },
  {
   "cell_type": "code",
   "execution_count": 2,
   "id": "c13e989b",
   "metadata": {},
   "outputs": [],
   "source": [
    "url_edt = 'https://monemploidutemps.unistra.fr/consult/calendar'"
   ]
  },
  {
   "cell_type": "code",
   "execution_count": 5,
   "id": "2f3c9b80",
   "metadata": {},
   "outputs": [],
   "source": [
    "#### [[1]] FONCTION POUR DEFINIR LES CHEMINS D'ACCES ####\n",
    "def get_path():\n",
    "    global driver_path\n",
    "    global brave_path\n",
    "    driver_path = input(\"\"\"Coller le chemin d'accès à chromedriver.exe\"\"\")\n",
    "    brave_path = input(\"\"\"Coller le chemin d'accès au .exe de votre navigateur\"\"\")"
   ]
  },
  {
   "cell_type": "code",
   "execution_count": 6,
   "id": "b5324053",
   "metadata": {},
   "outputs": [
    {
     "name": "stdout",
     "output_type": "stream",
     "text": [
      "Coller le chemin d'accès à chromedriver.exeC:/Windows/chromedriver.exe\n",
      "Coller le chemin d'accès au .exe de votre navigateurC:/Program Files/BraveSoftware/Brave-Browser/Application/brave.exe\n"
     ]
    }
   ],
   "source": [
    "get_path()"
   ]
  },
  {
   "cell_type": "code",
   "execution_count": 181,
   "id": "07443e0a",
   "metadata": {},
   "outputs": [],
   "source": [
    "#### [[2]] VERSION MANUELLE ####\n",
    "driver_path = \"C:/Windows/chromedriver.exe\"\n",
    "brave_path = \"C:/Program Files/BraveSoftware/Brave-Browser/Application/brave.exe\"\n",
    "\n",
    "option = webdriver.ChromeOptions()\n",
    "option.binary_location = brave_path"
   ]
  },
  {
   "cell_type": "code",
   "execution_count": 154,
   "id": "b68a87d5",
   "metadata": {},
   "outputs": [
    {
     "name": "stderr",
     "output_type": "stream",
     "text": [
      "C:\\Users\\daabv\\AppData\\Local\\Temp/ipykernel_12080/823173767.py:6: DeprecationWarning: executable_path has been deprecated, please pass in a Service object\n",
      "  driver = webdriver.Chrome(executable_path=driver_path, chrome_options=option)\n",
      "C:\\Users\\daabv\\AppData\\Local\\Temp/ipykernel_12080/823173767.py:6: DeprecationWarning: use options instead of chrome_options\n",
      "  driver = webdriver.Chrome(executable_path=driver_path, chrome_options=option)\n"
     ]
    }
   ],
   "source": [
    "#### Allumer le navigateur\n",
    "\n",
    "option = webdriver.ChromeOptions()\n",
    "option.binary_location = brave_path\n",
    "\n",
    "driver = webdriver.Chrome(executable_path=driver_path, chrome_options=option)\n",
    "\n",
    "driver.get(url_edt)"
   ]
  },
  {
   "cell_type": "code",
   "execution_count": 146,
   "id": "fcc38714",
   "metadata": {},
   "outputs": [],
   "source": [
    "#### FONCTION COMPLETE POUR SE CONNECTER ####\n",
    "\n",
    "#### User input pour demander le mot de passe\n",
    "def get_user_info():\n",
    "    global username \n",
    "    global password\n",
    "    username = input('Identifiant UNISTRA?')\n",
    "    password = getpass.getpass('Mot de passe UNISTRA?')\n",
    "\n",
    "#### Connexion au compte UNISTRA\n",
    "def connect():\n",
    "    driver.find_element(By.ID, 'username').send_keys(username)\n",
    "    driver.find_element(By.ID, 'password').send_keys(password)\n",
    "    driver.find_element(By.ID, 'login-btn').click()\n",
    "\n",
    "#### Check si on est encore sur la page de login\n",
    "def check_login():\n",
    "    try:\n",
    "        driver.find_element(By.CLASS_NAME, 'login')\n",
    "    except NoSuchElementException:\n",
    "        return False\n",
    "    return True\n",
    "\n",
    "#### FONCTION COMPLETE ####\n",
    "def connect_user():\n",
    "    get_user_info()\n",
    "    connect()\n",
    "    while check_login():\n",
    "        driver.find_element(By.ID, 'username').clear() #permet d'effacer l'input qui reste dans le login\n",
    "        print('Mot de passe ou Identifiant incorrect, veuillez réessayer.')\n",
    "        connect_user()\n",
    "    return print('Connexion Réussie.')"
   ]
  },
  {
   "cell_type": "code",
   "execution_count": 155,
   "id": "a39a5020",
   "metadata": {},
   "outputs": [
    {
     "name": "stdout",
     "output_type": "stream",
     "text": [
      "Identifiant UNISTRA?vdaab\n",
      "Mot de passe UNISTRA?········\n",
      "Connexion Réussie.\n"
     ]
    }
   ],
   "source": [
    "connect_user()"
   ]
  },
  {
   "cell_type": "code",
   "execution_count": 159,
   "id": "7575bcc4",
   "metadata": {},
   "outputs": [],
   "source": [
    "#### CLIQUEUR AVANT DE COCHER LES CASES ####\n",
    "\n",
    "# Cliquer sur le menu\n",
    "driver.find_element(By.CSS_SELECTOR, '#app-toolbar > div > button.v-app-bar__nav-icon.hidden-md-and-up.v-btn.v-btn--flat.v-btn--icon.v-btn--round.theme--dark.v-size--default > span > i').click()\n",
    "time.sleep(1.5)\n",
    "# Cliquer sur personnaliser\n",
    "driver.find_element(By.CSS_SELECTOR, '#unistra-schedule > div.v-application--wrap > div > nav > div.v-navigation-drawer__content > div > a:nth-child(1)').click() # ici en fonction  de la position de l'élément\n",
    "time.sleep(1.5)\n",
    "# Cliquer sur 'Modifier la sélection'\n",
    "driver.find_element(By.XPATH, '//strong[normalize-space()=\"Modifier la sélection\"]').click() #ici grâce au texte sur le bouton\n",
    "time.sleep(3.0)\n",
    "# Cliquer sur 'Salles'\n",
    "driver.find_element(By.XPATH, (\"(//i[@role='button'])[3]\")).click() #ici en fonction de la position du bouton dans la liste des boutons\n",
    "time.sleep(4.0)\n",
    "# Cliquer sur 'Foret Noire'\n",
    "driver.find_element(By.XPATH, (\"(//i[@role='button'])[4]\")).click()\n",
    "time.sleep(4.0)\n",
    "# Cliquer sur 'PEGE'\n",
    "driver.find_element(By.XPATH, (\"(//i[@role='button'])[7]\")).click()\n",
    "time.sleep(4.0)\n",
    "# Cliquer sur 'FSEG'\n",
    "driver.find_element(By.XPATH, (\"(//i[@role='button'])[10]\")).click()\n",
    "time.sleep(4.0)\n",
    "# Cliquer sur 'FSEG-Salles de cours'\n",
    "driver.find_element(By.XPATH, (\"(//i[@role='button'])[12]\")).click()\n",
    "time.sleep(4.0)"
   ]
  },
  {
   "cell_type": "code",
   "execution_count": 157,
   "id": "1ff32e0b",
   "metadata": {},
   "outputs": [],
   "source": [
    "## faire une boucle avec ça si le blocage dans la code d'avant apparaît\n",
    "driver.execute_script(\"\"\"\n",
    "   var l = document.getElementsByClassName(\"v-overlay v-overlay--active theme--dark\")[0];\n",
    "   l.parentNode.removeChild(l);\n",
    "\"\"\")"
   ]
  },
  {
   "cell_type": "code",
   "execution_count": 160,
   "id": "464cf33e",
   "metadata": {},
   "outputs": [],
   "source": [
    "#### COCHEUR DE CASES ####\n",
    "\n",
    "# Vu que c'est long ajouter barre de chargement?\n",
    "\n",
    "## Salles RDC ##\n",
    "driver.find_element(By.XPATH, (\"(//div[@class='v-input--selection-controls__input'])[3]\")).click()\n",
    "time.sleep(1.5)\n",
    "driver.find_element(By.XPATH, (\"(//div[@class='v-input--selection-controls__input'])[4]\")).click()\n",
    "time.sleep(1.5)\n",
    "driver.find_element(By.XPATH, (\"(//div[@class='v-input--selection-controls__input'])[5]\")).click()\n",
    "time.sleep(1.5)\n",
    "driver.find_element(By.XPATH, (\"(//div[@class='v-input--selection-controls__input'])[6]\")).click()\n",
    "time.sleep(1.5)\n",
    "driver.find_element(By.XPATH, (\"(//div[@class='v-input--selection-controls__input'])[7]\")).click()\n",
    "time.sleep(1.5)\n",
    "driver.find_element(By.XPATH, (\"(//div[@class='v-input--selection-controls__input'])[8]\")).click()\n",
    "time.sleep(1.5)\n",
    "driver.find_element(By.XPATH, (\"(//div[@class='v-input--selection-controls__input'])[9]\")).click()\n",
    "time.sleep(1.5)\n",
    "driver.find_element(By.XPATH, (\"(//div[@class='v-input--selection-controls__input'])[10]\")).click()\n",
    "time.sleep(1.5)\n",
    "driver.find_element(By.XPATH, (\"(//div[@class='v-input--selection-controls__input'])[11]\")).click()\n",
    "time.sleep(1.5)\n",
    "driver.find_element(By.XPATH, (\"(//div[@class='v-input--selection-controls__input'])[12]\")).click()\n",
    "time.sleep(1.5)\n",
    "driver.find_element(By.XPATH, (\"(//div[@class='v-input--selection-controls__input'])[13]\")).click()\n",
    "time.sleep(1.5)\n",
    "driver.find_element(By.XPATH, (\"(//div[@class='v-input--selection-controls__input'])[14]\")).click()\n",
    "time.sleep(1.5)\n",
    "driver.find_element(By.XPATH, (\"(//div[@class='v-input--selection-controls__input'])[15]\")).click()"
   ]
  },
  {
   "cell_type": "code",
   "execution_count": 132,
   "id": "e86354e1",
   "metadata": {},
   "outputs": [],
   "source": [
    "## Salles 2e ##\n",
    "driver.find_element(By.XPATH, (\"(//div[@class='v-input--selection-controls__input'])[16]\")).click()\n",
    "time.sleep(1.5)\n",
    "driver.find_element(By.XPATH, (\"(//div[@class='v-input--selection-controls__input'])[17]\")).click()\n",
    "time.sleep(1.5)\n",
    "driver.find_element(By.XPATH, (\"(//div[@class='v-input--selection-controls__input'])[18]\")).click()"
   ]
  },
  {
   "cell_type": "code",
   "execution_count": 131,
   "id": "d224dc85",
   "metadata": {},
   "outputs": [],
   "source": [
    "## Salles 3e ##\n",
    "driver.find_element(By.XPATH, (\"(//div[@class='v-input--selection-controls__input'])[19]\")).click()\n",
    "time.sleep(1.5)\n",
    "driver.find_element(By.XPATH, (\"(//div[@class='v-input--selection-controls__input'])[20]\")).click()\n",
    "time.sleep(1.5)\n",
    "driver.find_element(By.XPATH, (\"(//div[@class='v-input--selection-controls__input'])[21]\")).click()\n",
    "time.sleep(1.5)\n",
    "driver.find_element(By.XPATH, (\"(//div[@class='v-input--selection-controls__input'])[22]\")).click()\n",
    "time.sleep(1.5)\n",
    "driver.find_element(By.XPATH, (\"(//div[@class='v-input--selection-controls__input'])[23]\")).click()\n",
    "time.sleep(1.5)\n",
    "driver.find_element(By.XPATH, (\"(//div[@class='v-input--selection-controls__input'])[24]\")).click()\n",
    "time.sleep(1.5)\n",
    "driver.find_element(By.XPATH, (\"(//div[@class='v-input--selection-controls__input'])[25]\")).click()\n",
    "time.sleep(1.5)\n",
    "driver.find_element(By.XPATH, (\"(//div[@class='v-input--selection-controls__input'])[26]\")).click()\n",
    "time.sleep(1.5)\n",
    "driver.find_element(By.XPATH, (\"(//div[@class='v-input--selection-controls__input'])[27]\")).click()\n",
    "time.sleep(1.5)\n",
    "driver.find_element(By.XPATH, (\"(//div[@class='v-input--selection-controls__input'])[28]\")).click()\n",
    "time.sleep(1.5)\n",
    "driver.find_element(By.XPATH, (\"(//div[@class='v-input--selection-controls__input'])[29]\")).click()\n",
    "time.sleep(1.5)\n",
    "driver.find_element(By.XPATH, (\"(//div[@class='v-input--selection-controls__input'])[30]\")).click()\n",
    "time.sleep(1.5)\n",
    "driver.find_element(By.XPATH, (\"(//div[@class='v-input--selection-controls__input'])[31]\")).click()\n",
    "time.sleep(1.5)"
   ]
  },
  {
   "cell_type": "code",
   "execution_count": 6,
   "id": "333d42e0",
   "metadata": {},
   "outputs": [
    {
     "data": {
      "text/plain": [
       "'<div class=\"v-calendar-daily__day v-present\"><div class=\"v-calendar-daily__day-interval\" style=\"height: 20px;\"></div><div class=\"v-calendar-daily__day-interval\" style=\"height: 20px;\"></div><div class=\"v-calendar-daily__day-interval\" style=\"height: 20px;\"></div><div class=\"v-calendar-daily__day-interval\" style=\"height: 20px;\"></div><div class=\"v-calendar-daily__day-interval\" style=\"height: 20px;\"></div><div class=\"v-calendar-daily__day-interval\" style=\"height: 20px;\"></div><div class=\"v-calendar-daily__day-interval\" style=\"height: 20px;\"></div><div class=\"v-calendar-daily__day-interval\" style=\"height: 20px;\"></div><div class=\"v-calendar-daily__day-interval\" style=\"height: 20px;\"></div><div class=\"v-calendar-daily__day-interval\" style=\"height: 20px;\"></div><div class=\"v-calendar-daily__day-interval\" style=\"height: 20px;\"></div><div class=\"v-calendar-daily__day-interval\" style=\"height: 20px;\"></div><div class=\"v-calendar-daily__day-interval\" style=\"height: 20px;\"></div><div class=\"v-calendar-daily__day-interval\" style=\"height: 20px;\"></div><div class=\"v-calendar-daily__day-interval\" style=\"height: 20px;\"></div><div class=\"v-calendar-daily__day-interval\" style=\"height: 20px;\"></div><div class=\"v-calendar-daily__day-interval\" style=\"height: 20px;\"></div><div class=\"v-calendar-daily__day-interval\" style=\"height: 20px;\"></div><div class=\"v-calendar-daily__day-interval\" style=\"height: 20px;\"></div><div class=\"v-calendar-daily__day-interval\" style=\"height: 20px;\"></div><div class=\"v-calendar-daily__day-interval\" style=\"height: 20px;\"></div><div class=\"v-calendar-daily__day-interval\" style=\"height: 20px;\"></div><div class=\"v-calendar-daily__day-interval\" style=\"height: 20px;\"></div><div class=\"v-calendar-daily__day-interval\" style=\"height: 20px;\"></div><div class=\"v-calendar-daily__day-interval\" style=\"height: 20px;\"></div><div class=\"v-calendar-daily__day-interval\" style=\"height: 20px;\"></div><div class=\"v-event-timed-container\"><div class=\"v-event-timed onsecondary--text\" style=\"top: 40px; height: 80px; left: 0%; width: 14.1667%; background-color: rgb(255, 0, 0); border-color: rgb(255, 0, 0);\"><div class=\"pl-1\"><strong>Epreuve de substitution - Analyse de données</strong><br>Grammare Magali<br>A 021</div></div><div class=\"v-event-timed onsecondary--text\" style=\"top: 120px; height: 80px; left: 0%; width: 14.1667%; background-color: rgb(153, 153, 255); border-color: rgb(153, 153, 255);\"><div class=\"pl-1\"><strong>Travail personnel - Q Alt</strong><br>A 027</div></div><div class=\"v-event-timed onsecondary--text\" style=\"top: 240px; height: 80px; left: 0%; width: 14.1667%; background-color: rgb(255, 204, 204); border-color: rgb(255, 204, 204);\"><div class=\"pl-1\"><strong>Espagnol B-ES203 - CC intermédiaire - Présentiel</strong><br>Tejada Ana<br>A 020</div></div><div class=\"v-event-timed onsecondary--text\" style=\"top: 320px; height: 80px; left: 0%; width: 14.1667%; background-color: rgb(153, 153, 255); border-color: rgb(153, 153, 255);\"><div class=\"pl-1\"><strong>Système d\\'info bases de données TD</strong><br>Meyer Lionel<br>A 020</div></div><div class=\"v-event-timed onsecondary--text\" style=\"top: 400px; height: 80px; left: 0%; width: 14.1667%; background-color: rgb(255, 255, 0); border-color: rgb(255, 255, 0);\"><div class=\"pl-1\"><strong>Allemand renforcé - présentiel</strong><br>Cowderoy Natalia<br>A 016</div></div><div class=\"v-event-timed onsecondary--text\" style=\"top: 440px; height: 60px; left: 5%; width: 17%; background-color: rgb(255, 255, 204); border-color: rgb(255, 255, 204);\"><div class=\"pl-1\"><strong>Probabilités et stat. II (TD) Gr. B6 (Cachan)</strong><br>Soury Manel<br>A 027</div></div><div class=\"v-event-timed onsecondary--text\" style=\"top: 40px; height: 80px; left: 9.09091%; width: 15.4545%; background-color: rgb(255, 255, 255); border-color: rgb(255, 255, 255);\"><div class=\"pl-1\"><strong>Anglais B-AN203 - Présentiel</strong><br>Hely Paul<br>A 020</div></div><div class=\"v-event-timed onsecondary--text\" style=\"top: 120px; height: 80px; left: 9.09091%; width: 15.4545%; background-color: rgb(255, 191, 94); border-color: rgb(255, 191, 94);\"><div class=\"pl-1\"><strong>Introduction à la finance</strong><br>Landagaray Patrice<br>A 021</div></div><div class=\"v-event-timed onsecondary--text\" style=\"top: 240px; height: 80px; left: 9.09091%; width: 15.4545%; background-color: rgb(102, 204, 255); border-color: rgb(102, 204, 255);\"><div class=\"pl-1\"><strong>Espagnol: B-ES104 - présentiel</strong><br>Sainz De Baranda Marta<br>A 015</div></div><div class=\"v-event-timed onsecondary--text\" style=\"top: 320px; height: 60px; left: 9.09091%; width: 15.4545%; background-color: rgb(153, 255, 153); border-color: rgb(153, 255, 153);\"><div class=\"pl-1\"><strong>Microéconomie III (TD) Gr.8B+9</strong><br>Liegey Maxime<br>A 024</div></div><div class=\"v-event-timed onsecondary--text\" style=\"top: 380px; height: 60px; left: 9.09091%; width: 15.4545%; background-color: rgb(153, 255, 153); border-color: rgb(153, 255, 153);\"><div class=\"pl-1\"><strong>Mathématiques IV (TD) Gr.10+11A</strong><br>Atzenhoffer Jean-Philippe<br>A 024</div></div><div class=\"v-event-timed onsecondary--text\" style=\"top: 160px; height: 60px; left: 14.0909%; width: 51.5152%; background-color: rgb(153, 255, 153); border-color: rgb(153, 255, 153);\"><div class=\"pl-1\"><strong>Probabilités et stat. IV (TD) Gr.14B+15</strong><br>Soury Manel<br>A 024</div></div><div class=\"v-event-timed onsecondary--text\" style=\"top: 160px; height: 60px; left: 14.0909%; width: 51.5152%; background-color: rgb(153, 255, 153); border-color: rgb(153, 255, 153);\"><div class=\"pl-1\"><strong>Métiers de l\\'éco. (TD) Gr.4+5A</strong><br>Tapiero Marguerite<br>A 016</div></div><div class=\"v-event-timed onsecondary--text\" style=\"top: 360px; height: 60px; left: 14.0909%; width: 17.1717%; background-color: rgb(255, 255, 204); border-color: rgb(255, 255, 204);\"><div class=\"pl-1\"><strong>Macroéconomie I (TD) Gr.A9</strong><br>Hambye Jérôme<br>A 027</div></div><div class=\"v-event-timed onsecondary--text\" style=\"top: 360px; height: 60px; left: 14.0909%; width: 17.1717%; background-color: rgb(255, 255, 204); border-color: rgb(255, 255, 204);\"><div class=\"pl-1\"><strong>Probabilités et stat. II (TD) Gr. B8</strong><br>Wolff Arnaud<br>A 017</div></div><div class=\"v-event-timed onsecondary--text\" style=\"top: 40px; height: 60px; left: 18.1818%; width: 15.4545%; background-color: rgb(153, 255, 153); border-color: rgb(153, 255, 153);\"><div class=\"pl-1\"><strong>Mathématiques IV (TD) Gr.1+2A</strong><br>Mercier Franck<br>A 018</div></div><div class=\"v-event-timed onsecondary--text\" style=\"top: 100px; height: 60px; left: 18.1818%; width: 15.4545%; background-color: rgb(153, 255, 153); border-color: rgb(153, 255, 153);\"><div class=\"pl-1\"><strong>Microéconomie III (TD) Gr.13+14A</strong><br>Liegey Maxime<br>A 024</div></div><div class=\"v-event-timed onsecondary--text\" style=\"top: 120px; height: 60px; left: 18.1818%; width: 15.4545%; background-color: rgb(255, 255, 204); border-color: rgb(255, 255, 204);\"><div class=\"pl-1\"><strong>Macroéconomie I (TD) Gr.B5 (ME)</strong><br>Metz Théo<br>A 015</div></div><div class=\"v-event-timed onsecondary--text\" style=\"top: 130px; height: 80px; left: 18.1818%; width: 15.4545%; background-color: rgb(255, 102, 255); border-color: rgb(255, 102, 255);\"><div class=\"pl-1\"><strong>Economie industrielle II</strong><br>Maret-Leiber Isabelle<br>A 017</div></div><div class=\"v-event-timed onsecondary--text\" style=\"top: 300px; height: 60px; left: 18.1818%; width: 15.4545%; background-color: rgb(255, 255, 255); border-color: rgb(255, 255, 255);\"><div class=\"pl-1\"><strong>TD Etrie II G8 AE</strong><br>Simon Agathe<br>A 021</div></div><div class=\"v-event-timed onsecondary--text\" style=\"top: 390px; height: 60px; left: 18.1818%; width: 15.4545%; background-color: rgb(153, 255, 153); border-color: rgb(153, 255, 153);\"><div class=\"pl-1\"><strong>Microéconomie III (TD) Gr.2B+3</strong><br>Mitrouchev Ivan<br>A 015</div></div><div class=\"v-event-timed onsecondary--text\" style=\"top: 450px; height: 60px; left: 18.5714%; width: 23.0714%; background-color: rgb(255, 255, 204); border-color: rgb(255, 255, 204);\"><div class=\"pl-1\"><strong>Macroéconomie I (TD) Gr.A1</strong><br>Hasni Riadh<br>A 015</div></div><div class=\"v-event-timed onsecondary--text\" style=\"top: 240px; height: 60px; left: 20.4545%; width: 19.3182%; background-color: rgb(255, 255, 255); border-color: rgb(255, 255, 255);\"><div class=\"pl-1\"><strong>TD Etrie II G9 AE</strong><br>Simon Agathe<br>A 024</div></div><div class=\"v-event-timed onsecondary--text\" style=\"top: 360px; height: 60px; left: 23.6364%; width: 16.2273%; background-color: rgb(255, 255, 204); border-color: rgb(255, 255, 204);\"><div class=\"pl-1\"><strong>Mathématiques II (TD) Gr.A4</strong><br>Ben Aziza Neofel<br>A 026</div></div><div class=\"v-event-timed onsecondary--text\" style=\"top: 40px; height: 60px; left: 27.2727%; width: 15.4545%; background-color: rgb(153, 255, 153); border-color: rgb(153, 255, 153);\"><div class=\"pl-1\"><strong>Métiers de l\\'éco. (TD) Gr.13+14A</strong><br>Tapiero Marguerite<br>A 016</div></div><div class=\"v-event-timed onsecondary--text\" style=\"top: 100px; height: 60px; left: 27.2727%; width: 15.4545%; background-color: rgb(153, 255, 153); border-color: rgb(153, 255, 153);\"><div class=\"pl-1\"><strong>Macroéconomie III (TD) Gr.1+2A</strong><br>Rastouil Jeremy<br>A 023</div></div><div class=\"v-event-timed onsecondary--text\" style=\"top: 300px; height: 60px; left: 27.2727%; width: 15.4545%; background-color: rgb(255, 204, 255); border-color: rgb(255, 204, 255);\"><div class=\"pl-1\"><strong>TD Croissance G9 AE</strong><br>Rastouil Jeremy<br>A 019</div></div><div class=\"v-event-timed onsecondary--text\" style=\"top: 420px; height: 60px; left: 31.8182%; width: 23.1818%; background-color: rgb(255, 255, 204); border-color: rgb(255, 255, 204);\"><div class=\"pl-1\"><strong>Mathématiques II (TD) Gr.A8 (LEA-ECO)</strong><br>Payen Marion<br>A 026</div></div><div class=\"v-event-timed onsecondary--text\" style=\"top: 240px; height: 60px; left: 31.8182%; width: 19.3182%; background-color: rgb(255, 255, 255); border-color: rgb(255, 255, 255);\"><div class=\"pl-1\"><strong>TD Croissance G8 AE</strong><br>Rastouil Jeremy<br>A 022</div></div><div class=\"v-event-timed onsecondary--text\" style=\"top: 40px; height: 60px; left: 36.3636%; width: 15.4545%; background-color: rgb(153, 255, 153); border-color: rgb(153, 255, 153);\"><div class=\"pl-1\"><strong>Macroéconomie III (TD) Gr.2B+3</strong><br>Rastouil Jeremy<br>A 015</div></div><div class=\"v-event-timed onsecondary--text\" style=\"top: 100px; height: 60px; left: 36.3636%; width: 15.4545%; background-color: rgb(153, 255, 153); border-color: rgb(153, 255, 153);\"><div class=\"pl-1\"><strong>Mathématiques IV (TD) Gr.7+8A</strong><br>Mercier Franck<br>A 018</div></div><div class=\"v-event-timed onsecondary--text\" style=\"top: 320px; height: 60px; left: 36.3636%; width: 15.4545%; background-color: rgb(153, 255, 153); border-color: rgb(153, 255, 153);\"><div class=\"pl-1\"><strong>Mathématiques IV (TD) Gr.5B+6</strong><br>Atzenhoffer Jean-Philippe<br>A 022</div></div><div class=\"v-event-timed onsecondary--text\" style=\"top: 260px; height: 60px; left: 43.1818%; width: 19.3182%; background-color: rgb(153, 255, 153); border-color: rgb(153, 255, 153);\"><div class=\"pl-1\"><strong>Macroéconomie III (TD) 16 + EG Santé</strong><br>Frecheville Romane<br>A 027</div></div><div class=\"v-event-timed onsecondary--text\" style=\"top: 60px; height: 60px; left: 45.4545%; width: 15.4545%; background-color: rgb(153, 255, 153); border-color: rgb(153, 255, 153);\"><div class=\"pl-1\"><strong>Microéconomie III (TD) Gr. 16 + EG Santé</strong><br>Mitrouchev Ivan<br>A 027</div></div><div class=\"v-event-timed onsecondary--text\" style=\"top: 120px; height: 80px; left: 45.4545%; width: 15.4545%; background-color: rgb(255, 255, 255); border-color: rgb(255, 255, 255);\"><div class=\"pl-1\"><strong>Anglais B-AN204 - Présentiel</strong><br>Hely Paul<br>A 020</div></div><div class=\"v-event-timed onsecondary--text\" style=\"top: 320px; height: 60px; left: 45.4545%; width: 15.4545%; background-color: rgb(153, 255, 153); border-color: rgb(153, 255, 153);\"><div class=\"pl-1\"><strong>Macroéconomie III (TD) Gr.LEA</strong><br>Jacob Eva<br>A 016</div></div><div class=\"v-event-timed onsecondary--text\" style=\"top: 420px; height: 60px; left: 45.4545%; width: 23.1818%; background-color: rgb(255, 255, 204); border-color: rgb(255, 255, 204);\"><div class=\"pl-1\"><strong>Mathématiques II (TD) Gr.B8</strong><br>Doulazmi Mustapha<br>A 023</div></div><div class=\"v-event-timed onsecondary--text\" style=\"top: 180px; height: 60px; left: 50.4545%; width: 18.5455%; background-color: rgb(153, 255, 153); border-color: rgb(153, 255, 153);\"><div class=\"pl-1\"><strong>Macroéconomie III (TD) Gr.7+8A</strong><br>Betti Thierry<br>A 018</div></div><div class=\"v-event-timed onsecondary--text\" style=\"top: 60px; height: 60px; left: 54.5455%; width: 15.4545%; background-color: rgb(153, 255, 153); border-color: rgb(153, 255, 153);\"><div class=\"pl-1\"><strong>Probabilités et stat. IV (TD) Gr.11B+12</strong><br>Nafi Amir<br>A 019</div></div><div class=\"v-event-timed onsecondary--text\" style=\"top: 120px; height: 60px; left: 54.5455%; width: 15.4545%; background-color: rgb(153, 255, 153); border-color: rgb(153, 255, 153);\"><div class=\"pl-1\"><strong>Probabilités et stat. IV (TD) Gr.10+11A</strong><br>Nafi Amir<br>A 025</div></div><div class=\"v-event-timed onsecondary--text\" style=\"top: 260px; height: 60px; left: 54.5455%; width: 19.3182%; background-color: rgb(153, 255, 153); border-color: rgb(153, 255, 153);\"><div class=\"pl-1\"><strong>Macroéconomie III (TD) 14B+15</strong><br>Jacob Eva<br>A 025</div></div><div class=\"v-event-timed onsecondary--text\" style=\"top: 320px; height: 60px; left: 54.5455%; width: 45.4545%; background-color: rgb(153, 255, 153); border-color: rgb(153, 255, 153);\"><div class=\"pl-1\"><strong>Microéconomie III (TD) Gr.10+11A</strong><br>Mitrouchev Ivan<br>A 015</div></div><div class=\"v-event-timed onsecondary--text\" style=\"top: 420px; height: 60px; left: 59.0909%; width: 23.1818%; background-color: rgb(255, 255, 204); border-color: rgb(255, 255, 204);\"><div class=\"pl-1\"><strong>Mathématiques II (TD) Gr.A5</strong><br>Ben Aziza Neofel<br>A 019</div></div><div class=\"v-event-timed onsecondary--text\" style=\"top: 360px; height: 60px; left: 59.5455%; width: 19.3182%; background-color: rgb(255, 255, 255); border-color: rgb(255, 255, 255);\"><div class=\"pl-1\"><strong>TD Croissance G10 EQ</strong><br>Rastouil Jeremy<br>A 025</div></div><div class=\"v-event-timed onsecondary--text\" style=\"top: 80px; height: 120px; left: 63.6364%; width: 15.4545%; background-color: rgb(255, 128, 0); border-color: rgb(255, 128, 0);\"><div class=\"pl-1\"><strong>Marketing II G4 présentiel</strong><br>Stadge Marie<br>A 026</div></div><div class=\"v-event-timed onsecondary--text\" style=\"top: 260px; height: 60px; left: 65.9091%; width: 19.3182%; background-color: rgb(153, 255, 153); border-color: rgb(153, 255, 153);\"><div class=\"pl-1\"><strong>Microéconomie III (TD) Gr.11B+12</strong><br>Liegey Maxime<br>A 023</div></div><div class=\"v-event-timed onsecondary--text\" style=\"top: 360px; height: 60px; left: 69.6591%; width: 17.1932%; background-color: rgb(255, 255, 204); border-color: rgb(255, 255, 204);\"><div class=\"pl-1\"><strong>Comptabilité (TD) Gr.A2</strong><br>Ballahi M\\'Bark<br>A 023</div></div><div class=\"v-event-timed onsecondary--text\" style=\"top: 100px; height: 60px; left: 72.7273%; width: 15.4545%; background-color: rgb(153, 255, 153); border-color: rgb(153, 255, 153);\"><div class=\"pl-1\"><strong>Métiers de l\\'éco. (TD) Gr.2B+3</strong><br>Tapiero Marguerite<br>A 016</div></div><div class=\"v-event-timed onsecondary--text\" style=\"top: 440px; height: 60px; left: 72.7273%; width: 23.1818%; background-color: rgb(255, 204, 255); border-color: rgb(255, 204, 255);\"><div class=\"pl-1\"><strong>TD Croissance G11 EQ</strong><br>Rastouil Jeremy<br>A 025</div></div><div class=\"v-event-timed onsecondary--text\" style=\"top: 260px; height: 60px; left: 77.2727%; width: 19.3182%; background-color: rgb(153, 255, 153); border-color: rgb(153, 255, 153);\"><div class=\"pl-1\"><strong>Probabilités et stat. IV (TD) Gr.5B+6</strong><br>Mahieu Andre Laurent<br>A 018</div></div><div class=\"v-event-timed onsecondary--text\" style=\"top: 360px; height: 60px; left: 79.7727%; width: 17.1932%; background-color: rgb(255, 255, 204); border-color: rgb(255, 255, 204);\"><div class=\"pl-1\"><strong>Mathématiques II (TD) Gr.A7</strong><br>Doulazmi Mustapha<br>A 019</div></div><div class=\"v-event-timed onsecondary--text\" style=\"top: 120px; height: 60px; left: 81.8182%; width: 15.4545%; background-color: rgb(153, 255, 153); border-color: rgb(153, 255, 153);\"><div class=\"pl-1\"><strong>Mathématiques IV (TD) Gr.8B+9</strong><br>Atzenhoffer Jean-Philippe<br>A 022</div></div><div class=\"v-event-timed onsecondary--text\" style=\"top: 460px; height: 60px; left: 86.3636%; width: 13.6364%; background-color: rgb(255, 204, 255); border-color: rgb(255, 204, 255);\"><div class=\"pl-1\"><strong>Comptabilité des stés TD G1</strong><br>Walgenwitz Clara<br>A 020</div></div><div class=\"v-event-timed onsecondary--text\" style=\"top: 260px; height: 60px; left: 88.6364%; width: 11.3636%; background-color: rgb(153, 255, 153); border-color: rgb(153, 255, 153);\"><div class=\"pl-1\"><strong>Probabilités et stat. IV (TD) Gr.4+5A</strong><br>Soury Manel<br>A 017</div></div><div class=\"v-event-timed onsecondary--text\" style=\"top: 360px; height: 60px; left: 89.8864%; width: 10.1136%; background-color: rgb(255, 255, 204); border-color: rgb(255, 255, 204);\"><div class=\"pl-1\"><strong>Probabilités et stat. II (TD) Gr. A8 (LEA-ECO)</strong><br>Soury Manel<br>A 018</div></div><div class=\"v-event-timed onsecondary--text\" style=\"top: 120px; height: 60px; left: 90.9091%; width: 9.09091%; background-color: rgb(153, 255, 153); border-color: rgb(153, 255, 153);\"><div class=\"pl-1\"><strong>Macroéconomie III (TD) 11B+12</strong><br>Betti Thierry<br>A 019</div></div></div></div>'"
      ]
     },
     "execution_count": 6,
     "metadata": {},
     "output_type": "execute_result"
    }
   ],
   "source": [
    "# ça sera l'élément qu'on devra scraper\n",
    "today_events = driver.find_element(By.CLASS_NAME, 'v-calendar-daily__day.v-present').get_attribute('outerHTML')\n",
    "today_events"
   ]
  },
  {
   "cell_type": "code",
   "execution_count": 7,
   "id": "c201e845",
   "metadata": {},
   "outputs": [
    {
     "data": {
      "text/plain": [
       "'[\\' style=\"top: 40px; height: 80px; left: 0%; width: 14.1667%; background-color: rgb(255, 0, 0); border-color: rgb(255, 0, 0);\"><div class=\"pl-1\"><strong>Epreuve de substitution - Analyse de données</strong><br>Grammare Magali<br>A 021\\', \\' style=\"top: 120px; height: 80px; left: 0%; width: 14.1667%; background-color: rgb(153, 153, 255); border-color: rgb(153, 153, 255);\"><div class=\"pl-1\"><strong>Travail personnel - Q Alt</strong><br>A 027\\', \\' style=\"top: 240px; height: 80px; left: 0%; width: 14.1667%; background-color: rgb(255, 204, 204); border-color: rgb(255, 204, 204);\"><div class=\"pl-1\"><strong>Espagnol B-ES203 - CC intermédiaire - Présentiel</strong><br>Tejada Ana<br>A 020\\', \\' style=\"top: 320px; height: 80px; left: 0%; width: 14.1667%; background-color: rgb(153, 153, 255); border-color: rgb(153, 153, 255);\"><div class=\"pl-1\"><strong>Système d\\\\\\'info bases de données TD</strong><br>Meyer Lionel<br>A 020\\', \\' style=\"top: 400px; height: 80px; left: 0%; width: 14.1667%; background-color: rgb(255, 255, 0); border-color: rgb(255, 255, 0);\"><div class=\"pl-1\"><strong>Allemand renforcé - présentiel</strong><br>Cowderoy Natalia<br>A 016\\', \\' style=\"top: 440px; height: 60px; left: 5%; width: 17%; background-color: rgb(255, 255, 204); border-color: rgb(255, 255, 204);\"><div class=\"pl-1\"><strong>Probabilités et stat. II (TD) Gr. B6 (Cachan)</strong><br>Soury Manel<br>A 027\\', \\' style=\"top: 40px; height: 80px; left: 9.09091%; width: 15.4545%; background-color: rgb(255, 255, 255); border-color: rgb(255, 255, 255);\"><div class=\"pl-1\"><strong>Anglais B-AN203 - Présentiel</strong><br>Hely Paul<br>A 020\\', \\' style=\"top: 120px; height: 80px; left: 9.09091%; width: 15.4545%; background-color: rgb(255, 191, 94); border-color: rgb(255, 191, 94);\"><div class=\"pl-1\"><strong>Introduction à la finance</strong><br>Landagaray Patrice<br>A 021\\', \\' style=\"top: 240px; height: 80px; left: 9.09091%; width: 15.4545%; background-color: rgb(102, 204, 255); border-color: rgb(102, 204, 255);\"><div class=\"pl-1\"><strong>Espagnol: B-ES104 - présentiel</strong><br>Sainz De Baranda Marta<br>A 015\\', \\' style=\"top: 320px; height: 60px; left: 9.09091%; width: 15.4545%; background-color: rgb(153, 255, 153); border-color: rgb(153, 255, 153);\"><div class=\"pl-1\"><strong>Microéconomie III (TD) Gr.8B+9</strong><br>Liegey Maxime<br>A 024\\', \\' style=\"top: 380px; height: 60px; left: 9.09091%; width: 15.4545%; background-color: rgb(153, 255, 153); border-color: rgb(153, 255, 153);\"><div class=\"pl-1\"><strong>Mathématiques IV (TD) Gr.10+11A</strong><br>Atzenhoffer Jean-Philippe<br>A 024\\', \\' style=\"top: 160px; height: 60px; left: 14.0909%; width: 51.5152%; background-color: rgb(153, 255, 153); border-color: rgb(153, 255, 153);\"><div class=\"pl-1\"><strong>Probabilités et stat. IV (TD) Gr.14B+15</strong><br>Soury Manel<br>A 024\\', \\' style=\"top: 160px; height: 60px; left: 14.0909%; width: 51.5152%; background-color: rgb(153, 255, 153); border-color: rgb(153, 255, 153);\"><div class=\"pl-1\"><strong>Métiers de l\\\\\\'éco. (TD) Gr.4+5A</strong><br>Tapiero Marguerite<br>A 016\\', \\' style=\"top: 360px; height: 60px; left: 14.0909%; width: 17.1717%; background-color: rgb(255, 255, 204); border-color: rgb(255, 255, 204);\"><div class=\"pl-1\"><strong>Macroéconomie I (TD) Gr.A9</strong><br>Hambye Jérôme<br>A 027\\', \\' style=\"top: 360px; height: 60px; left: 14.0909%; width: 17.1717%; background-color: rgb(255, 255, 204); border-color: rgb(255, 255, 204);\"><div class=\"pl-1\"><strong>Probabilités et stat. II (TD) Gr. B8</strong><br>Wolff Arnaud<br>A 017\\', \\' style=\"top: 40px; height: 60px; left: 18.1818%; width: 15.4545%; background-color: rgb(153, 255, 153); border-color: rgb(153, 255, 153);\"><div class=\"pl-1\"><strong>Mathématiques IV (TD) Gr.1+2A</strong><br>Mercier Franck<br>A 018\\', \\' style=\"top: 100px; height: 60px; left: 18.1818%; width: 15.4545%; background-color: rgb(153, 255, 153); border-color: rgb(153, 255, 153);\"><div class=\"pl-1\"><strong>Microéconomie III (TD) Gr.13+14A</strong><br>Liegey Maxime<br>A 024\\', \\' style=\"top: 120px; height: 60px; left: 18.1818%; width: 15.4545%; background-color: rgb(255, 255, 204); border-color: rgb(255, 255, 204);\"><div class=\"pl-1\"><strong>Macroéconomie I (TD) Gr.B5 (ME)</strong><br>Metz Théo<br>A 015\\', \\' style=\"top: 130px; height: 80px; left: 18.1818%; width: 15.4545%; background-color: rgb(255, 102, 255); border-color: rgb(255, 102, 255);\"><div class=\"pl-1\"><strong>Economie industrielle II</strong><br>Maret-Leiber Isabelle<br>A 017\\', \\' style=\"top: 300px; height: 60px; left: 18.1818%; width: 15.4545%; background-color: rgb(255, 255, 255); border-color: rgb(255, 255, 255);\"><div class=\"pl-1\"><strong>TD Etrie II G8 AE</strong><br>Simon Agathe<br>A 021\\', \\' style=\"top: 390px; height: 60px; left: 18.1818%; width: 15.4545%; background-color: rgb(153, 255, 153); border-color: rgb(153, 255, 153);\"><div class=\"pl-1\"><strong>Microéconomie III (TD) Gr.2B+3</strong><br>Mitrouchev Ivan<br>A 015\\', \\' style=\"top: 450px; height: 60px; left: 18.5714%; width: 23.0714%; background-color: rgb(255, 255, 204); border-color: rgb(255, 255, 204);\"><div class=\"pl-1\"><strong>Macroéconomie I (TD) Gr.A1</strong><br>Hasni Riadh<br>A 015\\', \\' style=\"top: 240px; height: 60px; left: 20.4545%; width: 19.3182%; background-color: rgb(255, 255, 255); border-color: rgb(255, 255, 255);\"><div class=\"pl-1\"><strong>TD Etrie II G9 AE</strong><br>Simon Agathe<br>A 024\\', \\' style=\"top: 360px; height: 60px; left: 23.6364%; width: 16.2273%; background-color: rgb(255, 255, 204); border-color: rgb(255, 255, 204);\"><div class=\"pl-1\"><strong>Mathématiques II (TD) Gr.A4</strong><br>Ben Aziza Neofel<br>A 026\\', \\' style=\"top: 40px; height: 60px; left: 27.2727%; width: 15.4545%; background-color: rgb(153, 255, 153); border-color: rgb(153, 255, 153);\"><div class=\"pl-1\"><strong>Métiers de l\\\\\\'éco. (TD) Gr.13+14A</strong><br>Tapiero Marguerite<br>A 016\\', \\' style=\"top: 100px; height: 60px; left: 27.2727%; width: 15.4545%; background-color: rgb(153, 255, 153); border-color: rgb(153, 255, 153);\"><div class=\"pl-1\"><strong>Macroéconomie III (TD) Gr.1+2A</strong><br>Rastouil Jeremy<br>A 023\\', \\' style=\"top: 300px; height: 60px; left: 27.2727%; width: 15.4545%; background-color: rgb(255, 204, 255); border-color: rgb(255, 204, 255);\"><div class=\"pl-1\"><strong>TD Croissance G9 AE</strong><br>Rastouil Jeremy<br>A 019\\', \\' style=\"top: 420px; height: 60px; left: 31.8182%; width: 23.1818%; background-color: rgb(255, 255, 204); border-color: rgb(255, 255, 204);\"><div class=\"pl-1\"><strong>Mathématiques II (TD) Gr.A8 (LEA-ECO)</strong><br>Payen Marion<br>A 026\\', \\' style=\"top: 240px; height: 60px; left: 31.8182%; width: 19.3182%; background-color: rgb(255, 255, 255); border-color: rgb(255, 255, 255);\"><div class=\"pl-1\"><strong>TD Croissance G8 AE</strong><br>Rastouil Jeremy<br>A 022\\', \\' style=\"top: 40px; height: 60px; left: 36.3636%; width: 15.4545%; background-color: rgb(153, 255, 153); border-color: rgb(153, 255, 153);\"><div class=\"pl-1\"><strong>Macroéconomie III (TD) Gr.2B+3</strong><br>Rastouil Jeremy<br>A 015\\', \\' style=\"top: 100px; height: 60px; left: 36.3636%; width: 15.4545%; background-color: rgb(153, 255, 153); border-color: rgb(153, 255, 153);\"><div class=\"pl-1\"><strong>Mathématiques IV (TD) Gr.7+8A</strong><br>Mercier Franck<br>A 018\\', \\' style=\"top: 320px; height: 60px; left: 36.3636%; width: 15.4545%; background-color: rgb(153, 255, 153); border-color: rgb(153, 255, 153);\"><div class=\"pl-1\"><strong>Mathématiques IV (TD) Gr.5B+6</strong><br>Atzenhoffer Jean-Philippe<br>A 022\\', \\' style=\"top: 260px; height: 60px; left: 43.1818%; width: 19.3182%; background-color: rgb(153, 255, 153); border-color: rgb(153, 255, 153);\"><div class=\"pl-1\"><strong>Macroéconomie III (TD) 16 + EG Santé</strong><br>Frecheville Romane<br>A 027\\', \\' style=\"top: 60px; height: 60px; left: 45.4545%; width: 15.4545%; background-color: rgb(153, 255, 153); border-color: rgb(153, 255, 153);\"><div class=\"pl-1\"><strong>Microéconomie III (TD) Gr. 16 + EG Santé</strong><br>Mitrouchev Ivan<br>A 027\\', \\' style=\"top: 120px; height: 80px; left: 45.4545%; width: 15.4545%; background-color: rgb(255, 255, 255); border-color: rgb(255, 255, 255);\"><div class=\"pl-1\"><strong>Anglais B-AN204 - Présentiel</strong><br>Hely Paul<br>A 020\\', \\' style=\"top: 320px; height: 60px; left: 45.4545%; width: 15.4545%; background-color: rgb(153, 255, 153); border-color: rgb(153, 255, 153);\"><div class=\"pl-1\"><strong>Macroéconomie III (TD) Gr.LEA</strong><br>Jacob Eva<br>A 016\\', \\' style=\"top: 420px; height: 60px; left: 45.4545%; width: 23.1818%; background-color: rgb(255, 255, 204); border-color: rgb(255, 255, 204);\"><div class=\"pl-1\"><strong>Mathématiques II (TD) Gr.B8</strong><br>Doulazmi Mustapha<br>A 023\\', \\' style=\"top: 180px; height: 60px; left: 50.4545%; width: 18.5455%; background-color: rgb(153, 255, 153); border-color: rgb(153, 255, 153);\"><div class=\"pl-1\"><strong>Macroéconomie III (TD) Gr.7+8A</strong><br>Betti Thierry<br>A 018\\', \\' style=\"top: 60px; height: 60px; left: 54.5455%; width: 15.4545%; background-color: rgb(153, 255, 153); border-color: rgb(153, 255, 153);\"><div class=\"pl-1\"><strong>Probabilités et stat. IV (TD) Gr.11B+12</strong><br>Nafi Amir<br>A 019\\', \\' style=\"top: 120px; height: 60px; left: 54.5455%; width: 15.4545%; background-color: rgb(153, 255, 153); border-color: rgb(153, 255, 153);\"><div class=\"pl-1\"><strong>Probabilités et stat. IV (TD) Gr.10+11A</strong><br>Nafi Amir<br>A 025\\', \\' style=\"top: 260px; height: 60px; left: 54.5455%; width: 19.3182%; background-color: rgb(153, 255, 153); border-color: rgb(153, 255, 153);\"><div class=\"pl-1\"><strong>Macroéconomie III (TD) 14B+15</strong><br>Jacob Eva<br>A 025\\', \\' style=\"top: 320px; height: 60px; left: 54.5455%; width: 45.4545%; background-color: rgb(153, 255, 153); border-color: rgb(153, 255, 153);\"><div class=\"pl-1\"><strong>Microéconomie III (TD) Gr.10+11A</strong><br>Mitrouchev Ivan<br>A 015\\', \\' style=\"top: 420px; height: 60px; left: 59.0909%; width: 23.1818%; background-color: rgb(255, 255, 204); border-color: rgb(255, 255, 204);\"><div class=\"pl-1\"><strong>Mathématiques II (TD) Gr.A5</strong><br>Ben Aziza Neofel<br>A 019\\', \\' style=\"top: 360px; height: 60px; left: 59.5455%; width: 19.3182%; background-color: rgb(255, 255, 255); border-color: rgb(255, 255, 255);\"><div class=\"pl-1\"><strong>TD Croissance G10 EQ</strong><br>Rastouil Jeremy<br>A 025\\', \\' style=\"top: 80px; height: 120px; left: 63.6364%; width: 15.4545%; background-color: rgb(255, 128, 0); border-color: rgb(255, 128, 0);\"><div class=\"pl-1\"><strong>Marketing II G4 présentiel</strong><br>Stadge Marie<br>A 026\\', \\' style=\"top: 260px; height: 60px; left: 65.9091%; width: 19.3182%; background-color: rgb(153, 255, 153); border-color: rgb(153, 255, 153);\"><div class=\"pl-1\"><strong>Microéconomie III (TD) Gr.11B+12</strong><br>Liegey Maxime<br>A 023\\', \\' style=\"top: 360px; height: 60px; left: 69.6591%; width: 17.1932%; background-color: rgb(255, 255, 204); border-color: rgb(255, 255, 204);\"><div class=\"pl-1\"><strong>Comptabilité (TD) Gr.A2</strong><br>Ballahi M\\\\\\'Bark<br>A 023\\', \\' style=\"top: 100px; height: 60px; left: 72.7273%; width: 15.4545%; background-color: rgb(153, 255, 153); border-color: rgb(153, 255, 153);\"><div class=\"pl-1\"><strong>Métiers de l\\\\\\'éco. (TD) Gr.2B+3</strong><br>Tapiero Marguerite<br>A 016\\', \\' style=\"top: 440px; height: 60px; left: 72.7273%; width: 23.1818%; background-color: rgb(255, 204, 255); border-color: rgb(255, 204, 255);\"><div class=\"pl-1\"><strong>TD Croissance G11 EQ</strong><br>Rastouil Jeremy<br>A 025\\', \\' style=\"top: 260px; height: 60px; left: 77.2727%; width: 19.3182%; background-color: rgb(153, 255, 153); border-color: rgb(153, 255, 153);\"><div class=\"pl-1\"><strong>Probabilités et stat. IV (TD) Gr.5B+6</strong><br>Mahieu Andre Laurent<br>A 018\\', \\' style=\"top: 360px; height: 60px; left: 79.7727%; width: 17.1932%; background-color: rgb(255, 255, 204); border-color: rgb(255, 255, 204);\"><div class=\"pl-1\"><strong>Mathématiques II (TD) Gr.A7</strong><br>Doulazmi Mustapha<br>A 019\\', \\' style=\"top: 120px; height: 60px; left: 81.8182%; width: 15.4545%; background-color: rgb(153, 255, 153); border-color: rgb(153, 255, 153);\"><div class=\"pl-1\"><strong>Mathématiques IV (TD) Gr.8B+9</strong><br>Atzenhoffer Jean-Philippe<br>A 022\\', \\' style=\"top: 460px; height: 60px; left: 86.3636%; width: 13.6364%; background-color: rgb(255, 204, 255); border-color: rgb(255, 204, 255);\"><div class=\"pl-1\"><strong>Comptabilité des stés TD G1</strong><br>Walgenwitz Clara<br>A 020\\', \\' style=\"top: 260px; height: 60px; left: 88.6364%; width: 11.3636%; background-color: rgb(153, 255, 153); border-color: rgb(153, 255, 153);\"><div class=\"pl-1\"><strong>Probabilités et stat. IV (TD) Gr.4+5A</strong><br>Soury Manel<br>A 017\\', \\' style=\"top: 360px; height: 60px; left: 89.8864%; width: 10.1136%; background-color: rgb(255, 255, 204); border-color: rgb(255, 255, 204);\"><div class=\"pl-1\"><strong>Probabilités et stat. II (TD) Gr. A8 (LEA-ECO)</strong><br>Soury Manel<br>A 018\\', \\' style=\"top: 120px; height: 60px; left: 90.9091%; width: 9.09091%; background-color: rgb(153, 255, 153); border-color: rgb(153, 255, 153);\"><div class=\"pl-1\"><strong>Macroéconomie III (TD) 11B+12</strong><br>Betti Thierry<br>A 019\\']'"
      ]
     },
     "execution_count": 7,
     "metadata": {},
     "output_type": "execute_result"
    }
   ],
   "source": [
    "#séparer les évènements et les mettre dans une liste\n",
    "sep_events = []\n",
    "\n",
    "sep_events = re.findall('div class=\"v-event-timed onsecondary--text\"(.*?)</div></div>', today_events)\n",
    "sep_events= str(sep_events)\n",
    "sep_events"
   ]
  },
  {
   "cell_type": "code",
   "execution_count": 42,
   "id": "6cc96fcf",
   "metadata": {},
   "outputs": [
    {
     "data": {
      "text/plain": [
       "['A 021',\n",
       " 'A 027',\n",
       " 'A 020',\n",
       " 'A 020',\n",
       " 'A 016',\n",
       " 'A 027',\n",
       " 'A 020',\n",
       " 'A 021',\n",
       " 'A 015',\n",
       " 'A 024',\n",
       " 'A 024',\n",
       " 'A 024',\n",
       " 'A 016',\n",
       " 'A 027',\n",
       " 'A 017',\n",
       " 'A 018',\n",
       " 'A 024',\n",
       " 'A 015',\n",
       " 'A 017',\n",
       " 'A 021',\n",
       " 'A 015',\n",
       " 'A 015',\n",
       " 'A 024',\n",
       " 'A 026',\n",
       " 'A 016',\n",
       " 'A 023',\n",
       " 'A 019',\n",
       " 'A 026',\n",
       " 'A 022',\n",
       " 'A 015',\n",
       " 'A 018',\n",
       " 'A 022',\n",
       " 'A 027',\n",
       " 'A 027',\n",
       " 'A 020',\n",
       " 'A 016',\n",
       " 'A 023',\n",
       " 'A 018',\n",
       " 'A 019',\n",
       " 'A 025',\n",
       " 'A 025',\n",
       " 'A 015',\n",
       " 'A 019',\n",
       " 'A 025',\n",
       " 'A 026',\n",
       " 'A 023',\n",
       " 'A 023',\n",
       " 'A 016',\n",
       " 'A 025',\n",
       " 'A 018',\n",
       " 'A 019',\n",
       " 'A 022',\n",
       " 'A 020',\n",
       " 'A 017',\n",
       " 'A 018',\n",
       " 'A 019']"
      ]
     },
     "execution_count": 42,
     "metadata": {},
     "output_type": "execute_result"
    }
   ],
   "source": [
    "#récupérer toutes les salles\n",
    "rooms = re.findall('<br>(?=A )(.*?)\\'', sep_events)\n",
    "rooms"
   ]
  },
  {
   "cell_type": "code",
   "execution_count": 16,
   "id": "d8de6d19",
   "metadata": {},
   "outputs": [
    {
     "data": {
      "text/plain": [
       "56"
      ]
     },
     "execution_count": 16,
     "metadata": {},
     "output_type": "execute_result"
    }
   ],
   "source": [
    "#récupérer les valeurs pixels début pour chaque salle + convertir en valeur numérique\n",
    "top_pixels = re.findall('top: (.*?)px;', sep_events)\n",
    "top_pixels = [int(p) for p in top_pixels]\n",
    "top_pixels\n",
    "top_pixels"
   ]
  },
  {
   "cell_type": "code",
   "execution_count": 10,
   "id": "c2cf835a",
   "metadata": {},
   "outputs": [
    {
     "data": {
      "text/plain": [
       "[80,\n",
       " 80,\n",
       " 80,\n",
       " 80,\n",
       " 80,\n",
       " 60,\n",
       " 80,\n",
       " 80,\n",
       " 80,\n",
       " 60,\n",
       " 60,\n",
       " 60,\n",
       " 60,\n",
       " 60,\n",
       " 60,\n",
       " 60,\n",
       " 60,\n",
       " 60,\n",
       " 80,\n",
       " 60,\n",
       " 60,\n",
       " 60,\n",
       " 60,\n",
       " 60,\n",
       " 60,\n",
       " 60,\n",
       " 60,\n",
       " 60,\n",
       " 60,\n",
       " 60,\n",
       " 60,\n",
       " 60,\n",
       " 60,\n",
       " 60,\n",
       " 80,\n",
       " 60,\n",
       " 60,\n",
       " 60,\n",
       " 60,\n",
       " 60,\n",
       " 60,\n",
       " 60,\n",
       " 60,\n",
       " 60,\n",
       " 120,\n",
       " 60,\n",
       " 60,\n",
       " 60,\n",
       " 60,\n",
       " 60,\n",
       " 60,\n",
       " 60,\n",
       " 60,\n",
       " 60,\n",
       " 60,\n",
       " 60]"
      ]
     },
     "execution_count": 10,
     "metadata": {},
     "output_type": "execute_result"
    }
   ],
   "source": [
    "#récupérer les valeurs pixels de durée pour chaque salle + convertri en valeur numérique\n",
    "height_pixels = re.findall('height: (.*?)px;', sep_events)\n",
    "height_pixels = [int(p) for p in height_pixels]\n",
    "height_pixels"
   ]
  },
  {
   "cell_type": "code",
   "execution_count": 19,
   "id": "3e65f49e",
   "metadata": {},
   "outputs": [
    {
     "data": {
      "text/plain": [
       "['08:00',\n",
       " '10:00',\n",
       " '13:00',\n",
       " '15:00',\n",
       " '17:00',\n",
       " '18:00',\n",
       " '08:00',\n",
       " '10:00',\n",
       " '13:00',\n",
       " '15:00',\n",
       " '16:30',\n",
       " '11:00',\n",
       " '11:00',\n",
       " '16:00',\n",
       " '16:00',\n",
       " '08:00',\n",
       " '09:30',\n",
       " '10:00',\n",
       " '10:15',\n",
       " '14:30',\n",
       " '16:45',\n",
       " '18:15',\n",
       " '13:00',\n",
       " '16:00',\n",
       " '08:00',\n",
       " '09:30',\n",
       " '14:30',\n",
       " '17:30',\n",
       " '13:00',\n",
       " '08:00',\n",
       " '09:30',\n",
       " '15:00',\n",
       " '13:30',\n",
       " '08:30',\n",
       " '10:00',\n",
       " '15:00',\n",
       " '17:30',\n",
       " '11:30',\n",
       " '08:30',\n",
       " '10:00',\n",
       " '13:30',\n",
       " '15:00',\n",
       " '17:30',\n",
       " '16:00',\n",
       " '09:00',\n",
       " '13:30',\n",
       " '16:00',\n",
       " '09:30',\n",
       " '18:00',\n",
       " '13:30',\n",
       " '16:00',\n",
       " '10:00',\n",
       " '18:30',\n",
       " '13:30',\n",
       " '16:00',\n",
       " '10:00']"
      ]
     },
     "execution_count": 19,
     "metadata": {},
     "output_type": "execute_result"
    }
   ],
   "source": [
    "#### DÉBUT en format H:M ####\n",
    "occupation_start_numbers = [(7 + ((p / 20) * 0.5)) * 60 for p in top_pixels]\n",
    "df1 = pd.DataFrame({'start': occupation_start_numbers})\n",
    "df1 = pd.to_datetime(df1.start, unit='m').dt.strftime('%H:%M')\n",
    "occupation_start_in_hours = df1.values.tolist()\n",
    "occupation_start_in_hours"
   ]
  },
  {
   "cell_type": "code",
   "execution_count": 13,
   "id": "64c43d6c",
   "metadata": {},
   "outputs": [
    {
     "data": {
      "text/plain": [
       "[120.0,\n",
       " 120.0,\n",
       " 120.0,\n",
       " 120.0,\n",
       " 120.0,\n",
       " 90.0,\n",
       " 120.0,\n",
       " 120.0,\n",
       " 120.0,\n",
       " 90.0,\n",
       " 90.0,\n",
       " 90.0,\n",
       " 90.0,\n",
       " 90.0,\n",
       " 90.0,\n",
       " 90.0,\n",
       " 90.0,\n",
       " 90.0,\n",
       " 120.0,\n",
       " 90.0,\n",
       " 90.0,\n",
       " 90.0,\n",
       " 90.0,\n",
       " 90.0,\n",
       " 90.0,\n",
       " 90.0,\n",
       " 90.0,\n",
       " 90.0,\n",
       " 90.0,\n",
       " 90.0,\n",
       " 90.0,\n",
       " 90.0,\n",
       " 90.0,\n",
       " 90.0,\n",
       " 120.0,\n",
       " 90.0,\n",
       " 90.0,\n",
       " 90.0,\n",
       " 90.0,\n",
       " 90.0,\n",
       " 90.0,\n",
       " 90.0,\n",
       " 90.0,\n",
       " 90.0,\n",
       " 180.0,\n",
       " 90.0,\n",
       " 90.0,\n",
       " 90.0,\n",
       " 90.0,\n",
       " 90.0,\n",
       " 90.0,\n",
       " 90.0,\n",
       " 90.0,\n",
       " 90.0,\n",
       " 90.0,\n",
       " 90.0]"
      ]
     },
     "execution_count": 13,
     "metadata": {},
     "output_type": "execute_result"
    }
   ],
   "source": [
    "#convertir les pixels en minutes (DURÉES)\n",
    "occupation_duration = [(((p / 20) * 0.5) * 60) for p in height_pixels]\n",
    "occupation_duration"
   ]
  },
  {
   "cell_type": "code",
   "execution_count": 14,
   "id": "083302e7",
   "metadata": {},
   "outputs": [
    {
     "data": {
      "text/plain": [
       "['02:00',\n",
       " '02:00',\n",
       " '02:00',\n",
       " '02:00',\n",
       " '02:00',\n",
       " '01:30',\n",
       " '02:00',\n",
       " '02:00',\n",
       " '02:00',\n",
       " '01:30',\n",
       " '01:30',\n",
       " '01:30',\n",
       " '01:30',\n",
       " '01:30',\n",
       " '01:30',\n",
       " '01:30',\n",
       " '01:30',\n",
       " '01:30',\n",
       " '02:00',\n",
       " '01:30',\n",
       " '01:30',\n",
       " '01:30',\n",
       " '01:30',\n",
       " '01:30',\n",
       " '01:30',\n",
       " '01:30',\n",
       " '01:30',\n",
       " '01:30',\n",
       " '01:30',\n",
       " '01:30',\n",
       " '01:30',\n",
       " '01:30',\n",
       " '01:30',\n",
       " '01:30',\n",
       " '02:00',\n",
       " '01:30',\n",
       " '01:30',\n",
       " '01:30',\n",
       " '01:30',\n",
       " '01:30',\n",
       " '01:30',\n",
       " '01:30',\n",
       " '01:30',\n",
       " '01:30',\n",
       " '03:00',\n",
       " '01:30',\n",
       " '01:30',\n",
       " '01:30',\n",
       " '01:30',\n",
       " '01:30',\n",
       " '01:30',\n",
       " '01:30',\n",
       " '01:30',\n",
       " '01:30',\n",
       " '01:30',\n",
       " '01:30']"
      ]
     },
     "execution_count": 14,
     "metadata": {},
     "output_type": "execute_result"
    }
   ],
   "source": [
    "#### DURÉES en format H:M ####\n",
    "df = pd.DataFrame({'duration': occupation_duration})\n",
    "df = pd.to_datetime(df.duration, unit='m').dt.strftime('%H:%M')\n",
    "occupation_duration_in_hours = df.values.tolist()\n",
    "occupation_duration_in_hours"
   ]
  },
  {
   "cell_type": "code",
   "execution_count": 40,
   "id": "4acfe2d2",
   "metadata": {},
   "outputs": [
    {
     "data": {
      "text/plain": [
       "['10:00',\n",
       " '12:00',\n",
       " '15:00',\n",
       " '17:00',\n",
       " '19:00',\n",
       " '19:30',\n",
       " '10:00',\n",
       " '12:00',\n",
       " '15:00',\n",
       " '16:30',\n",
       " '18:00',\n",
       " '12:30',\n",
       " '12:30',\n",
       " '17:30',\n",
       " '17:30',\n",
       " '09:30',\n",
       " '11:00',\n",
       " '11:30',\n",
       " '12:15',\n",
       " '16:00',\n",
       " '18:15',\n",
       " '19:45',\n",
       " '14:30',\n",
       " '17:30',\n",
       " '09:30',\n",
       " '11:00',\n",
       " '16:00',\n",
       " '19:00',\n",
       " '14:30',\n",
       " '09:30',\n",
       " '11:00',\n",
       " '16:30',\n",
       " '15:00',\n",
       " '10:00',\n",
       " '12:00',\n",
       " '16:30',\n",
       " '19:00',\n",
       " '13:00',\n",
       " '10:00',\n",
       " '11:30',\n",
       " '15:00',\n",
       " '16:30',\n",
       " '19:00',\n",
       " '17:30',\n",
       " '12:00',\n",
       " '15:00',\n",
       " '17:30',\n",
       " '11:00',\n",
       " '19:30',\n",
       " '15:00',\n",
       " '17:30',\n",
       " '11:30',\n",
       " '20:00',\n",
       " '15:00',\n",
       " '17:30',\n",
       " '11:30']"
      ]
     },
     "execution_count": 40,
     "metadata": {},
     "output_type": "execute_result"
    }
   ],
   "source": [
    "#### HEURE DE FIN en format H:M ####\n",
    "occupation_end_in_minutes = [x + y for x, y in zip(occupation_start_numbers, occupation_duration)]\n",
    "occupation_end_in_minutes\n",
    "\n",
    "df2 = pd.DataFrame({'end': occupation_end_in_minutes})\n",
    "df2 = pd.to_datetime(df2.end, unit='m').dt.strftime('%H:%M')\n",
    "occupation_end_in_hours = df2.values.tolist()\n",
    "occupation_end_in_hours"
   ]
  },
  {
   "cell_type": "code",
   "execution_count": 102,
   "id": "08b0a825",
   "metadata": {},
   "outputs": [
    {
     "data": {
      "text/plain": [
       "{'A 021': ['14:30', '16:00'],\n",
       " 'A 027': ['08:30', '10:00'],\n",
       " 'A 020': ['18:30', '20:00'],\n",
       " 'A 016': ['09:30', '11:00'],\n",
       " 'A 015': ['15:00', '16:30'],\n",
       " 'A 024': ['13:00', '14:30'],\n",
       " 'A 017': ['13:30', '15:00'],\n",
       " 'A 018': ['16:00', '17:30'],\n",
       " 'A 026': ['09:00', '12:00'],\n",
       " 'A 023': ['16:00', '17:30'],\n",
       " 'A 019': ['10:00', '11:30'],\n",
       " 'A 022': ['10:00', '11:30'],\n",
       " 'A 025': ['18:00', '19:30']}"
      ]
     },
     "execution_count": 102,
     "metadata": {},
     "output_type": "execute_result"
    }
   ],
   "source": [
    "#### Créer le dict avec toutes les infos qui nous intéressent (marche pas pour l'instant) ####\n",
    "start_end = [list(t) for t in zip(occupation_start_in_hours, occupation_end_in_hours)]\n",
    "dict_content = {x : y for x, y in zip(rooms, start_end)}\n",
    "dict_content"
   ]
  },
  {
   "cell_type": "code",
   "execution_count": 33,
   "id": "8f106a38",
   "metadata": {},
   "outputs": [],
   "source": [
    "#Déselection des salles \n",
    "compteur=1\n",
    "while compteur<14:\n",
    "    driver.find_element(By.CLASS_NAME, 'v-list-item__action.my-0.mr-3').click()\n",
    "    compteur+=1\n",
    "    time.sleep(0.6)"
   ]
  },
  {
   "cell_type": "code",
   "execution_count": null,
   "id": "1e08956c",
   "metadata": {},
   "outputs": [],
   "source": []
  },
  {
   "cell_type": "code",
   "execution_count": null,
   "id": "d94d66c7",
   "metadata": {},
   "outputs": [],
   "source": [
    "driver.close()"
   ]
  }
 ],
 "metadata": {
  "kernelspec": {
   "display_name": "Python 3 (ipykernel)",
   "language": "python",
   "name": "python3"
  },
  "language_info": {
   "codemirror_mode": {
    "name": "ipython",
    "version": 3
   },
   "file_extension": ".py",
   "mimetype": "text/x-python",
   "name": "python",
   "nbconvert_exporter": "python",
   "pygments_lexer": "ipython3",
   "version": "3.9.7"
  }
 },
 "nbformat": 4,
 "nbformat_minor": 5
}
